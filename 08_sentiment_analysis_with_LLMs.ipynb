{
  "nbformat": 4,
  "nbformat_minor": 0,
  "metadata": {
    "colab": {
      "provenance": [],
      "gpuType": "T4",
      "authorship_tag": "ABX9TyNLBTYRbmycPp3K7WqgAeen",
      "include_colab_link": true
    },
    "kernelspec": {
      "name": "python3",
      "display_name": "Python 3"
    },
    "language_info": {
      "name": "python"
    },
    "accelerator": "GPU"
  },
  "cells": [
    {
      "cell_type": "markdown",
      "metadata": {
        "id": "view-in-github",
        "colab_type": "text"
      },
      "source": [
        "<a href=\"https://colab.research.google.com/github/tomonari-masada/course2024-nlp/blob/main/08_sentiment_analysis_with_LLMs.ipynb\" target=\"_parent\"><img src=\"https://colab.research.google.com/assets/colab-badge.svg\" alt=\"Open In Colab\"/></a>"
      ]
    },
    {
      "cell_type": "markdown",
      "source": [
        "# LLMによる感情分析"
      ],
      "metadata": {
        "id": "s7UHVLvsl89T"
      }
    },
    {
      "cell_type": "markdown",
      "source": [
        "## 今日の目的\n",
        "* いまどのくらい手軽にLLMを使えるようになっているかを、とりあえず体感する。\n",
        "* 技術的な詳細は次回以降学んでいくことにして、とにかく使ってみる。"
      ],
      "metadata": {
        "id": "7HPNt4EWmD-Y"
      }
    },
    {
      "cell_type": "markdown",
      "source": [
        "## 今日の内容\n",
        "* 今日は、WRIMEというデータセットを使って、LLMに感情分析させてみる。\n",
        "* 感情分析とは、テキストが表す感情を分析するタスク。\n",
        "* 今回は、ポジティブな感情か、ネガティブな感情かの2値分類タスクとして解く。\n",
        "* LLMとしては`elyza/Llama-3-ELYZA-JP-8B`を使う。\n",
        "  * プロンプトを使ったテキスト生成によって感情分析の問題を解く。"
      ],
      "metadata": {
        "id": "7PtjYmygnqm1"
      }
    },
    {
      "cell_type": "markdown",
      "source": [
        "* **ランタイムのタイプをGPUに設定しておく。**"
      ],
      "metadata": {
        "id": "R0tqelrXmhun"
      }
    },
    {
      "cell_type": "markdown",
      "source": [
        "## インストール\n",
        "* Hugging Faceの各種ライブラリを使えば、簡単なコードを書くだけでLLMを使える。"
      ],
      "metadata": {
        "id": "3GIHAP_Rrgkp"
      }
    },
    {
      "cell_type": "code",
      "source": [
        "!pip install -U transformers datasets bitsandbytes accelerate"
      ],
      "metadata": {
        "id": "x-mjfVLBycTx"
      },
      "execution_count": null,
      "outputs": []
    },
    {
      "cell_type": "markdown",
      "source": [
        "## 準備"
      ],
      "metadata": {
        "id": "eX6zotwEoK2r"
      }
    },
    {
      "cell_type": "code",
      "source": [
        "!nvidia-smi"
      ],
      "metadata": {
        "id": "whM-m4cqzdDt"
      },
      "execution_count": null,
      "outputs": []
    },
    {
      "cell_type": "code",
      "source": [
        "from tqdm.auto import tqdm\n",
        "import numpy as np\n",
        "import torch\n",
        "import torch.nn as nn\n",
        "from datasets import load_dataset\n",
        "from transformers import (\n",
        "    set_seed,\n",
        "    BitsAndBytesConfig,\n",
        "    AutoTokenizer,\n",
        "    AutoModelForCausalLM,\n",
        "    TrainingArguments,\n",
        ")\n",
        "\n",
        "set_seed(123)"
      ],
      "metadata": {
        "id": "9A6Euk7gmXNv"
      },
      "execution_count": null,
      "outputs": []
    },
    {
      "cell_type": "markdown",
      "source": [
        "## データセット\n",
        "* WRIME: 主観と客観の感情分析データセット\n",
        "  * https://github.com/ids-cv/wrime\n",
        "* Hugging Faceのdatasets hubに登録されているので、簡単に使える。\n",
        "  * https://huggingface.co/datasets/shunk031/wrime"
      ],
      "metadata": {
        "id": "ELjoQ6q_oTAK"
      }
    },
    {
      "cell_type": "markdown",
      "source": [
        "* `ver2`の方を使う。"
      ],
      "metadata": {
        "id": "z_CjP_rvdASJ"
      }
    },
    {
      "cell_type": "code",
      "source": [
        "dataset = load_dataset(\n",
        "    \"shunk031/wrime\",\n",
        "    \"ver2\",\n",
        "    trust_remote_code=True,\n",
        ")"
      ],
      "metadata": {
        "id": "4A0Qp1JsoRaE"
      },
      "execution_count": null,
      "outputs": []
    },
    {
      "cell_type": "code",
      "source": [
        "dataset"
      ],
      "metadata": {
        "id": "julWQgfCox2f"
      },
      "execution_count": null,
      "outputs": []
    },
    {
      "cell_type": "markdown",
      "source": [
        "## 3値分類問題への単純化"
      ],
      "metadata": {
        "id": "1SWy219ERwHg"
      }
    },
    {
      "cell_type": "markdown",
      "source": [
        "* ラベルから感情を表すテキストへのマッピングをおこなうリストを作っておく。\n",
        "* 元のデータでは、-2, -1, 0, 1, 2の順でネガティブからよりポジティブになる。\n",
        "  * 0がニュートラル。\n",
        "* それぞれの感情をどのような単語で表せば良いかについて、特に正解はない。"
      ],
      "metadata": {
        "id": "dhn-e_k7hqDU"
      }
    },
    {
      "cell_type": "code",
      "source": [
        "label_to_text = {\n",
        "    -2: \"ネガティブ\",\n",
        "    -1: \"ネガティブ\",\n",
        "    0: \"ニュートラル\",\n",
        "    1: \"ポジティブ\",\n",
        "    2: \"ポジティブ\",\n",
        "}"
      ],
      "metadata": {
        "id": "6lfRDvQ0fTBZ"
      },
      "execution_count": null,
      "outputs": []
    },
    {
      "cell_type": "markdown",
      "source": [
        "## LLM\n"
      ],
      "metadata": {
        "id": "ACC0ED27qZtV"
      }
    },
    {
      "cell_type": "markdown",
      "source": [
        "* 今回は、elyza/Llama-3-ELYZA-JP-8Bを使う。\n",
        "  * https://huggingface.co/elyza/Llama-3-ELYZA-JP-8B\n",
        "* Google Colab無料版では大きすぎて使えない。\n",
        "* そこで、量子化して使う。"
      ],
      "metadata": {
        "id": "kIsSj4bzq7Cl"
      }
    },
    {
      "cell_type": "code",
      "source": [
        "model_name = \"elyza/Llama-3-ELYZA-JP-8B\"\n",
        "\n",
        "tokenizer = AutoTokenizer.from_pretrained(model_name)\n",
        "\n",
        "bnb_config = BitsAndBytesConfig(\n",
        "    load_in_4bit=True,\n",
        "    bnb_4bit_quant_type=\"nf4\",\n",
        "    bnb_4bit_compute_dtype=torch.bfloat16,\n",
        "    bnb_4bit_use_double_quant=True,\n",
        "    bnb_4bit_quant_storage=torch.bfloat16,\n",
        ")\n",
        "\n",
        "model = AutoModelForCausalLM.from_pretrained(\n",
        "    model_name,\n",
        "    quantization_config=bnb_config,\n",
        "    torch_dtype=torch.bfloat16,\n",
        "    low_cpu_mem_usage=True,\n",
        ").eval()"
      ],
      "metadata": {
        "id": "PYR1TtgLrGcv"
      },
      "execution_count": null,
      "outputs": []
    },
    {
      "cell_type": "code",
      "source": [
        "model"
      ],
      "metadata": {
        "id": "lfvv_NSCok2s"
      },
      "execution_count": null,
      "outputs": []
    },
    {
      "cell_type": "markdown",
      "source": [
        "### In-context learningを試す"
      ],
      "metadata": {
        "id": "0UyMWuYsp3uw"
      }
    },
    {
      "cell_type": "markdown",
      "source": [
        "* 対義語を答えさせてみる。"
      ],
      "metadata": {
        "id": "BUANLH-eqAOF"
      }
    },
    {
      "cell_type": "code",
      "source": [
        "text = \"Q:高い\\nA:低い\\n\\nQ:大きい\\nA:小さい\\n\\nQ:狭い\\nA:広い\\n\\nQ:少ない\\nA:多い\\n\\nQ:速い\\nA:遅い\\n\\nQ:嬉しい\\nA:\"\n",
        "print(text)"
      ],
      "metadata": {
        "id": "vtBg83ARo4eT"
      },
      "execution_count": null,
      "outputs": []
    },
    {
      "cell_type": "code",
      "source": [
        "token_ids = tokenizer.encode(text, return_tensors=\"pt\")\n",
        "print(token_ids)"
      ],
      "metadata": {
        "id": "YFj34j7IpWUC"
      },
      "execution_count": null,
      "outputs": []
    },
    {
      "cell_type": "code",
      "source": [
        "with torch.no_grad():\n",
        "  output_ids = model.generate(\n",
        "      input_ids=token_ids.to(model.device),\n",
        "      max_new_tokens=10,\n",
        "  )\n",
        "print(output_ids)"
      ],
      "metadata": {
        "id": "2sOeyp3cpear"
      },
      "execution_count": null,
      "outputs": []
    },
    {
      "cell_type": "code",
      "source": [
        "output = tokenizer.decode(\n",
        "    output_ids.tolist()[0][token_ids.size(1):], skip_special_tokens=True\n",
        ")\n",
        "print(output)"
      ],
      "metadata": {
        "id": "Ho9b17FFpuJ9"
      },
      "execution_count": null,
      "outputs": []
    },
    {
      "cell_type": "markdown",
      "source": [
        "## プロンプト作成用のヘルパ関数"
      ],
      "metadata": {
        "id": "c33BfNxjypMV"
      }
    },
    {
      "cell_type": "code",
      "source": [
        "DEFAULT_SYSTEM_PROMPT = \"あなたは誠実で優秀な日本人のアシスタントです。特に指示が無い場合は、常に日本語で回答してください。\"\n",
        "\n",
        "MY_PROMPT = \"次の文章はどのような感情を表していますか。¥nポジティブ、ネガティブ、ニュートラルのいずれかで答えてください。¥n\"\n",
        "\n",
        "def make_input_sequence(text):\n",
        "  messages = [\n",
        "      {\"role\": \"system\", \"content\": DEFAULT_SYSTEM_PROMPT},\n",
        "      {\"role\": \"user\", \"content\": MY_PROMPT + text + \"¥n答え:\"},\n",
        "  ]\n",
        "  prompt = tokenizer.apply_chat_template(\n",
        "      messages,\n",
        "      tokenize=False,\n",
        "      add_generation_prompt=True\n",
        "  )\n",
        "  token_ids = tokenizer.encode(\n",
        "      prompt, add_special_tokens=False, return_tensors=\"pt\"\n",
        "  )\n",
        "  return token_ids"
      ],
      "metadata": {
        "id": "jcI9Fsrtco0M"
      },
      "execution_count": null,
      "outputs": []
    },
    {
      "cell_type": "code",
      "source": [
        "token_ids = make_input_sequence(dataset[\"train\"][\"sentence\"][0])\n",
        "token_ids"
      ],
      "metadata": {
        "id": "T4H03CJDg8Oj"
      },
      "execution_count": null,
      "outputs": []
    },
    {
      "cell_type": "code",
      "source": [
        "print(tokenizer.decode(token_ids[0]))"
      ],
      "metadata": {
        "id": "_yfnNdWhev0E"
      },
      "execution_count": null,
      "outputs": []
    },
    {
      "cell_type": "markdown",
      "source": [
        "## 感情分析を行うヘルパ関数"
      ],
      "metadata": {
        "id": "6PahFnk2z-lU"
      }
    },
    {
      "cell_type": "code",
      "source": [
        "def sentiment_analysis(text):\n",
        "  token_ids = make_input_sequence(text)\n",
        "  with torch.no_grad():\n",
        "    output_ids = model.generate(\n",
        "        input_ids=token_ids.to(model.device),\n",
        "        max_new_tokens=10,\n",
        "    )\n",
        "  return tokenizer.decode(\n",
        "      output_ids.tolist()[0][token_ids.size(1):], skip_special_tokens=True\n",
        "  )"
      ],
      "metadata": {
        "id": "aOAAiGFMeSU8"
      },
      "execution_count": null,
      "outputs": []
    },
    {
      "cell_type": "code",
      "source": [
        "sentiment_analysis(dataset[\"train\"][\"sentence\"][0])"
      ],
      "metadata": {
        "id": "pZLY2lMfi9XZ"
      },
      "execution_count": null,
      "outputs": []
    },
    {
      "cell_type": "code",
      "source": [
        "print(label_to_text[dataset[\"train\"][0][\"avg_readers\"][\"sentiment\"]])"
      ],
      "metadata": {
        "id": "oxgE9qbAfgNg"
      },
      "execution_count": null,
      "outputs": []
    },
    {
      "cell_type": "markdown",
      "source": [
        "### 感情分析の実行"
      ],
      "metadata": {
        "id": "QRYi_49i1Gdt"
      }
    },
    {
      "cell_type": "code",
      "execution_count": null,
      "metadata": {
        "id": "KKPWp6jdW9fF"
      },
      "outputs": [],
      "source": [
        "for _ in range(10):\n",
        "  i = np.random.randint(len(dataset[\"train\"]))\n",
        "  print(f'[{i}]' + '-'*80)\n",
        "  text = dataset[\"train\"][\"sentence\"][i]\n",
        "  print(f\"text:{text}\")\n",
        "  prediction = sentiment_analysis(text)\n",
        "  ground_truth = dataset[\"train\"][i][\"avg_readers\"][\"sentiment\"]\n",
        "  print(f\"prediction:{prediction}\")\n",
        "  print(f\"ground truth:{label_to_text[ground_truth]}\")\n",
        "  print('-'*80)"
      ]
    },
    {
      "cell_type": "markdown",
      "source": [
        "# 課題\n",
        "* LLMにもっとうまく感情分析をさせるプロンプトを考えてみよう。"
      ],
      "metadata": {
        "id": "-cXKf5dF0vRp"
      }
    },
    {
      "cell_type": "code",
      "source": [],
      "metadata": {
        "id": "iUXcB4axyCQO"
      },
      "execution_count": null,
      "outputs": []
    }
  ]
}