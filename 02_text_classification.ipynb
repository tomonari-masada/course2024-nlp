{
  "cells": [
    {
      "cell_type": "markdown",
      "metadata": {
        "id": "view-in-github",
        "colab_type": "text"
      },
      "source": [
        "<a href=\"https://colab.research.google.com/github/tomonari-masada/course2024-nlp/blob/main/02_text_classification.ipynb\" target=\"_parent\"><img src=\"https://colab.research.google.com/assets/colab-badge.svg\" alt=\"Open In Colab\"/></a>"
      ]
    },
    {
      "cell_type": "markdown",
      "metadata": {
        "id": "W-w8jUVl2szF"
      },
      "source": [
        "# BoWによるテキスト分類\n",
        "* BoWでも良い性能を出せることが多い。\n",
        "  * LLMを使って文書分類するときは、BoW+SVMの性能と比較した方が良い。\n",
        "  * なぜなら、分類性能に大きな差がつかないことも、しばしばあるので。"
      ]
    },
    {
      "cell_type": "markdown",
      "source": [
        "## 準備"
      ],
      "metadata": {
        "id": "BBEuawhLkvNY"
      }
    },
    {
      "cell_type": "markdown",
      "metadata": {
        "id": "TU529kZR2szH"
      },
      "source": [
        "### spaCyの最小限の機能のインストール"
      ]
    },
    {
      "cell_type": "markdown",
      "metadata": {
        "id": "FnIyf5Kb2szI"
      },
      "source": [
        "* 英語だけ扱えるようになる。"
      ]
    },
    {
      "cell_type": "code",
      "execution_count": null,
      "metadata": {
        "id": "k_97cAWK2szI"
      },
      "outputs": [],
      "source": [
        "#!pip install -U spacy\n",
        "!python -m spacy download en_core_web_sm"
      ]
    },
    {
      "cell_type": "markdown",
      "metadata": {
        "id": "wIIy7LnT2szI"
      },
      "source": [
        "### spaCyの日本語形態素解析器のインストール\n",
        "  * Sudachiという形態素解析器が使えるようになる。"
      ]
    },
    {
      "cell_type": "code",
      "execution_count": null,
      "metadata": {
        "id": "H3RW3h742szJ"
      },
      "outputs": [],
      "source": [
        "!python -m spacy download ja_core_news_sm"
      ]
    },
    {
      "cell_type": "markdown",
      "source": [
        "### datasetsのインストール"
      ],
      "metadata": {
        "id": "U5e5bWUzjruu"
      }
    },
    {
      "cell_type": "code",
      "source": [
        "!pip install datasets"
      ],
      "metadata": {
        "id": "MVfk5yJUe0sX"
      },
      "execution_count": null,
      "outputs": []
    },
    {
      "cell_type": "markdown",
      "source": [
        "### 乱数のシードの設定\n",
        "* transformersのset_seedを使うと便利。"
      ],
      "metadata": {
        "id": "Q_nAp4cEjbro"
      }
    },
    {
      "cell_type": "code",
      "source": [
        "from transformers import set_seed\n",
        "\n",
        "set_seed(0)"
      ],
      "metadata": {
        "id": "BVUrXVJpjWlG"
      },
      "execution_count": null,
      "outputs": []
    },
    {
      "cell_type": "markdown",
      "metadata": {
        "id": "xg1JBgXU2szJ"
      },
      "source": [
        "## データセットの取得"
      ]
    },
    {
      "cell_type": "markdown",
      "source": [
        "* ライブドアニュースコーパスのタイトルを使う。"
      ],
      "metadata": {
        "id": "H1meXE4wlMA5"
      }
    },
    {
      "cell_type": "code",
      "execution_count": null,
      "metadata": {
        "id": "Ma1dUc8r2szJ"
      },
      "outputs": [],
      "source": [
        "from datasets import load_dataset\n",
        "\n",
        "ds = load_dataset(\n",
        "    \"shunk031/livedoor-news-corpus\",\n",
        "    train_ratio=0.8,\n",
        "    val_ratio=0.1,\n",
        "    test_ratio=0.1,\n",
        "    random_state=42,\n",
        "    shuffle=True,\n",
        "    trust_remote_code=True,\n",
        ")"
      ]
    },
    {
      "cell_type": "code",
      "source": [
        "ds.save_to_disk(\"livedoor_ds\")"
      ],
      "metadata": {
        "colab": {
          "base_uri": "https://localhost:8080/",
          "height": 113,
          "referenced_widgets": [
            "12db09a073a845f2933455a0ce1fd030",
            "861578c6d47e4c1e93987fe0614428b3",
            "d4a20c07690843dab2eb1b34e1bcf5aa",
            "77cdb418114f4a0ebb75c753ee00ba76",
            "76b3fc1b7d2d4e5b9d248a946e0583f9",
            "4f09b343a36b4cdab93f87e34badd5e2",
            "09ceeb3543a24ceb9f8f105a10373c0f",
            "43658230822443dbaa4d8e4e10014df0",
            "0e93b7e8c0704926af3bc965b35e0bf5",
            "91bf248c81aa4a8da5f904f3c54c3b13",
            "155ae02766f8416db1c0ff74fa9c8ec4",
            "0d8b5d176c4f4dba8aa219abd1ac8327",
            "73b1cd7c6273496caefcf8cf132d5c46",
            "9038e3c517a245768e88fca1ec2f1dca",
            "f389a5492a2e426da866bcebacacefee",
            "7250b57621df47e28e22f638875a9a79",
            "486ed31ad03645eb83f628e5761a677d",
            "49ec8178325247ed946f3f0dd8dc877c",
            "88d18dc7e3024842b6689e21af233f7f",
            "75443275ff1a41279992cd53d4a06da3",
            "1845ff0bf7ec462bba399e84b00c5acd",
            "2797687de6ce43f9b7c990892ddfb81a",
            "f86114f5d9ef401ea0326405ea3cce69",
            "1dce2b42329e4a238ac4d927176c409a",
            "87e106ac9a024c0cb78532178e3d6b61",
            "f17be30b14774ff89972006a6d40842b",
            "b6970808f92c45ce857255e89d55ccb5",
            "9b097a7fdaaf43aa82aea63d2b9b4567",
            "1621cffc7cde4bb68541f4dcde0523d8",
            "78b9c4020c6047cc8798536a5bcf2b13",
            "4896e0d5fda64678aa32937e8b14841b",
            "6cfe1be812b748ecacdb4651232026ae",
            "1340cf6aad874e269d98c07d1066edf1"
          ]
        },
        "id": "3Px5BTuGfcjf",
        "outputId": "b2b8c2f6-b8fb-4539-cbb0-2231e14118d7"
      },
      "execution_count": 33,
      "outputs": [
        {
          "output_type": "display_data",
          "data": {
            "text/plain": [
              "Saving the dataset (0/1 shards):   0%|          | 0/5894 [00:00<?, ? examples/s]"
            ],
            "application/vnd.jupyter.widget-view+json": {
              "version_major": 2,
              "version_minor": 0,
              "model_id": "12db09a073a845f2933455a0ce1fd030"
            }
          },
          "metadata": {}
        },
        {
          "output_type": "display_data",
          "data": {
            "text/plain": [
              "Saving the dataset (0/1 shards):   0%|          | 0/737 [00:00<?, ? examples/s]"
            ],
            "application/vnd.jupyter.widget-view+json": {
              "version_major": 2,
              "version_minor": 0,
              "model_id": "0d8b5d176c4f4dba8aa219abd1ac8327"
            }
          },
          "metadata": {}
        },
        {
          "output_type": "display_data",
          "data": {
            "text/plain": [
              "Saving the dataset (0/1 shards):   0%|          | 0/736 [00:00<?, ? examples/s]"
            ],
            "application/vnd.jupyter.widget-view+json": {
              "version_major": 2,
              "version_minor": 0,
              "model_id": "f86114f5d9ef401ea0326405ea3cce69"
            }
          },
          "metadata": {}
        }
      ]
    },
    {
      "cell_type": "code",
      "source": [
        "!tar zcvf livedoor_ds.tar.gz livedoor_ds"
      ],
      "metadata": {
        "colab": {
          "base_uri": "https://localhost:8080/"
        },
        "id": "SALr9TYBft9V",
        "outputId": "98bb5d32-4abf-4301-ef99-e4b563b2aca6"
      },
      "execution_count": 34,
      "outputs": [
        {
          "output_type": "stream",
          "name": "stdout",
          "text": [
            "livedoor_ds/\n",
            "livedoor_ds/validation/\n",
            "livedoor_ds/validation/data-00000-of-00001.arrow\n",
            "livedoor_ds/validation/dataset_info.json\n",
            "livedoor_ds/validation/state.json\n",
            "livedoor_ds/train/\n",
            "livedoor_ds/train/data-00000-of-00001.arrow\n",
            "livedoor_ds/train/dataset_info.json\n",
            "livedoor_ds/train/state.json\n",
            "livedoor_ds/dataset_dict.json\n",
            "livedoor_ds/test/\n",
            "livedoor_ds/test/data-00000-of-00001.arrow\n",
            "livedoor_ds/test/dataset_info.json\n",
            "livedoor_ds/test/state.json\n"
          ]
        }
      ]
    },
    {
      "cell_type": "code",
      "execution_count": 32,
      "metadata": {
        "id": "ptuaJk9O2szJ",
        "colab": {
          "base_uri": "https://localhost:8080/",
          "height": 192
        },
        "outputId": "5fb9f3f8-dd09-4e6b-bcff-ede81926413c"
      },
      "outputs": [
        {
          "output_type": "error",
          "ename": "AttributeError",
          "evalue": "'Dataset' object has no attribute 'save_to_file'",
          "traceback": [
            "\u001b[0;31m---------------------------------------------------------------------------\u001b[0m",
            "\u001b[0;31mAttributeError\u001b[0m                            Traceback (most recent call last)",
            "\u001b[0;32m<ipython-input-32-452adad50687>\u001b[0m in \u001b[0;36m<cell line: 1>\u001b[0;34m()\u001b[0m\n\u001b[0;32m----> 1\u001b[0;31m \u001b[0mds\u001b[0m\u001b[0;34m[\u001b[0m\u001b[0;34m\"train\"\u001b[0m\u001b[0;34m]\u001b[0m\u001b[0;34m.\u001b[0m\u001b[0msave_to_file\u001b[0m\u001b[0;34m(\u001b[0m\u001b[0;34m\"livedoor_train.arrow\"\u001b[0m\u001b[0;34m)\u001b[0m\u001b[0;34m\u001b[0m\u001b[0;34m\u001b[0m\u001b[0m\n\u001b[0m\u001b[1;32m      2\u001b[0m \u001b[0mds\u001b[0m\u001b[0;34m[\u001b[0m\u001b[0;34m\"validation\"\u001b[0m\u001b[0;34m]\u001b[0m\u001b[0;34m.\u001b[0m\u001b[0msave_to_file\u001b[0m\u001b[0;34m(\u001b[0m\u001b[0;34m\"livedoor_val.arrow\"\u001b[0m\u001b[0;34m)\u001b[0m\u001b[0;34m\u001b[0m\u001b[0;34m\u001b[0m\u001b[0m\n\u001b[1;32m      3\u001b[0m \u001b[0mds\u001b[0m\u001b[0;34m[\u001b[0m\u001b[0;34m\"test\"\u001b[0m\u001b[0;34m]\u001b[0m\u001b[0;34m.\u001b[0m\u001b[0msave_to_file\u001b[0m\u001b[0;34m(\u001b[0m\u001b[0;34m\"livedoor_test.arrow\"\u001b[0m\u001b[0;34m)\u001b[0m\u001b[0;34m\u001b[0m\u001b[0;34m\u001b[0m\u001b[0m\n",
            "\u001b[0;31mAttributeError\u001b[0m: 'Dataset' object has no attribute 'save_to_file'"
          ]
        }
      ],
      "source": [
        "ds[\"train\"].save_to_disk(\"livedoor_ds_train\")\n",
        "ds[\"validation\"].save_to_disk(\"livedoor_ds_val\")\n",
        "ds[\"test\"].save_to_disk(\"livedoor_ds_test\")"
      ]
    },
    {
      "cell_type": "markdown",
      "source": [
        "* 実は記事に重複があるが、気にしないことにする。"
      ],
      "metadata": {
        "id": "vh--36XOrAUz"
      }
    },
    {
      "cell_type": "code",
      "source": [
        "for content in ds[\"train\"][\"content\"]:\n",
        "  for content2 in ds[\"validation\"][\"content\"]:\n",
        "    if content == content2:\n",
        "      print(content)\n",
        "  for content2 in ds[\"test\"][\"content\"]:\n",
        "    if content == content2:\n",
        "      print(content)"
      ],
      "metadata": {
        "id": "BqXzzbHFqnHy"
      },
      "execution_count": null,
      "outputs": []
    },
    {
      "cell_type": "markdown",
      "source": [
        "* 9種類のクラスラベルを参考までに示しておく。"
      ],
      "metadata": {
        "id": "Yb-uaLCMlONi"
      }
    },
    {
      "cell_type": "code",
      "execution_count": null,
      "metadata": {
        "id": "DTBvLjgm2szJ"
      },
      "outputs": [],
      "source": [
        "category_names = [\n",
        "    'movie-enter',\n",
        "    'it-life-hack',\n",
        "    'kaden-channel',\n",
        "    'topic-news',\n",
        "    'livedoor-homme',\n",
        "    'peachy',\n",
        "    'sports-watch',\n",
        "    'dokujo-tsushin',\n",
        "    'smax',\n",
        "]"
      ]
    },
    {
      "cell_type": "markdown",
      "source": [
        "* 内容を少し読んでみる。"
      ],
      "metadata": {
        "id": "QUR92_RSlQsJ"
      }
    },
    {
      "cell_type": "code",
      "execution_count": null,
      "metadata": {
        "id": "CvsgSnty2szJ"
      },
      "outputs": [],
      "source": [
        "ds[\"train\"][\"content\"][5705]"
      ]
    },
    {
      "cell_type": "markdown",
      "metadata": {
        "id": "SuO5V5Jw2szJ"
      },
      "source": [
        "## 形態素解析"
      ]
    },
    {
      "cell_type": "markdown",
      "source": [
        "* 一つのテキストでSudachiによる形態素解析を試してみる。"
      ],
      "metadata": {
        "id": "ZvDzC7pdfISj"
      }
    },
    {
      "cell_type": "code",
      "execution_count": null,
      "metadata": {
        "id": "Dmx5x_8Q2szK"
      },
      "outputs": [],
      "source": [
        "import spacy\n",
        "\n",
        "nlp = spacy.load(\"ja_core_news_sm\")\n",
        "doc = nlp(ds[\"train\"][\"content\"][5705])\n",
        "for token in doc:\n",
        "  print(token.lemma_, end=\" \")"
      ]
    },
    {
      "cell_type": "markdown",
      "source": [
        "* 訓練データ全体を形態素解析する。\n",
        "  * TfidfVectorizerの入力として使うので・・・\n",
        "  * 形態素を空白文字でつないで一つの文字列にしておく。"
      ],
      "metadata": {
        "id": "Zh9qY80kfTp3"
      }
    },
    {
      "cell_type": "code",
      "execution_count": null,
      "metadata": {
        "id": "mWXMwlwz2szK"
      },
      "outputs": [],
      "source": [
        "from tqdm.auto import tqdm\n",
        "\n",
        "corpus_train = []\n",
        "for text in tqdm(ds[\"train\"][\"content\"]):\n",
        "  doc = nlp(text)\n",
        "  text = \" \".join([token.lemma_ for token in doc])\n",
        "  for new_line_char in [\"\\n\", \"\\r\", \"\\u2028\", \"\\u2029\", \"\\u0085\"]:\n",
        "    text = \" \".join([line for line in text.split(new_line_char)])\n",
        "  corpus_train.append(text)"
      ]
    },
    {
      "cell_type": "markdown",
      "source": [
        "* ファイルへ書き込む。"
      ],
      "metadata": {
        "id": "VJ0glnoOm2-e"
      }
    },
    {
      "cell_type": "code",
      "execution_count": null,
      "metadata": {
        "id": "UI3TGfvw2szK"
      },
      "outputs": [],
      "source": [
        "with open('livedoor_content_train.txt', 'w') as f:\n",
        "  f.write(\"\\n\".join(corpus_train) + \"\\n\")"
      ]
    },
    {
      "cell_type": "markdown",
      "source": [
        "* ファイルから読み込む。"
      ],
      "metadata": {
        "id": "lPfRfHZhm4Qz"
      }
    },
    {
      "cell_type": "code",
      "source": [
        "with open('livedoor_content_train.txt', 'r') as f:\n",
        "  corpus_train = f.read().splitlines()"
      ],
      "metadata": {
        "id": "devh4PRrlphw"
      },
      "execution_count": null,
      "outputs": []
    },
    {
      "cell_type": "code",
      "source": [
        "corpus_train[0]"
      ],
      "metadata": {
        "id": "9hw63Ffwg3Ar"
      },
      "execution_count": null,
      "outputs": []
    },
    {
      "cell_type": "markdown",
      "source": [
        "* 検証データとテストデータも形態素解析する。"
      ],
      "metadata": {
        "id": "YmQvXd6BiIty"
      }
    },
    {
      "cell_type": "code",
      "execution_count": null,
      "metadata": {
        "id": "0WoZ8RUO2szK"
      },
      "outputs": [],
      "source": [
        "corpus_val = []\n",
        "for text in tqdm(ds[\"validation\"][\"content\"]):\n",
        "  doc = nlp(text)\n",
        "  text = \" \".join([token.lemma_ for token in doc])\n",
        "  for new_line_char in [\"\\n\", \"\\r\", \"\\u2028\", \"\\u2029\", \"\\u0085\"]:\n",
        "    text = \" \".join([line for line in text.split(new_line_char)])\n",
        "  corpus_train.append(text)"
      ]
    },
    {
      "cell_type": "code",
      "source": [
        "with open('livedoor_content_val.txt', 'w') as f:\n",
        "  f.write(\"\\n\".join(corpus_val) + \"\\n\")"
      ],
      "metadata": {
        "id": "LWN19xc5obor"
      },
      "execution_count": null,
      "outputs": []
    },
    {
      "cell_type": "code",
      "source": [
        "with open('livedoor_content_val.txt', 'r') as f:\n",
        "  corpus_val = f.read().splitlines()"
      ],
      "metadata": {
        "id": "4GJywA02donr"
      },
      "execution_count": null,
      "outputs": []
    },
    {
      "cell_type": "code",
      "source": [
        "corpus_test = []\n",
        "for text in tqdm(ds[\"test\"][\"content\"]):\n",
        "  doc = nlp(text)\n",
        "  text = \" \".join([token.lemma_ for token in doc])\n",
        "  for new_line_char in [\"\\n\", \"\\r\", \"\\u2028\", \"\\u2029\", \"\\u0085\"]:\n",
        "    text = \" \".join([line for line in text.split(new_line_char)])\n",
        "  corpus_train.append(text)"
      ],
      "metadata": {
        "id": "Dbud6eWskhTS"
      },
      "execution_count": null,
      "outputs": []
    },
    {
      "cell_type": "code",
      "source": [
        "with open('livedoor_content_test.txt', 'w') as f:\n",
        "  f.write(\"\\n\".join(corpus_test) + \"\\n\")"
      ],
      "metadata": {
        "id": "b8WzFXQHodGc"
      },
      "execution_count": null,
      "outputs": []
    },
    {
      "cell_type": "code",
      "source": [
        "with open('livedoor_content_test.txt', 'r') as f:\n",
        "  corpus_test = f.read().splitlines()"
      ],
      "metadata": {
        "id": "ZEY-1YZudrvH"
      },
      "execution_count": null,
      "outputs": []
    },
    {
      "cell_type": "markdown",
      "metadata": {
        "id": "mEDViFJg2szK"
      },
      "source": [
        "## TF-IDFベクトルの計算"
      ]
    },
    {
      "cell_type": "code",
      "execution_count": null,
      "metadata": {
        "id": "azmYC6HJ2szK"
      },
      "outputs": [],
      "source": [
        "from sklearn.feature_extraction.text import TfidfVectorizer\n",
        "\n",
        "vectorizer = TfidfVectorizer(min_df=10, max_df=0.2)\n",
        "X_train = vectorizer.fit_transform(corpus_train)"
      ]
    },
    {
      "cell_type": "code",
      "source": [
        "X_train.shape"
      ],
      "metadata": {
        "id": "O0soXLPUmRtU"
      },
      "execution_count": null,
      "outputs": []
    },
    {
      "cell_type": "markdown",
      "source": [
        "# 課題\n",
        "* ライブドアニュースコーパスを9値分類する分類器を作ろう。\n",
        "* 注意：データセットの分割の仕方は変えないようにしましょう。"
      ],
      "metadata": {
        "id": "fmStHVX0hej3"
      }
    },
    {
      "cell_type": "markdown",
      "source": [
        "## 実行例"
      ],
      "metadata": {
        "id": "b3s8109Mh5hY"
      }
    },
    {
      "cell_type": "markdown",
      "source": [
        "* 交差検証でハイパーパラメータのチューニングをする。"
      ],
      "metadata": {
        "id": "YUOyJkfrveA-"
      }
    },
    {
      "cell_type": "code",
      "execution_count": null,
      "metadata": {
        "id": "HgTwGYuo2szK"
      },
      "outputs": [],
      "source": [
        "import numpy as np\n",
        "\n",
        "corpus = np.array(corpus_train + corpus_val)\n",
        "labels = np.array(ds[\"train\"][\"category\"] + ds[\"validation\"][\"category\"])"
      ]
    },
    {
      "cell_type": "code",
      "execution_count": null,
      "metadata": {
        "id": "qim4TH6A2szK"
      },
      "outputs": [],
      "source": [
        "from sklearn.model_selection import StratifiedKFold\n",
        "from sklearn.svm import LinearSVC\n",
        "\n",
        "skf = StratifiedKFold(n_splits=5, shuffle=True, random_state=1234)\n",
        "\n",
        "for min_df in [10, 20, 30]:\n",
        "  for max_df in [0.2, 0.3, 0.4]:\n",
        "    vectorizer = TfidfVectorizer(min_df=min_df, max_df=max_df)\n",
        "    for C in 10. ** np.arange(-1, 4):\n",
        "      scores = []\n",
        "      skf_split = skf.split(corpus, labels)\n",
        "      for train_index, val_index in skf_split:\n",
        "        X_train = vectorizer.fit_transform(corpus[train_index])\n",
        "        clf = LinearSVC(C=C, dual=False, max_iter=1000, random_state=123)\n",
        "        clf.fit(X_train, labels[train_index])\n",
        "        X_val = vectorizer.transform(corpus[val_index])\n",
        "        score = clf.score(X_val, labels[val_index])\n",
        "        print(f\"\\t{score:.3f}\", end=\" \")\n",
        "        scores.append(score)\n",
        "      print(f\"\\nmean accuracy: {np.array(scores).mean():.3f}\", end=\"\")\n",
        "      print(f\" | C={C:.2e} min_df={min_df} max_df={max_df:.3f}\")"
      ]
    },
    {
      "cell_type": "code",
      "execution_count": null,
      "metadata": {
        "id": "QShaXKTL2szK"
      },
      "outputs": [],
      "source": [
        "vectorizer = TfidfVectorizer(min_df=20)\n",
        "X = vectorizer.fit_transform(corpus)\n",
        "clf = LinearSVC(C=10.0, dual=False, max_iter=1000, random_state=123)\n",
        "clf.fit(X, labels)\n",
        "X_test = vectorizer.transform(corpus_test)\n",
        "score = clf.score(X_test, ds[\"test\"][\"category\"])\n",
        "print(f\"{score:.3f}\")\n"
      ]
    },
    {
      "cell_type": "code",
      "source": [],
      "metadata": {
        "id": "SsH2RFTwisns"
      },
      "execution_count": null,
      "outputs": []
    }
  ],
  "metadata": {
    "kernelspec": {
      "display_name": "Python 3",
      "language": "python",
      "name": "python3"
    },
    "language_info": {
      "codemirror_mode": {
        "name": "ipython",
        "version": 3
      },
      "file_extension": ".py",
      "mimetype": "text/x-python",
      "name": "python",
      "nbconvert_exporter": "python",
      "pygments_lexer": "ipython3",
      "version": "3.11.5"
    },
    "colab": {
      "provenance": [],
      "include_colab_link": true
    },
    "widgets": {
      "application/vnd.jupyter.widget-state+json": {
        "12db09a073a845f2933455a0ce1fd030": {
          "model_module": "@jupyter-widgets/controls",
          "model_name": "HBoxModel",
          "model_module_version": "1.5.0",
          "state": {
            "_dom_classes": [],
            "_model_module": "@jupyter-widgets/controls",
            "_model_module_version": "1.5.0",
            "_model_name": "HBoxModel",
            "_view_count": null,
            "_view_module": "@jupyter-widgets/controls",
            "_view_module_version": "1.5.0",
            "_view_name": "HBoxView",
            "box_style": "",
            "children": [
              "IPY_MODEL_861578c6d47e4c1e93987fe0614428b3",
              "IPY_MODEL_d4a20c07690843dab2eb1b34e1bcf5aa",
              "IPY_MODEL_77cdb418114f4a0ebb75c753ee00ba76"
            ],
            "layout": "IPY_MODEL_76b3fc1b7d2d4e5b9d248a946e0583f9"
          }
        },
        "861578c6d47e4c1e93987fe0614428b3": {
          "model_module": "@jupyter-widgets/controls",
          "model_name": "HTMLModel",
          "model_module_version": "1.5.0",
          "state": {
            "_dom_classes": [],
            "_model_module": "@jupyter-widgets/controls",
            "_model_module_version": "1.5.0",
            "_model_name": "HTMLModel",
            "_view_count": null,
            "_view_module": "@jupyter-widgets/controls",
            "_view_module_version": "1.5.0",
            "_view_name": "HTMLView",
            "description": "",
            "description_tooltip": null,
            "layout": "IPY_MODEL_4f09b343a36b4cdab93f87e34badd5e2",
            "placeholder": "​",
            "style": "IPY_MODEL_09ceeb3543a24ceb9f8f105a10373c0f",
            "value": "Saving the dataset (1/1 shards): 100%"
          }
        },
        "d4a20c07690843dab2eb1b34e1bcf5aa": {
          "model_module": "@jupyter-widgets/controls",
          "model_name": "FloatProgressModel",
          "model_module_version": "1.5.0",
          "state": {
            "_dom_classes": [],
            "_model_module": "@jupyter-widgets/controls",
            "_model_module_version": "1.5.0",
            "_model_name": "FloatProgressModel",
            "_view_count": null,
            "_view_module": "@jupyter-widgets/controls",
            "_view_module_version": "1.5.0",
            "_view_name": "ProgressView",
            "bar_style": "success",
            "description": "",
            "description_tooltip": null,
            "layout": "IPY_MODEL_43658230822443dbaa4d8e4e10014df0",
            "max": 5894,
            "min": 0,
            "orientation": "horizontal",
            "style": "IPY_MODEL_0e93b7e8c0704926af3bc965b35e0bf5",
            "value": 5894
          }
        },
        "77cdb418114f4a0ebb75c753ee00ba76": {
          "model_module": "@jupyter-widgets/controls",
          "model_name": "HTMLModel",
          "model_module_version": "1.5.0",
          "state": {
            "_dom_classes": [],
            "_model_module": "@jupyter-widgets/controls",
            "_model_module_version": "1.5.0",
            "_model_name": "HTMLModel",
            "_view_count": null,
            "_view_module": "@jupyter-widgets/controls",
            "_view_module_version": "1.5.0",
            "_view_name": "HTMLView",
            "description": "",
            "description_tooltip": null,
            "layout": "IPY_MODEL_91bf248c81aa4a8da5f904f3c54c3b13",
            "placeholder": "​",
            "style": "IPY_MODEL_155ae02766f8416db1c0ff74fa9c8ec4",
            "value": " 5894/5894 [00:00&lt;00:00, 24835.36 examples/s]"
          }
        },
        "76b3fc1b7d2d4e5b9d248a946e0583f9": {
          "model_module": "@jupyter-widgets/base",
          "model_name": "LayoutModel",
          "model_module_version": "1.2.0",
          "state": {
            "_model_module": "@jupyter-widgets/base",
            "_model_module_version": "1.2.0",
            "_model_name": "LayoutModel",
            "_view_count": null,
            "_view_module": "@jupyter-widgets/base",
            "_view_module_version": "1.2.0",
            "_view_name": "LayoutView",
            "align_content": null,
            "align_items": null,
            "align_self": null,
            "border": null,
            "bottom": null,
            "display": null,
            "flex": null,
            "flex_flow": null,
            "grid_area": null,
            "grid_auto_columns": null,
            "grid_auto_flow": null,
            "grid_auto_rows": null,
            "grid_column": null,
            "grid_gap": null,
            "grid_row": null,
            "grid_template_areas": null,
            "grid_template_columns": null,
            "grid_template_rows": null,
            "height": null,
            "justify_content": null,
            "justify_items": null,
            "left": null,
            "margin": null,
            "max_height": null,
            "max_width": null,
            "min_height": null,
            "min_width": null,
            "object_fit": null,
            "object_position": null,
            "order": null,
            "overflow": null,
            "overflow_x": null,
            "overflow_y": null,
            "padding": null,
            "right": null,
            "top": null,
            "visibility": null,
            "width": null
          }
        },
        "4f09b343a36b4cdab93f87e34badd5e2": {
          "model_module": "@jupyter-widgets/base",
          "model_name": "LayoutModel",
          "model_module_version": "1.2.0",
          "state": {
            "_model_module": "@jupyter-widgets/base",
            "_model_module_version": "1.2.0",
            "_model_name": "LayoutModel",
            "_view_count": null,
            "_view_module": "@jupyter-widgets/base",
            "_view_module_version": "1.2.0",
            "_view_name": "LayoutView",
            "align_content": null,
            "align_items": null,
            "align_self": null,
            "border": null,
            "bottom": null,
            "display": null,
            "flex": null,
            "flex_flow": null,
            "grid_area": null,
            "grid_auto_columns": null,
            "grid_auto_flow": null,
            "grid_auto_rows": null,
            "grid_column": null,
            "grid_gap": null,
            "grid_row": null,
            "grid_template_areas": null,
            "grid_template_columns": null,
            "grid_template_rows": null,
            "height": null,
            "justify_content": null,
            "justify_items": null,
            "left": null,
            "margin": null,
            "max_height": null,
            "max_width": null,
            "min_height": null,
            "min_width": null,
            "object_fit": null,
            "object_position": null,
            "order": null,
            "overflow": null,
            "overflow_x": null,
            "overflow_y": null,
            "padding": null,
            "right": null,
            "top": null,
            "visibility": null,
            "width": null
          }
        },
        "09ceeb3543a24ceb9f8f105a10373c0f": {
          "model_module": "@jupyter-widgets/controls",
          "model_name": "DescriptionStyleModel",
          "model_module_version": "1.5.0",
          "state": {
            "_model_module": "@jupyter-widgets/controls",
            "_model_module_version": "1.5.0",
            "_model_name": "DescriptionStyleModel",
            "_view_count": null,
            "_view_module": "@jupyter-widgets/base",
            "_view_module_version": "1.2.0",
            "_view_name": "StyleView",
            "description_width": ""
          }
        },
        "43658230822443dbaa4d8e4e10014df0": {
          "model_module": "@jupyter-widgets/base",
          "model_name": "LayoutModel",
          "model_module_version": "1.2.0",
          "state": {
            "_model_module": "@jupyter-widgets/base",
            "_model_module_version": "1.2.0",
            "_model_name": "LayoutModel",
            "_view_count": null,
            "_view_module": "@jupyter-widgets/base",
            "_view_module_version": "1.2.0",
            "_view_name": "LayoutView",
            "align_content": null,
            "align_items": null,
            "align_self": null,
            "border": null,
            "bottom": null,
            "display": null,
            "flex": null,
            "flex_flow": null,
            "grid_area": null,
            "grid_auto_columns": null,
            "grid_auto_flow": null,
            "grid_auto_rows": null,
            "grid_column": null,
            "grid_gap": null,
            "grid_row": null,
            "grid_template_areas": null,
            "grid_template_columns": null,
            "grid_template_rows": null,
            "height": null,
            "justify_content": null,
            "justify_items": null,
            "left": null,
            "margin": null,
            "max_height": null,
            "max_width": null,
            "min_height": null,
            "min_width": null,
            "object_fit": null,
            "object_position": null,
            "order": null,
            "overflow": null,
            "overflow_x": null,
            "overflow_y": null,
            "padding": null,
            "right": null,
            "top": null,
            "visibility": null,
            "width": null
          }
        },
        "0e93b7e8c0704926af3bc965b35e0bf5": {
          "model_module": "@jupyter-widgets/controls",
          "model_name": "ProgressStyleModel",
          "model_module_version": "1.5.0",
          "state": {
            "_model_module": "@jupyter-widgets/controls",
            "_model_module_version": "1.5.0",
            "_model_name": "ProgressStyleModel",
            "_view_count": null,
            "_view_module": "@jupyter-widgets/base",
            "_view_module_version": "1.2.0",
            "_view_name": "StyleView",
            "bar_color": null,
            "description_width": ""
          }
        },
        "91bf248c81aa4a8da5f904f3c54c3b13": {
          "model_module": "@jupyter-widgets/base",
          "model_name": "LayoutModel",
          "model_module_version": "1.2.0",
          "state": {
            "_model_module": "@jupyter-widgets/base",
            "_model_module_version": "1.2.0",
            "_model_name": "LayoutModel",
            "_view_count": null,
            "_view_module": "@jupyter-widgets/base",
            "_view_module_version": "1.2.0",
            "_view_name": "LayoutView",
            "align_content": null,
            "align_items": null,
            "align_self": null,
            "border": null,
            "bottom": null,
            "display": null,
            "flex": null,
            "flex_flow": null,
            "grid_area": null,
            "grid_auto_columns": null,
            "grid_auto_flow": null,
            "grid_auto_rows": null,
            "grid_column": null,
            "grid_gap": null,
            "grid_row": null,
            "grid_template_areas": null,
            "grid_template_columns": null,
            "grid_template_rows": null,
            "height": null,
            "justify_content": null,
            "justify_items": null,
            "left": null,
            "margin": null,
            "max_height": null,
            "max_width": null,
            "min_height": null,
            "min_width": null,
            "object_fit": null,
            "object_position": null,
            "order": null,
            "overflow": null,
            "overflow_x": null,
            "overflow_y": null,
            "padding": null,
            "right": null,
            "top": null,
            "visibility": null,
            "width": null
          }
        },
        "155ae02766f8416db1c0ff74fa9c8ec4": {
          "model_module": "@jupyter-widgets/controls",
          "model_name": "DescriptionStyleModel",
          "model_module_version": "1.5.0",
          "state": {
            "_model_module": "@jupyter-widgets/controls",
            "_model_module_version": "1.5.0",
            "_model_name": "DescriptionStyleModel",
            "_view_count": null,
            "_view_module": "@jupyter-widgets/base",
            "_view_module_version": "1.2.0",
            "_view_name": "StyleView",
            "description_width": ""
          }
        },
        "0d8b5d176c4f4dba8aa219abd1ac8327": {
          "model_module": "@jupyter-widgets/controls",
          "model_name": "HBoxModel",
          "model_module_version": "1.5.0",
          "state": {
            "_dom_classes": [],
            "_model_module": "@jupyter-widgets/controls",
            "_model_module_version": "1.5.0",
            "_model_name": "HBoxModel",
            "_view_count": null,
            "_view_module": "@jupyter-widgets/controls",
            "_view_module_version": "1.5.0",
            "_view_name": "HBoxView",
            "box_style": "",
            "children": [
              "IPY_MODEL_73b1cd7c6273496caefcf8cf132d5c46",
              "IPY_MODEL_9038e3c517a245768e88fca1ec2f1dca",
              "IPY_MODEL_f389a5492a2e426da866bcebacacefee"
            ],
            "layout": "IPY_MODEL_7250b57621df47e28e22f638875a9a79"
          }
        },
        "73b1cd7c6273496caefcf8cf132d5c46": {
          "model_module": "@jupyter-widgets/controls",
          "model_name": "HTMLModel",
          "model_module_version": "1.5.0",
          "state": {
            "_dom_classes": [],
            "_model_module": "@jupyter-widgets/controls",
            "_model_module_version": "1.5.0",
            "_model_name": "HTMLModel",
            "_view_count": null,
            "_view_module": "@jupyter-widgets/controls",
            "_view_module_version": "1.5.0",
            "_view_name": "HTMLView",
            "description": "",
            "description_tooltip": null,
            "layout": "IPY_MODEL_486ed31ad03645eb83f628e5761a677d",
            "placeholder": "​",
            "style": "IPY_MODEL_49ec8178325247ed946f3f0dd8dc877c",
            "value": "Saving the dataset (1/1 shards): 100%"
          }
        },
        "9038e3c517a245768e88fca1ec2f1dca": {
          "model_module": "@jupyter-widgets/controls",
          "model_name": "FloatProgressModel",
          "model_module_version": "1.5.0",
          "state": {
            "_dom_classes": [],
            "_model_module": "@jupyter-widgets/controls",
            "_model_module_version": "1.5.0",
            "_model_name": "FloatProgressModel",
            "_view_count": null,
            "_view_module": "@jupyter-widgets/controls",
            "_view_module_version": "1.5.0",
            "_view_name": "ProgressView",
            "bar_style": "success",
            "description": "",
            "description_tooltip": null,
            "layout": "IPY_MODEL_88d18dc7e3024842b6689e21af233f7f",
            "max": 737,
            "min": 0,
            "orientation": "horizontal",
            "style": "IPY_MODEL_75443275ff1a41279992cd53d4a06da3",
            "value": 737
          }
        },
        "f389a5492a2e426da866bcebacacefee": {
          "model_module": "@jupyter-widgets/controls",
          "model_name": "HTMLModel",
          "model_module_version": "1.5.0",
          "state": {
            "_dom_classes": [],
            "_model_module": "@jupyter-widgets/controls",
            "_model_module_version": "1.5.0",
            "_model_name": "HTMLModel",
            "_view_count": null,
            "_view_module": "@jupyter-widgets/controls",
            "_view_module_version": "1.5.0",
            "_view_name": "HTMLView",
            "description": "",
            "description_tooltip": null,
            "layout": "IPY_MODEL_1845ff0bf7ec462bba399e84b00c5acd",
            "placeholder": "​",
            "style": "IPY_MODEL_2797687de6ce43f9b7c990892ddfb81a",
            "value": " 737/737 [00:00&lt;00:00, 9680.88 examples/s]"
          }
        },
        "7250b57621df47e28e22f638875a9a79": {
          "model_module": "@jupyter-widgets/base",
          "model_name": "LayoutModel",
          "model_module_version": "1.2.0",
          "state": {
            "_model_module": "@jupyter-widgets/base",
            "_model_module_version": "1.2.0",
            "_model_name": "LayoutModel",
            "_view_count": null,
            "_view_module": "@jupyter-widgets/base",
            "_view_module_version": "1.2.0",
            "_view_name": "LayoutView",
            "align_content": null,
            "align_items": null,
            "align_self": null,
            "border": null,
            "bottom": null,
            "display": null,
            "flex": null,
            "flex_flow": null,
            "grid_area": null,
            "grid_auto_columns": null,
            "grid_auto_flow": null,
            "grid_auto_rows": null,
            "grid_column": null,
            "grid_gap": null,
            "grid_row": null,
            "grid_template_areas": null,
            "grid_template_columns": null,
            "grid_template_rows": null,
            "height": null,
            "justify_content": null,
            "justify_items": null,
            "left": null,
            "margin": null,
            "max_height": null,
            "max_width": null,
            "min_height": null,
            "min_width": null,
            "object_fit": null,
            "object_position": null,
            "order": null,
            "overflow": null,
            "overflow_x": null,
            "overflow_y": null,
            "padding": null,
            "right": null,
            "top": null,
            "visibility": null,
            "width": null
          }
        },
        "486ed31ad03645eb83f628e5761a677d": {
          "model_module": "@jupyter-widgets/base",
          "model_name": "LayoutModel",
          "model_module_version": "1.2.0",
          "state": {
            "_model_module": "@jupyter-widgets/base",
            "_model_module_version": "1.2.0",
            "_model_name": "LayoutModel",
            "_view_count": null,
            "_view_module": "@jupyter-widgets/base",
            "_view_module_version": "1.2.0",
            "_view_name": "LayoutView",
            "align_content": null,
            "align_items": null,
            "align_self": null,
            "border": null,
            "bottom": null,
            "display": null,
            "flex": null,
            "flex_flow": null,
            "grid_area": null,
            "grid_auto_columns": null,
            "grid_auto_flow": null,
            "grid_auto_rows": null,
            "grid_column": null,
            "grid_gap": null,
            "grid_row": null,
            "grid_template_areas": null,
            "grid_template_columns": null,
            "grid_template_rows": null,
            "height": null,
            "justify_content": null,
            "justify_items": null,
            "left": null,
            "margin": null,
            "max_height": null,
            "max_width": null,
            "min_height": null,
            "min_width": null,
            "object_fit": null,
            "object_position": null,
            "order": null,
            "overflow": null,
            "overflow_x": null,
            "overflow_y": null,
            "padding": null,
            "right": null,
            "top": null,
            "visibility": null,
            "width": null
          }
        },
        "49ec8178325247ed946f3f0dd8dc877c": {
          "model_module": "@jupyter-widgets/controls",
          "model_name": "DescriptionStyleModel",
          "model_module_version": "1.5.0",
          "state": {
            "_model_module": "@jupyter-widgets/controls",
            "_model_module_version": "1.5.0",
            "_model_name": "DescriptionStyleModel",
            "_view_count": null,
            "_view_module": "@jupyter-widgets/base",
            "_view_module_version": "1.2.0",
            "_view_name": "StyleView",
            "description_width": ""
          }
        },
        "88d18dc7e3024842b6689e21af233f7f": {
          "model_module": "@jupyter-widgets/base",
          "model_name": "LayoutModel",
          "model_module_version": "1.2.0",
          "state": {
            "_model_module": "@jupyter-widgets/base",
            "_model_module_version": "1.2.0",
            "_model_name": "LayoutModel",
            "_view_count": null,
            "_view_module": "@jupyter-widgets/base",
            "_view_module_version": "1.2.0",
            "_view_name": "LayoutView",
            "align_content": null,
            "align_items": null,
            "align_self": null,
            "border": null,
            "bottom": null,
            "display": null,
            "flex": null,
            "flex_flow": null,
            "grid_area": null,
            "grid_auto_columns": null,
            "grid_auto_flow": null,
            "grid_auto_rows": null,
            "grid_column": null,
            "grid_gap": null,
            "grid_row": null,
            "grid_template_areas": null,
            "grid_template_columns": null,
            "grid_template_rows": null,
            "height": null,
            "justify_content": null,
            "justify_items": null,
            "left": null,
            "margin": null,
            "max_height": null,
            "max_width": null,
            "min_height": null,
            "min_width": null,
            "object_fit": null,
            "object_position": null,
            "order": null,
            "overflow": null,
            "overflow_x": null,
            "overflow_y": null,
            "padding": null,
            "right": null,
            "top": null,
            "visibility": null,
            "width": null
          }
        },
        "75443275ff1a41279992cd53d4a06da3": {
          "model_module": "@jupyter-widgets/controls",
          "model_name": "ProgressStyleModel",
          "model_module_version": "1.5.0",
          "state": {
            "_model_module": "@jupyter-widgets/controls",
            "_model_module_version": "1.5.0",
            "_model_name": "ProgressStyleModel",
            "_view_count": null,
            "_view_module": "@jupyter-widgets/base",
            "_view_module_version": "1.2.0",
            "_view_name": "StyleView",
            "bar_color": null,
            "description_width": ""
          }
        },
        "1845ff0bf7ec462bba399e84b00c5acd": {
          "model_module": "@jupyter-widgets/base",
          "model_name": "LayoutModel",
          "model_module_version": "1.2.0",
          "state": {
            "_model_module": "@jupyter-widgets/base",
            "_model_module_version": "1.2.0",
            "_model_name": "LayoutModel",
            "_view_count": null,
            "_view_module": "@jupyter-widgets/base",
            "_view_module_version": "1.2.0",
            "_view_name": "LayoutView",
            "align_content": null,
            "align_items": null,
            "align_self": null,
            "border": null,
            "bottom": null,
            "display": null,
            "flex": null,
            "flex_flow": null,
            "grid_area": null,
            "grid_auto_columns": null,
            "grid_auto_flow": null,
            "grid_auto_rows": null,
            "grid_column": null,
            "grid_gap": null,
            "grid_row": null,
            "grid_template_areas": null,
            "grid_template_columns": null,
            "grid_template_rows": null,
            "height": null,
            "justify_content": null,
            "justify_items": null,
            "left": null,
            "margin": null,
            "max_height": null,
            "max_width": null,
            "min_height": null,
            "min_width": null,
            "object_fit": null,
            "object_position": null,
            "order": null,
            "overflow": null,
            "overflow_x": null,
            "overflow_y": null,
            "padding": null,
            "right": null,
            "top": null,
            "visibility": null,
            "width": null
          }
        },
        "2797687de6ce43f9b7c990892ddfb81a": {
          "model_module": "@jupyter-widgets/controls",
          "model_name": "DescriptionStyleModel",
          "model_module_version": "1.5.0",
          "state": {
            "_model_module": "@jupyter-widgets/controls",
            "_model_module_version": "1.5.0",
            "_model_name": "DescriptionStyleModel",
            "_view_count": null,
            "_view_module": "@jupyter-widgets/base",
            "_view_module_version": "1.2.0",
            "_view_name": "StyleView",
            "description_width": ""
          }
        },
        "f86114f5d9ef401ea0326405ea3cce69": {
          "model_module": "@jupyter-widgets/controls",
          "model_name": "HBoxModel",
          "model_module_version": "1.5.0",
          "state": {
            "_dom_classes": [],
            "_model_module": "@jupyter-widgets/controls",
            "_model_module_version": "1.5.0",
            "_model_name": "HBoxModel",
            "_view_count": null,
            "_view_module": "@jupyter-widgets/controls",
            "_view_module_version": "1.5.0",
            "_view_name": "HBoxView",
            "box_style": "",
            "children": [
              "IPY_MODEL_1dce2b42329e4a238ac4d927176c409a",
              "IPY_MODEL_87e106ac9a024c0cb78532178e3d6b61",
              "IPY_MODEL_f17be30b14774ff89972006a6d40842b"
            ],
            "layout": "IPY_MODEL_b6970808f92c45ce857255e89d55ccb5"
          }
        },
        "1dce2b42329e4a238ac4d927176c409a": {
          "model_module": "@jupyter-widgets/controls",
          "model_name": "HTMLModel",
          "model_module_version": "1.5.0",
          "state": {
            "_dom_classes": [],
            "_model_module": "@jupyter-widgets/controls",
            "_model_module_version": "1.5.0",
            "_model_name": "HTMLModel",
            "_view_count": null,
            "_view_module": "@jupyter-widgets/controls",
            "_view_module_version": "1.5.0",
            "_view_name": "HTMLView",
            "description": "",
            "description_tooltip": null,
            "layout": "IPY_MODEL_9b097a7fdaaf43aa82aea63d2b9b4567",
            "placeholder": "​",
            "style": "IPY_MODEL_1621cffc7cde4bb68541f4dcde0523d8",
            "value": "Saving the dataset (1/1 shards): 100%"
          }
        },
        "87e106ac9a024c0cb78532178e3d6b61": {
          "model_module": "@jupyter-widgets/controls",
          "model_name": "FloatProgressModel",
          "model_module_version": "1.5.0",
          "state": {
            "_dom_classes": [],
            "_model_module": "@jupyter-widgets/controls",
            "_model_module_version": "1.5.0",
            "_model_name": "FloatProgressModel",
            "_view_count": null,
            "_view_module": "@jupyter-widgets/controls",
            "_view_module_version": "1.5.0",
            "_view_name": "ProgressView",
            "bar_style": "success",
            "description": "",
            "description_tooltip": null,
            "layout": "IPY_MODEL_78b9c4020c6047cc8798536a5bcf2b13",
            "max": 736,
            "min": 0,
            "orientation": "horizontal",
            "style": "IPY_MODEL_4896e0d5fda64678aa32937e8b14841b",
            "value": 736
          }
        },
        "f17be30b14774ff89972006a6d40842b": {
          "model_module": "@jupyter-widgets/controls",
          "model_name": "HTMLModel",
          "model_module_version": "1.5.0",
          "state": {
            "_dom_classes": [],
            "_model_module": "@jupyter-widgets/controls",
            "_model_module_version": "1.5.0",
            "_model_name": "HTMLModel",
            "_view_count": null,
            "_view_module": "@jupyter-widgets/controls",
            "_view_module_version": "1.5.0",
            "_view_name": "HTMLView",
            "description": "",
            "description_tooltip": null,
            "layout": "IPY_MODEL_6cfe1be812b748ecacdb4651232026ae",
            "placeholder": "​",
            "style": "IPY_MODEL_1340cf6aad874e269d98c07d1066edf1",
            "value": " 736/736 [00:00&lt;00:00, 13648.88 examples/s]"
          }
        },
        "b6970808f92c45ce857255e89d55ccb5": {
          "model_module": "@jupyter-widgets/base",
          "model_name": "LayoutModel",
          "model_module_version": "1.2.0",
          "state": {
            "_model_module": "@jupyter-widgets/base",
            "_model_module_version": "1.2.0",
            "_model_name": "LayoutModel",
            "_view_count": null,
            "_view_module": "@jupyter-widgets/base",
            "_view_module_version": "1.2.0",
            "_view_name": "LayoutView",
            "align_content": null,
            "align_items": null,
            "align_self": null,
            "border": null,
            "bottom": null,
            "display": null,
            "flex": null,
            "flex_flow": null,
            "grid_area": null,
            "grid_auto_columns": null,
            "grid_auto_flow": null,
            "grid_auto_rows": null,
            "grid_column": null,
            "grid_gap": null,
            "grid_row": null,
            "grid_template_areas": null,
            "grid_template_columns": null,
            "grid_template_rows": null,
            "height": null,
            "justify_content": null,
            "justify_items": null,
            "left": null,
            "margin": null,
            "max_height": null,
            "max_width": null,
            "min_height": null,
            "min_width": null,
            "object_fit": null,
            "object_position": null,
            "order": null,
            "overflow": null,
            "overflow_x": null,
            "overflow_y": null,
            "padding": null,
            "right": null,
            "top": null,
            "visibility": null,
            "width": null
          }
        },
        "9b097a7fdaaf43aa82aea63d2b9b4567": {
          "model_module": "@jupyter-widgets/base",
          "model_name": "LayoutModel",
          "model_module_version": "1.2.0",
          "state": {
            "_model_module": "@jupyter-widgets/base",
            "_model_module_version": "1.2.0",
            "_model_name": "LayoutModel",
            "_view_count": null,
            "_view_module": "@jupyter-widgets/base",
            "_view_module_version": "1.2.0",
            "_view_name": "LayoutView",
            "align_content": null,
            "align_items": null,
            "align_self": null,
            "border": null,
            "bottom": null,
            "display": null,
            "flex": null,
            "flex_flow": null,
            "grid_area": null,
            "grid_auto_columns": null,
            "grid_auto_flow": null,
            "grid_auto_rows": null,
            "grid_column": null,
            "grid_gap": null,
            "grid_row": null,
            "grid_template_areas": null,
            "grid_template_columns": null,
            "grid_template_rows": null,
            "height": null,
            "justify_content": null,
            "justify_items": null,
            "left": null,
            "margin": null,
            "max_height": null,
            "max_width": null,
            "min_height": null,
            "min_width": null,
            "object_fit": null,
            "object_position": null,
            "order": null,
            "overflow": null,
            "overflow_x": null,
            "overflow_y": null,
            "padding": null,
            "right": null,
            "top": null,
            "visibility": null,
            "width": null
          }
        },
        "1621cffc7cde4bb68541f4dcde0523d8": {
          "model_module": "@jupyter-widgets/controls",
          "model_name": "DescriptionStyleModel",
          "model_module_version": "1.5.0",
          "state": {
            "_model_module": "@jupyter-widgets/controls",
            "_model_module_version": "1.5.0",
            "_model_name": "DescriptionStyleModel",
            "_view_count": null,
            "_view_module": "@jupyter-widgets/base",
            "_view_module_version": "1.2.0",
            "_view_name": "StyleView",
            "description_width": ""
          }
        },
        "78b9c4020c6047cc8798536a5bcf2b13": {
          "model_module": "@jupyter-widgets/base",
          "model_name": "LayoutModel",
          "model_module_version": "1.2.0",
          "state": {
            "_model_module": "@jupyter-widgets/base",
            "_model_module_version": "1.2.0",
            "_model_name": "LayoutModel",
            "_view_count": null,
            "_view_module": "@jupyter-widgets/base",
            "_view_module_version": "1.2.0",
            "_view_name": "LayoutView",
            "align_content": null,
            "align_items": null,
            "align_self": null,
            "border": null,
            "bottom": null,
            "display": null,
            "flex": null,
            "flex_flow": null,
            "grid_area": null,
            "grid_auto_columns": null,
            "grid_auto_flow": null,
            "grid_auto_rows": null,
            "grid_column": null,
            "grid_gap": null,
            "grid_row": null,
            "grid_template_areas": null,
            "grid_template_columns": null,
            "grid_template_rows": null,
            "height": null,
            "justify_content": null,
            "justify_items": null,
            "left": null,
            "margin": null,
            "max_height": null,
            "max_width": null,
            "min_height": null,
            "min_width": null,
            "object_fit": null,
            "object_position": null,
            "order": null,
            "overflow": null,
            "overflow_x": null,
            "overflow_y": null,
            "padding": null,
            "right": null,
            "top": null,
            "visibility": null,
            "width": null
          }
        },
        "4896e0d5fda64678aa32937e8b14841b": {
          "model_module": "@jupyter-widgets/controls",
          "model_name": "ProgressStyleModel",
          "model_module_version": "1.5.0",
          "state": {
            "_model_module": "@jupyter-widgets/controls",
            "_model_module_version": "1.5.0",
            "_model_name": "ProgressStyleModel",
            "_view_count": null,
            "_view_module": "@jupyter-widgets/base",
            "_view_module_version": "1.2.0",
            "_view_name": "StyleView",
            "bar_color": null,
            "description_width": ""
          }
        },
        "6cfe1be812b748ecacdb4651232026ae": {
          "model_module": "@jupyter-widgets/base",
          "model_name": "LayoutModel",
          "model_module_version": "1.2.0",
          "state": {
            "_model_module": "@jupyter-widgets/base",
            "_model_module_version": "1.2.0",
            "_model_name": "LayoutModel",
            "_view_count": null,
            "_view_module": "@jupyter-widgets/base",
            "_view_module_version": "1.2.0",
            "_view_name": "LayoutView",
            "align_content": null,
            "align_items": null,
            "align_self": null,
            "border": null,
            "bottom": null,
            "display": null,
            "flex": null,
            "flex_flow": null,
            "grid_area": null,
            "grid_auto_columns": null,
            "grid_auto_flow": null,
            "grid_auto_rows": null,
            "grid_column": null,
            "grid_gap": null,
            "grid_row": null,
            "grid_template_areas": null,
            "grid_template_columns": null,
            "grid_template_rows": null,
            "height": null,
            "justify_content": null,
            "justify_items": null,
            "left": null,
            "margin": null,
            "max_height": null,
            "max_width": null,
            "min_height": null,
            "min_width": null,
            "object_fit": null,
            "object_position": null,
            "order": null,
            "overflow": null,
            "overflow_x": null,
            "overflow_y": null,
            "padding": null,
            "right": null,
            "top": null,
            "visibility": null,
            "width": null
          }
        },
        "1340cf6aad874e269d98c07d1066edf1": {
          "model_module": "@jupyter-widgets/controls",
          "model_name": "DescriptionStyleModel",
          "model_module_version": "1.5.0",
          "state": {
            "_model_module": "@jupyter-widgets/controls",
            "_model_module_version": "1.5.0",
            "_model_name": "DescriptionStyleModel",
            "_view_count": null,
            "_view_module": "@jupyter-widgets/base",
            "_view_module_version": "1.2.0",
            "_view_name": "StyleView",
            "description_width": ""
          }
        }
      }
    }
  },
  "nbformat": 4,
  "nbformat_minor": 0
}