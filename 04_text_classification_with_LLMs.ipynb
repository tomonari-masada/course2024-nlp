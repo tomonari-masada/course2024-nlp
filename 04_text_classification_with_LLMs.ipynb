{
  "nbformat": 4,
  "nbformat_minor": 0,
  "metadata": {
    "colab": {
      "provenance": [],
      "gpuType": "T4",
      "authorship_tag": "ABX9TyOYXCG43Y40AvJKctkHAA2k",
      "include_colab_link": true
    },
    "kernelspec": {
      "name": "python3",
      "display_name": "Python 3"
    },
    "language_info": {
      "name": "python"
    },
    "accelerator": "GPU"
  },
  "cells": [
    {
      "cell_type": "markdown",
      "metadata": {
        "id": "view-in-github",
        "colab_type": "text"
      },
      "source": [
        "<a href=\"https://colab.research.google.com/github/tomonari-masada/course2024-nlp/blob/main/04_text_classification_with_LLMs.ipynb\" target=\"_parent\"><img src=\"https://colab.research.google.com/assets/colab-badge.svg\" alt=\"Open In Colab\"/></a>"
      ]
    },
    {
      "cell_type": "markdown",
      "source": [
        "# LLMを使ったテキスト分類\n",
        "* テキスト分類はBoWでも良い性能を出せることが多い。\n",
        "  * LLMを使って文書分類するときは、BoW+SVMの性能と比較した方が良い。\n",
        "  * なぜなら、分類性能に大きな差がつかないことも、しばしばあるので。"
      ],
      "metadata": {
        "id": "gVarWTq39kbp"
      }
    },
    {
      "cell_type": "markdown",
      "source": [
        "## インストール\n",
        "* テキスト埋め込みにSentence Transformersというライブラリを使う。"
      ],
      "metadata": {
        "id": "b6yr_L7y8hXa"
      }
    },
    {
      "cell_type": "code",
      "execution_count": null,
      "metadata": {
        "id": "nFoklf3F44Ci"
      },
      "outputs": [],
      "source": [
        "!pip install -U sentence-transformers datasets"
      ]
    },
    {
      "cell_type": "markdown",
      "source": [
        "## データセット\n",
        "* ライブドアニュースコーパスを使う。\n",
        "  * 前々回と同じ。"
      ],
      "metadata": {
        "id": "JJB6XAPZ8kgE"
      }
    },
    {
      "cell_type": "code",
      "source": [
        "from datasets import load_dataset\n",
        "\n",
        "ds = load_dataset(\n",
        "    \"shunk031/livedoor-news-corpus\",\n",
        "    train_ratio=0.8,\n",
        "    val_ratio=0.1,\n",
        "    test_ratio=0.1,\n",
        "    random_state=42,\n",
        "    shuffle=True,\n",
        "    trust_remote_code=True,\n",
        ")"
      ],
      "metadata": {
        "id": "mxZLq3TK5GLj"
      },
      "execution_count": null,
      "outputs": []
    },
    {
      "cell_type": "code",
      "source": [
        "ds"
      ],
      "metadata": {
        "id": "x8TtA7p05Qdg"
      },
      "execution_count": null,
      "outputs": []
    },
    {
      "cell_type": "code",
      "source": [
        "category_names = [\n",
        "  'movie-enter',\n",
        "  'it-life-hack',\n",
        "  'kaden-channel',\n",
        "  'topic-news',\n",
        "  'livedoor-homme',\n",
        "  'peachy',\n",
        "  'sports-watch',\n",
        "  'dokujo-tsushin',\n",
        "  'smax',\n",
        "]"
      ],
      "metadata": {
        "id": "LBksh8An5cPK"
      },
      "execution_count": null,
      "outputs": []
    },
    {
      "cell_type": "code",
      "source": [
        "ds[\"train\"][\"content\"][0]"
      ],
      "metadata": {
        "id": "oUGTgOZO5j2c"
      },
      "execution_count": null,
      "outputs": []
    },
    {
      "cell_type": "markdown",
      "source": [
        "## 埋め込みのための言語モデル\n",
        "* https://huggingface.co/spaces/mteb/leaderboard"
      ],
      "metadata": {
        "id": "O59yUgA_8bbN"
      }
    },
    {
      "cell_type": "code",
      "source": [
        "from sentence_transformers import SentenceTransformer\n",
        "\n",
        "model = SentenceTransformer(\"intfloat/multilingual-e5-large-instruct\")"
      ],
      "metadata": {
        "id": "g5zsXVlJ5kB5"
      },
      "execution_count": null,
      "outputs": []
    },
    {
      "cell_type": "markdown",
      "source": [
        "* テキストの埋め込み\n",
        "  * Google Colab無料版で10分弱。\n",
        "  * iMac Apple M3で18分。"
      ],
      "metadata": {
        "id": "KzlTDsJ386lg"
      }
    },
    {
      "cell_type": "code",
      "source": [
        "train_embeddings = model.encode(ds[\"train\"][\"content\"], show_progress_bar=True)"
      ],
      "metadata": {
        "id": "aRVMtGvF6eqZ"
      },
      "execution_count": null,
      "outputs": []
    },
    {
      "cell_type": "code",
      "source": [
        "import numpy as np\n",
        "\n",
        "with open('train_embeddings.npy', 'wb') as f:\n",
        "  np.save(f, train_embeddings)"
      ],
      "metadata": {
        "id": "SAne7oVm6q2R"
      },
      "execution_count": null,
      "outputs": []
    },
    {
      "cell_type": "code",
      "source": [
        "validation_embeddings = model.encode(ds[\"validation\"][\"content\"], show_progress_bar=True)\n",
        "test_embeddings = model.encode(ds[\"test\"][\"content\"], show_progress_bar=True)"
      ],
      "metadata": {
        "id": "pyUZjjN986IM"
      },
      "execution_count": null,
      "outputs": []
    },
    {
      "cell_type": "code",
      "source": [
        "with open('validation_embeddings.npy', 'wb') as f:\n",
        "  np.save(f, validation_embeddings)\n",
        "\n",
        "with open('test_embeddings.npy', 'wb') as f:\n",
        "  np.save(f, test_embeddings)"
      ],
      "metadata": {
        "id": "QvExx_639E2q"
      },
      "execution_count": null,
      "outputs": []
    },
    {
      "cell_type": "code",
      "source": [
        "with open('train_embeddings.npy', 'rb') as f:\n",
        "  train_embeddings = np.load(f)\n",
        "with open('validation_embeddings.npy', 'rb') as f:\n",
        "  validation_embeddings = np.load(f)\n",
        "with open('test_embeddings.npy', 'rb') as f:\n",
        "  test_embeddings = np.load(f)"
      ],
      "metadata": {
        "id": "0wapj_W4-CAv"
      },
      "execution_count": null,
      "outputs": []
    },
    {
      "cell_type": "code",
      "source": [
        "train_embeddings.shape"
      ],
      "metadata": {
        "id": "rzusHWRs-eEJ"
      },
      "execution_count": null,
      "outputs": []
    },
    {
      "cell_type": "markdown",
      "source": [
        "## SVMによる分類\n",
        "* 埋め込みベクトルを使う。"
      ],
      "metadata": {
        "id": "aAD8VBhKBY9z"
      }
    },
    {
      "cell_type": "code",
      "source": [
        "embeddings = np.concatenate([train_embeddings, validation_embeddings])\n",
        "labels = np.array(ds[\"train\"][\"category\"] + ds[\"validation\"][\"category\"])"
      ],
      "metadata": {
        "id": "SfeHsHa8-vs5"
      },
      "execution_count": null,
      "outputs": []
    },
    {
      "cell_type": "code",
      "source": [
        "from sklearn.model_selection import StratifiedKFold\n",
        "from sklearn.svm import LinearSVC\n",
        "\n",
        "skf = StratifiedKFold(n_splits=5, shuffle=True, random_state=1234)\n",
        "\n",
        "for C in 10. ** np.arange(-1, 4):\n",
        "  scores = []\n",
        "  skf_split = skf.split(embeddings, labels)\n",
        "  for train_index, val_index in skf_split:\n",
        "    X_train = embeddings[train_index]\n",
        "    clf = LinearSVC(C=C, dual=False, max_iter=1000, random_state=123)\n",
        "    clf.fit(X_train, labels[train_index])\n",
        "    X_val = embeddings[val_index]\n",
        "    score = clf.score(X_val, labels[val_index])\n",
        "    print(f\"\\t{score:.3f}\", end=\" \")\n",
        "    scores.append(score)\n",
        "  print(f\"\\nmean accuracy: {np.array(scores).mean():.3f}\", end=\"\")\n",
        "  print(f\" | C={C:.2e}\")"
      ],
      "metadata": {
        "id": "Bxw-bK-u-fsg"
      },
      "execution_count": null,
      "outputs": []
    },
    {
      "cell_type": "code",
      "source": [
        "clf = LinearSVC(C=10.0, dual=False, max_iter=1000, random_state=123)\n",
        "clf.fit(embeddings, labels)\n",
        "score = clf.score(test_embeddings, ds[\"test\"][\"category\"])\n",
        "print(f\"{score:.3f}\")"
      ],
      "metadata": {
        "id": "h4x0zZ9R_HXP"
      },
      "execution_count": null,
      "outputs": []
    }
  ]
}