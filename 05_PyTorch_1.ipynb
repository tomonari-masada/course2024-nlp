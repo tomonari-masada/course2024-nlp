{
  "cells": [
    {
      "cell_type": "markdown",
      "metadata": {
        "id": "view-in-github",
        "colab_type": "text"
      },
      "source": [
        "<a href=\"https://colab.research.google.com/github/tomonari-masada/course2024-nlp/blob/main/05_PyTorch_1.ipynb\" target=\"_parent\"><img src=\"https://colab.research.google.com/assets/colab-badge.svg\" alt=\"Open In Colab\"/></a>"
      ]
    },
    {
      "cell_type": "markdown",
      "metadata": {
        "id": "TOTJUS2sFrB2"
      },
      "source": [
        "# PyTorch入門 (1)\n"
      ]
    },
    {
      "cell_type": "markdown",
      "source": [
        "* 今回の授業資料は、以下のPyTorch本家サイトのチュートリアルほぼそのままです。\n",
        "  * https://pytorch.org/tutorials/beginner/basics/tensorqs_tutorial.html"
      ],
      "metadata": {
        "id": "twihOYj5HIB-"
      }
    },
    {
      "cell_type": "markdown",
      "source": [
        "* ランタイムの設定でGPUを選択しておいてください。"
      ],
      "metadata": {
        "id": "JX4L5dW5IMwB"
      }
    },
    {
      "cell_type": "markdown",
      "source": [
        "## テンソルとは\n",
        "* PyTorchで使われるデータ構造。\n",
        "  * NumPyのndarrayと、ほぼ同じ感覚で使える。\n",
        "\n",
        "* NumPyのndarrayとの違い\n",
        "  * CPU上はもちろん、GPUやその他のアクセラレータ上でも扱える。\n",
        "  * 自動微分が使える。（そのため、勾配の計算が簡単にできる。）"
      ],
      "metadata": {
        "id": "SicRBM8oHPdH"
      }
    },
    {
      "cell_type": "markdown",
      "source": [
        "## 再現性 (reproducibility)\n",
        "  * 詳しくは https://pytorch.org/docs/stable/notes/randomness.html"
      ],
      "metadata": {
        "id": "HnLxCWLaYvdb"
      }
    },
    {
      "cell_type": "code",
      "execution_count": null,
      "metadata": {
        "id": "EsAKg1VhFrB3"
      },
      "outputs": [],
      "source": [
        "import torch\n",
        "import numpy as np\n",
        "\n",
        "torch.manual_seed(0)\n",
        "np.random.seed(0)"
      ]
    },
    {
      "cell_type": "markdown",
      "metadata": {
        "id": "ufDIatvOFrB4"
      },
      "source": [
        "## テンソルの初期化\n",
        "\n",
        "### 既存のデータから直接テンソルを作る\n"
      ]
    },
    {
      "cell_type": "code",
      "execution_count": null,
      "metadata": {
        "id": "-yZAI42TFrB4"
      },
      "outputs": [],
      "source": [
        "data = [[1, 2],[3, 4]]\n",
        "x_data = torch.tensor(data)"
      ]
    },
    {
      "cell_type": "code",
      "source": [
        "x_data"
      ],
      "metadata": {
        "id": "hx9Yr9AOGxIv"
      },
      "execution_count": null,
      "outputs": []
    },
    {
      "cell_type": "markdown",
      "metadata": {
        "id": "SFEzlwZfFrB4"
      },
      "source": [
        "### NumPyの配列から作る\n"
      ]
    },
    {
      "cell_type": "code",
      "execution_count": null,
      "metadata": {
        "id": "rnXjjJTNFrB4"
      },
      "outputs": [],
      "source": [
        "np_array = np.array(data)\n",
        "x_np = torch.from_numpy(np_array)"
      ]
    },
    {
      "cell_type": "code",
      "source": [
        "x_np"
      ],
      "metadata": {
        "id": "1Isv-sbyGyaA"
      },
      "execution_count": null,
      "outputs": []
    },
    {
      "cell_type": "markdown",
      "metadata": {
        "id": "ElBhOfdNFrB5"
      },
      "source": [
        "### 他のテンソルから作る\n",
        "* 他のテンソルと同じ形状のテンソルを作る。\n"
      ]
    },
    {
      "cell_type": "markdown",
      "source": [
        "* 要素が全て1のテンソル"
      ],
      "metadata": {
        "id": "H0XiTKa_G4jn"
      }
    },
    {
      "cell_type": "code",
      "execution_count": null,
      "metadata": {
        "id": "793HJE6fFrB5"
      },
      "outputs": [],
      "source": [
        "x_ones = torch.ones_like(x_data) # retains the properties of x_data\n",
        "print(f\"Ones Tensor: \\n {x_ones} \\n\")"
      ]
    },
    {
      "cell_type": "markdown",
      "source": [
        "* 要素が乱数のテンソル"
      ],
      "metadata": {
        "id": "spzVMOnOHB-H"
      }
    },
    {
      "cell_type": "code",
      "source": [
        "x_rand = torch.rand_like(x_data, dtype=torch.float) # overrides the datatype of x_data\n",
        "print(f\"Random Tensor: \\n {x_rand} \\n\")"
      ],
      "metadata": {
        "id": "BY-qo2uXG2oa"
      },
      "execution_count": null,
      "outputs": []
    },
    {
      "cell_type": "markdown",
      "metadata": {
        "id": "7k9tJ-e-FrB5"
      },
      "source": [
        "### 特定の形状を特定の内容で埋めて作る\n"
      ]
    },
    {
      "cell_type": "markdown",
      "source": [
        "* 形状の指定\n",
        " * Pythonのタプルやリストで指定する。"
      ],
      "metadata": {
        "id": "MZ39NjoEIoVV"
      }
    },
    {
      "cell_type": "code",
      "source": [
        "shape = (2,3,)\n",
        "#shape = [2,3] # これでもOK"
      ],
      "metadata": {
        "id": "crS8fiLtH1wi"
      },
      "execution_count": null,
      "outputs": []
    },
    {
      "cell_type": "code",
      "source": [
        "rand_tensor = torch.rand(shape)\n",
        "print(f\"Random Tensor: \\n {rand_tensor} \\n\")"
      ],
      "metadata": {
        "id": "hUT7JV4JH4Ew"
      },
      "execution_count": null,
      "outputs": []
    },
    {
      "cell_type": "code",
      "source": [
        "ones_tensor = torch.ones(shape)\n",
        "print(f\"Ones Tensor: \\n {ones_tensor} \\n\")"
      ],
      "metadata": {
        "id": "Zpj4Nyg1H51S"
      },
      "execution_count": null,
      "outputs": []
    },
    {
      "cell_type": "code",
      "execution_count": null,
      "metadata": {
        "id": "MRjNAvtUFrB5"
      },
      "outputs": [],
      "source": [
        "zeros_tensor = torch.zeros(shape)\n",
        "print(f\"Zeros Tensor: \\n {zeros_tensor}\")"
      ]
    },
    {
      "cell_type": "markdown",
      "metadata": {
        "id": "YFJdDj-bFrB6"
      },
      "source": [
        "## テンソルの属性\n"
      ]
    },
    {
      "cell_type": "markdown",
      "source": [
        "* 形状\n",
        "* データ型\n",
        "* 保存されているデバイス"
      ],
      "metadata": {
        "id": "pc9uW2v4I82M"
      }
    },
    {
      "cell_type": "code",
      "execution_count": null,
      "metadata": {
        "id": "jTQxm792FrB6"
      },
      "outputs": [],
      "source": [
        "tensor = torch.rand(3,4)\n",
        "\n",
        "print(f\"Shape of tensor: {tensor.shape}\")\n",
        "print(f\"Datatype of tensor: {tensor.dtype}\")\n",
        "print(f\"Device tensor is stored on: {tensor.device}\")"
      ]
    },
    {
      "cell_type": "markdown",
      "metadata": {
        "id": "W0tKM226FrB6"
      },
      "source": [
        "## テンソルの操作\n",
        "\n",
        "* 詳しくは公式のdocumentationsで。\n",
        " * https://pytorch.org/docs/stable/torch.html\n",
        "\n"
      ]
    },
    {
      "cell_type": "markdown",
      "source": [
        "### GPU上でのテンソルの操作\n",
        "* テンソルは、デフォルトではCPU上に作られる。\n",
        "* そのため、何もしないと、CPU上で演算が行われる。\n",
        "* GPU上で計算をするには、テンソルをGPUへ移動させておく。\n",
        "\n",
        "* 巨大なテンソルをCPUとGPUの間で頻繁に行き来させると、時間を食うので、注意。"
      ],
      "metadata": {
        "id": "96YKkKZvMX4f"
      }
    },
    {
      "cell_type": "markdown",
      "source": [
        "* テンソルをGPUへ移動させる方法\n",
        "  * まずCPU上でテンソルを作る。\n",
        "  * GPUが使えるかどうか確認してから移動させる。"
      ],
      "metadata": {
        "id": "u3SUfe0IUIVB"
      }
    },
    {
      "cell_type": "code",
      "execution_count": null,
      "metadata": {
        "id": "nP9Ljt_5FrB6"
      },
      "outputs": [],
      "source": [
        "tensor = torch.rand(3,4)\n",
        "\n",
        "# We move our tensor to the GPU if available\n",
        "if torch.cuda.is_available():\n",
        "  tensor = tensor.to(\"cuda\")\n",
        "print(tensor)"
      ]
    },
    {
      "cell_type": "markdown",
      "source": [
        "* 使用するデバイスを変数に保存しておくのも、よく使われる方法。\n",
        "  * こうすると、CPUを使うコードとGPUを使うコードを、統一して扱える。"
      ],
      "metadata": {
        "id": "nI6rSb6hUd0q"
      }
    },
    {
      "cell_type": "code",
      "source": [
        "device = \"cuda\" if torch.cuda.is_available() else \"cpu\"\n",
        "print(f\"Using {device} device\")\n",
        "\n",
        "tensor = torch.rand(3,4)\n",
        "tensor = tensor.to(device)\n",
        "print(tensor)"
      ],
      "metadata": {
        "id": "coUwXvVuUBTY"
      },
      "execution_count": null,
      "outputs": []
    },
    {
      "cell_type": "markdown",
      "metadata": {
        "id": "ZwrVrBy0FrB6"
      },
      "source": [
        "## インデクシングとスライシング\n",
        "* NumPyとほぼ同じ。\n"
      ]
    },
    {
      "cell_type": "code",
      "source": [
        "tensor = torch.cumsum(torch.ones(4, 4), dim=1)\n",
        "print(tensor)"
      ],
      "metadata": {
        "id": "-1YnTGGSKOtW"
      },
      "execution_count": null,
      "outputs": []
    },
    {
      "cell_type": "code",
      "execution_count": null,
      "metadata": {
        "id": "UXK1QMt0FrB6"
      },
      "outputs": [],
      "source": [
        "print(f\"First row: {tensor[0]}\")\n",
        "print(f\"First column: {tensor[:, 0]}\")\n",
        "print(f\"Last column: {tensor[:, -1]}\")"
      ]
    },
    {
      "cell_type": "code",
      "source": [
        "print(f\"First column: {tensor[..., 0]}\")\n",
        "print(f\"Last column: {tensor[..., -1]}\")"
      ],
      "metadata": {
        "id": "G4ZVFy6CKWeG"
      },
      "execution_count": null,
      "outputs": []
    },
    {
      "cell_type": "markdown",
      "source": [
        "* 同時に複数の要素を上書き"
      ],
      "metadata": {
        "id": "enS0OEiMKbNR"
      }
    },
    {
      "cell_type": "code",
      "source": [
        "tensor[:,1] = 0\n",
        "print(tensor)"
      ],
      "metadata": {
        "id": "FZfwTeK1KK9L"
      },
      "execution_count": null,
      "outputs": []
    },
    {
      "cell_type": "markdown",
      "metadata": {
        "id": "FBwqQQBGFrB6"
      },
      "source": [
        "### テンソルを結合する\n",
        "\n",
        "* ``torch.cat``\n",
        " * https://pytorch.org/docs/stable/generated/torch.cat.html\n",
        "\n",
        "* ``torch.stack``\n",
        " * https://pytorch.org/docs/stable/generated/torch.stack.html"
      ]
    },
    {
      "cell_type": "code",
      "source": [
        "tensor = torch.arange(12).reshape(3,4)\n",
        "print(tensor)"
      ],
      "metadata": {
        "id": "SNU6uYBlK-Ze"
      },
      "execution_count": null,
      "outputs": []
    },
    {
      "cell_type": "code",
      "execution_count": null,
      "metadata": {
        "id": "MSSIidkBFrB7"
      },
      "outputs": [],
      "source": [
        "t1 = torch.cat([tensor, tensor, tensor], dim=1)\n",
        "print(t1)"
      ]
    },
    {
      "cell_type": "markdown",
      "source": [
        "### 問: 以下の実行結果を見て、`torch.stack`が何をしているか、説明してみよう。"
      ],
      "metadata": {
        "id": "sT64mqC0MFb-"
      }
    },
    {
      "cell_type": "code",
      "source": [
        "t2 = torch.stack([tensor, tensor, tensor], dim=1)\n",
        "print(t2)"
      ],
      "metadata": {
        "id": "VFvdzDcgLSom"
      },
      "execution_count": null,
      "outputs": []
    },
    {
      "cell_type": "code",
      "source": [
        "t3 = torch.stack([tensor, tensor, tensor], dim=0)\n",
        "print(t3)"
      ],
      "metadata": {
        "id": "k9Kqo7cCLj7p"
      },
      "execution_count": null,
      "outputs": []
    },
    {
      "cell_type": "markdown",
      "metadata": {
        "id": "PupODPYeFrB7"
      },
      "source": [
        "## テンソルの演算\n"
      ]
    },
    {
      "cell_type": "code",
      "source": [
        "tensor = torch.cumsum(torch.ones(4, 4), dim=1)\n",
        "print(tensor)"
      ],
      "metadata": {
        "id": "ObrkknzaMpzL"
      },
      "execution_count": null,
      "outputs": []
    },
    {
      "cell_type": "markdown",
      "source": [
        "* 転置と行列積"
      ],
      "metadata": {
        "id": "1IwBMGjKM4-h"
      }
    },
    {
      "cell_type": "code",
      "source": [
        "y1 = tensor @ tensor.T\n",
        "print(y1)"
      ],
      "metadata": {
        "id": "cgssKvfGMmRl"
      },
      "execution_count": null,
      "outputs": []
    },
    {
      "cell_type": "code",
      "source": [
        "y2 = tensor.matmul(tensor.T)\n",
        "print(y2)"
      ],
      "metadata": {
        "id": "o46qZpujM-hT"
      },
      "execution_count": null,
      "outputs": []
    },
    {
      "cell_type": "markdown",
      "source": [
        "* 既存のテンソルへの計算結果の上書き\n",
        " * `out=`で指定する。"
      ],
      "metadata": {
        "id": "VkncmvqqNXlo"
      }
    },
    {
      "cell_type": "code",
      "source": [
        "y3 = torch.rand_like(y1)\n",
        "print(y3)"
      ],
      "metadata": {
        "id": "ZBiZrONtNBEG"
      },
      "execution_count": null,
      "outputs": []
    },
    {
      "cell_type": "code",
      "source": [
        "torch.matmul(tensor, tensor.T, out=y3)"
      ],
      "metadata": {
        "id": "JzU1qeK8bKql"
      },
      "execution_count": null,
      "outputs": []
    },
    {
      "cell_type": "code",
      "source": [
        "# y3が上書きされていることを確認\n",
        "print(y3)"
      ],
      "metadata": {
        "id": "TtVFty26N1la"
      },
      "execution_count": null,
      "outputs": []
    },
    {
      "cell_type": "markdown",
      "source": [
        "* 要素ごとの演算"
      ],
      "metadata": {
        "id": "Si42wN21NEoj"
      }
    },
    {
      "cell_type": "code",
      "execution_count": null,
      "metadata": {
        "id": "ffmbuuJAFrB7"
      },
      "outputs": [],
      "source": [
        "# This computes the element-wise product. z1, z2, z3 will have the same value\n",
        "z1 = tensor + tensor\n",
        "print(z1)\n",
        "z2 = tensor.add(tensor)\n",
        "print(z2)"
      ]
    },
    {
      "cell_type": "code",
      "source": [
        "z3 = torch.rand_like(tensor)\n",
        "torch.add(tensor, tensor, out=z3)"
      ],
      "metadata": {
        "id": "MkcUkCSnNiNv"
      },
      "execution_count": null,
      "outputs": []
    },
    {
      "cell_type": "code",
      "source": [
        "print(z3)"
      ],
      "metadata": {
        "id": "bvDum_-DN0Li"
      },
      "execution_count": null,
      "outputs": []
    },
    {
      "cell_type": "markdown",
      "metadata": {
        "id": "AIbeUKxYFrB7"
      },
      "source": [
        "## 要素数1のテンソル\n",
        "* `item()`メソッドでPythonのスカラに変換できる。"
      ]
    },
    {
      "cell_type": "code",
      "source": [
        "tensor = torch.ones((3,4))\n",
        "tensor[:,1] = 0\n",
        "print(tensor)"
      ],
      "metadata": {
        "id": "9JZixSwvODi3"
      },
      "execution_count": null,
      "outputs": []
    },
    {
      "cell_type": "code",
      "source": [
        "agg = tensor.sum()\n",
        "print(agg)"
      ],
      "metadata": {
        "id": "x1gMGtFcN_LG"
      },
      "execution_count": null,
      "outputs": []
    },
    {
      "cell_type": "code",
      "execution_count": null,
      "metadata": {
        "id": "alEDXMqSFrB7"
      },
      "outputs": [],
      "source": [
        "agg_item = agg.item()\n",
        "print(agg_item)\n",
        "print(type(agg_item))"
      ]
    },
    {
      "cell_type": "markdown",
      "metadata": {
        "id": "rKxJIA74FrB7"
      },
      "source": [
        "## in-place演算\n",
        "* 演算結果が演算対象のテンソルに上書きされる演算\n",
        "* PyTorchでは``_``という接尾辞で表される。\n",
        " * 例えば ``x.copy_(y)``, ``x.t_()``などは``x``の内容を上書きする。\n",
        "\n"
      ]
    },
    {
      "cell_type": "code",
      "source": [
        "tensor = torch.cumsum(torch.ones(4, 4), dim=1)\n",
        "print(tensor)"
      ],
      "metadata": {
        "id": "aUPXB_XxO0p5"
      },
      "execution_count": null,
      "outputs": []
    },
    {
      "cell_type": "code",
      "execution_count": null,
      "metadata": {
        "id": "-C8AfTBNFrB7"
      },
      "outputs": [],
      "source": [
        "tensor.add_(5)\n",
        "print(tensor)"
      ]
    },
    {
      "cell_type": "markdown",
      "metadata": {
        "id": "dlqTH21YFrB7"
      },
      "source": [
        "* in-place演算はメモリの節約になるが、自動微分でトラブルのもと。\n",
        "* PyTorch本家サイトはHence, their use is discouraged.と言っている。\n",
        "\n"
      ]
    },
    {
      "cell_type": "markdown",
      "metadata": {
        "id": "-xzrX38OFrB7"
      },
      "source": [
        "## NumPyとの連携\n",
        "* PyTorchのテンソルとNumPyのndarrayは相互に変換できる。\n"
      ]
    },
    {
      "cell_type": "markdown",
      "metadata": {
        "id": "a9wjS8qdFrB7"
      },
      "source": [
        "### TensorからNumPyの配列へ\n",
        "\n"
      ]
    },
    {
      "cell_type": "code",
      "execution_count": null,
      "metadata": {
        "id": "pZL8tqadFrB8"
      },
      "outputs": [],
      "source": [
        "t = torch.ones(5)\n",
        "print(f\"t: {t}\")\n",
        "n = t.numpy()\n",
        "print(f\"n: {n}\")"
      ]
    },
    {
      "cell_type": "markdown",
      "metadata": {
        "id": "zTcMBlo3FrB8"
      },
      "source": [
        "* テンソルをin-place演算で変更すると、NumPyの配列も変わるので、注意。\n",
        "\n"
      ]
    },
    {
      "cell_type": "code",
      "execution_count": null,
      "metadata": {
        "id": "hoFCnGU0FrB8"
      },
      "outputs": [],
      "source": [
        "t.add_(1)\n",
        "print(f\"t: {t}\")\n",
        "print(f\"n: {n}\")"
      ]
    },
    {
      "cell_type": "code",
      "source": [
        "t = torch.ones(5)\n",
        "n = t.numpy()\n",
        "t += 1\n",
        "print(f\"t: {t}\")\n",
        "print(f\"n: {n}\")"
      ],
      "metadata": {
        "id": "P6eKF4cycE2w"
      },
      "execution_count": null,
      "outputs": []
    },
    {
      "cell_type": "markdown",
      "source": [
        "### 問: 以下のPyTorchのコードの結果がなぜそうなるか、説明してみよう。"
      ],
      "metadata": {
        "id": "nhiIiHWVcJ64"
      }
    },
    {
      "cell_type": "code",
      "source": [
        "t = torch.ones(5)\n",
        "n = t.numpy()\n",
        "t = t + 1\n",
        "print(f\"t: {t}\")\n",
        "print(f\"n: {n}\")"
      ],
      "metadata": {
        "id": "I1qFMo3scUeR"
      },
      "execution_count": null,
      "outputs": []
    },
    {
      "cell_type": "markdown",
      "metadata": {
        "id": "h9v5Ir8YFrB8"
      },
      "source": [
        "### NumPyの配列からテンソルへ\n",
        "\n"
      ]
    },
    {
      "cell_type": "code",
      "execution_count": null,
      "metadata": {
        "id": "n9sOPjVNFrB8"
      },
      "outputs": [],
      "source": [
        "n = np.ones(5)\n",
        "print(f\"n: {n}\")\n",
        "t = torch.from_numpy(n)\n",
        "print(f\"t: {t}\")"
      ]
    },
    {
      "cell_type": "markdown",
      "metadata": {
        "id": "HOfmtGLkFrB8"
      },
      "source": [
        "* NumPyの配列をin-place演算で変えるとテンソルも変わるので、注意。\n",
        "\n"
      ]
    },
    {
      "cell_type": "code",
      "execution_count": null,
      "metadata": {
        "id": "tlPfX3fmFrB8"
      },
      "outputs": [],
      "source": [
        "np.add(n, 1, out=n)\n",
        "print(f\"t: {t}\")\n",
        "print(f\"n: {n}\")"
      ]
    },
    {
      "cell_type": "code",
      "source": [
        "n = np.ones(5)\n",
        "t = torch.from_numpy(n)\n",
        "n += 1\n",
        "print(f\"t: {t}\")\n",
        "print(f\"n: {n}\")"
      ],
      "metadata": {
        "id": "MWV0c3bOchir"
      },
      "execution_count": null,
      "outputs": []
    },
    {
      "cell_type": "code",
      "source": [
        "n = np.ones(5)\n",
        "t = torch.from_numpy(n)\n",
        "n = n + 1\n",
        "print(f\"t: {t}\")\n",
        "print(f\"n: {n}\")"
      ],
      "metadata": {
        "id": "MC9kBxuVcnRd"
      },
      "execution_count": null,
      "outputs": []
    },
    {
      "cell_type": "markdown",
      "source": [
        "## 自動微分"
      ],
      "metadata": {
        "id": "Cqv0c7eYQJPU"
      }
    },
    {
      "cell_type": "markdown",
      "source": [
        "* ここからはPyTorchのTensorsというチュートリアルにはない部分です。"
      ],
      "metadata": {
        "id": "YVMZdWfpQnL_"
      }
    },
    {
      "cell_type": "markdown",
      "source": [
        "### 微分できるテンソルを作る\n",
        "* requires_gradをTrueに設定してテンソルを作る"
      ],
      "metadata": {
        "id": "qSTd4cVNQMoC"
      }
    },
    {
      "cell_type": "code",
      "source": [
        "x = torch.ones(2, 2, requires_grad=True)\n",
        "print(x)\n",
        "print(x.requires_grad)"
      ],
      "metadata": {
        "id": "iQehxkLAQMeK"
      },
      "execution_count": null,
      "outputs": []
    },
    {
      "cell_type": "markdown",
      "source": [
        "* テンソルを作った後でrequires_gradをTrueにすることもできる。"
      ],
      "metadata": {
        "id": "uuywMXKpQT-u"
      }
    },
    {
      "cell_type": "code",
      "source": [
        "a = torch.randn(2, 2)\n",
        "print(a)\n",
        "print(a.requires_grad)"
      ],
      "metadata": {
        "id": "Jzr32iZzQgEP"
      },
      "execution_count": null,
      "outputs": []
    },
    {
      "cell_type": "code",
      "source": [
        "a.requires_grad_(True)\n",
        "print(a.requires_grad)"
      ],
      "metadata": {
        "id": "89A9XQ5mQi32"
      },
      "execution_count": null,
      "outputs": []
    },
    {
      "cell_type": "markdown",
      "source": [
        "### 計算グラフ\n",
        "* 微分できるテンソルを含む計算を行うと、計算グラフが作られる。"
      ],
      "metadata": {
        "id": "gtUiY3kHQvrn"
      }
    },
    {
      "cell_type": "code",
      "source": [
        "x = torch.ones((2, 2), requires_grad=True)\n",
        "print(x)\n",
        "y = x * x * 2\n",
        "print(y)\n",
        "z = y.mean()\n",
        "print(z)"
      ],
      "metadata": {
        "id": "dA-lOuEdQl-I"
      },
      "execution_count": null,
      "outputs": []
    },
    {
      "cell_type": "code",
      "source": [
        "print(f\"Gradient function for z = {z.grad_fn}\")"
      ],
      "metadata": {
        "id": "73j4zmiZR5CV"
      },
      "execution_count": null,
      "outputs": []
    },
    {
      "cell_type": "markdown",
      "source": [
        "### GPUでの自動微分"
      ],
      "metadata": {
        "id": "4ze6YsUARb7l"
      }
    },
    {
      "cell_type": "markdown",
      "source": [
        "* デバイスの設定"
      ],
      "metadata": {
        "id": "x3IcoApEVJgv"
      }
    },
    {
      "cell_type": "code",
      "source": [
        "device = \"cuda\" if torch.cuda.is_available() else \"cpu\"\n",
        "print(f\"Using {device} device\")"
      ],
      "metadata": {
        "id": "uE8G9rfSUvRm"
      },
      "execution_count": null,
      "outputs": []
    },
    {
      "cell_type": "markdown",
      "source": [
        "* forward pass"
      ],
      "metadata": {
        "id": "e4wi4uOmVLO8"
      }
    },
    {
      "cell_type": "code",
      "source": [
        "x = torch.ones((2, 2), device=device, requires_grad=True)\n",
        "print(x)\n",
        "y = x * x * 2\n",
        "print(y)\n",
        "z = y.mean()\n",
        "print(z)"
      ],
      "metadata": {
        "id": "H0ATQs9PQ2zt"
      },
      "execution_count": null,
      "outputs": []
    },
    {
      "cell_type": "code",
      "source": [
        "print(f\"Gradient function for z = {z.grad_fn}\")"
      ],
      "metadata": {
        "id": "GFU4f-riR8lO"
      },
      "execution_count": null,
      "outputs": []
    },
    {
      "cell_type": "markdown",
      "source": [
        "* backward pass"
      ],
      "metadata": {
        "id": "vPr69T6YU-lk"
      }
    },
    {
      "cell_type": "code",
      "source": [
        "z.backward()"
      ],
      "metadata": {
        "id": "zxG0LcM3Q-rs"
      },
      "execution_count": null,
      "outputs": []
    },
    {
      "cell_type": "markdown",
      "source": [
        "* 偏微分の結果の確認"
      ],
      "metadata": {
        "id": "1XiFjQtBVbmn"
      }
    },
    {
      "cell_type": "code",
      "source": [
        "x.grad"
      ],
      "metadata": {
        "id": "fSCR56ivRmdq"
      },
      "execution_count": null,
      "outputs": []
    },
    {
      "cell_type": "markdown",
      "source": [
        "### 問: なぜ上の結果になっているか、説明してみよう。\n",
        "\n",
        "$f(x_1,x_2,x_3,x_4) = \\frac{1}{4}(2 x_1^2 + 2x_2^2 + 2x_3^2 + 2x_4^2)$\n",
        "\n",
        "$\\frac{\\partial f}{\\partial x_1} = \\frac{1}{4}4x_1 = x_1$"
      ],
      "metadata": {
        "id": "yraw8aFNXYt3"
      }
    },
    {
      "cell_type": "markdown",
      "source": [
        "## 計算グラフの可視化"
      ],
      "metadata": {
        "id": "yPSHleBSV9Fs"
      }
    },
    {
      "cell_type": "code",
      "source": [
        "!pip install torchviz"
      ],
      "metadata": {
        "id": "HBYJRcbeVrD-"
      },
      "execution_count": null,
      "outputs": []
    },
    {
      "cell_type": "code",
      "source": [
        "from torchviz import make_dot"
      ],
      "metadata": {
        "id": "2ARv8ajVTqf4"
      },
      "execution_count": null,
      "outputs": []
    },
    {
      "cell_type": "code",
      "source": [
        "x = torch.ones((2, 2), device=device, requires_grad=True)\n",
        "print(x)\n",
        "y = x * x * 2\n",
        "print(y)\n",
        "z = y.mean()\n",
        "print(z)"
      ],
      "metadata": {
        "id": "QR08repSVlRi"
      },
      "execution_count": null,
      "outputs": []
    },
    {
      "cell_type": "code",
      "source": [
        "make_dot(z, params={'x':x})"
      ],
      "metadata": {
        "id": "xxRFUH52VxEC"
      },
      "execution_count": null,
      "outputs": []
    },
    {
      "cell_type": "markdown",
      "source": [
        "# （発展編）高階微分"
      ],
      "metadata": {
        "id": "U_7QNGt0XF5e"
      }
    },
    {
      "cell_type": "markdown",
      "source": [
        "* PyTorchの`torch.autograd`を利用すると、高階微分の計算ができる。"
      ],
      "metadata": {
        "id": "j4XyoAmsXUrz"
      }
    },
    {
      "cell_type": "markdown",
      "source": [
        "## （応用例）スコア・マッチングによる確率分布のパラメータ推定\n",
        "* スコア・マッチングについては、下記の論文を参照。\n",
        "  * https://jmlr.org/papers/volume6/hyvarinen05a/hyvarinen05a.pdf\n",
        "* 式(4)を利用して、パラメータ推定を行う。\n",
        "  * 2階偏微分の計算が必要。\n",
        "  * そこで`torch.autograd`を使う。"
      ],
      "metadata": {
        "id": "j7-I0EsmXiar"
      }
    },
    {
      "cell_type": "markdown",
      "source": [
        "### 1. 正規分布の場合"
      ],
      "metadata": {
        "id": "U00GtuUfu056"
      }
    },
    {
      "cell_type": "markdown",
      "source": [
        "* 人工データの生成"
      ],
      "metadata": {
        "id": "FoBQxSHsYOkY"
      }
    },
    {
      "cell_type": "code",
      "source": [
        "x_obs = torch.randn(1000)"
      ],
      "metadata": {
        "id": "dfLrpJJBLhie"
      },
      "execution_count": null,
      "outputs": []
    },
    {
      "cell_type": "code",
      "source": [
        "x_obs[:30]"
      ],
      "metadata": {
        "id": "uL1f8X3ODS7y"
      },
      "execution_count": null,
      "outputs": []
    },
    {
      "cell_type": "markdown",
      "source": [
        "* 規格化されていない対数密度関数"
      ],
      "metadata": {
        "id": "FGqhLr9RD0nA"
      }
    },
    {
      "cell_type": "code",
      "source": [
        "def log_unnormalized_density(x, a, b):\n",
        "  return - (x - a) ** 2 / (2 * b ** 2)"
      ],
      "metadata": {
        "id": "a89y2M5kNQfE"
      },
      "execution_count": null,
      "outputs": []
    },
    {
      "cell_type": "markdown",
      "source": [
        "* スコア・マッチングによるパラメータ更新を行う関数\n",
        "  * パラメータは平均と標準偏差。"
      ],
      "metadata": {
        "id": "b67BR9ZUYVl6"
      }
    },
    {
      "cell_type": "code",
      "source": [
        "def update(a, b, learning_rate=0.01):\n",
        "  x = x_obs.clone().requires_grad_(True)\n",
        "  log_q = log_unnormalized_density(x, a, b)\n",
        "  grad_outputs = torch.ones_like(log_q)\n",
        "  psi = torch.autograd.grad(log_q, x, grad_outputs=grad_outputs, create_graph=True)\n",
        "  d_psi = torch.autograd.grad(psi[0], x, grad_outputs=grad_outputs, create_graph=True)\n",
        "  J = (d_psi[0] + psi[0] ** 2 / 2).mean()\n",
        "  dJ = torch.autograd.grad(J, [a, b])\n",
        "  with torch.no_grad():\n",
        "    a -= learning_rate * dJ[0]\n",
        "    b -= learning_rate * dJ[1]\n",
        "  return a, b"
      ],
      "metadata": {
        "id": "VSMDIEyIAwBW"
      },
      "execution_count": null,
      "outputs": []
    },
    {
      "cell_type": "markdown",
      "source": [
        "* 推定すべきパラメータを適当に初期化"
      ],
      "metadata": {
        "id": "prVauFynYb7l"
      }
    },
    {
      "cell_type": "code",
      "source": [
        "a = torch.tensor(0.5, requires_grad=True)\n",
        "b = torch.tensor(1.2, requires_grad=True)"
      ],
      "metadata": {
        "id": "oH8ftF9qW7di"
      },
      "execution_count": null,
      "outputs": []
    },
    {
      "cell_type": "markdown",
      "source": [
        "* 目的関数を最小化する"
      ],
      "metadata": {
        "id": "8z6A8OMlYfbk"
      }
    },
    {
      "cell_type": "code",
      "source": [
        "for i in range(1000):\n",
        "  a, b = update(a, b, learning_rate=0.1)\n",
        "  if i % 100 == 0:\n",
        "    print(a, b)"
      ],
      "metadata": {
        "id": "3_RLyIYaNYOp"
      },
      "execution_count": null,
      "outputs": []
    },
    {
      "cell_type": "code",
      "source": [
        "x_obs.mean(), x_obs.std(unbiased=False)"
      ],
      "metadata": {
        "id": "FCPqu-mR8BQc"
      },
      "execution_count": null,
      "outputs": []
    },
    {
      "cell_type": "markdown",
      "source": [
        "### 2. シグモイド・ベータ分布の場合"
      ],
      "metadata": {
        "id": "M6KWmBc1wgPW"
      }
    },
    {
      "cell_type": "code",
      "source": [
        "from scipy.stats import beta\n",
        "\n",
        "a = 5.0\n",
        "b = 2.0\n",
        "x_obs = beta.rvs(a, b, size=1000, random_state=0)\n",
        "x_obs = torch.from_numpy(x_obs)"
      ],
      "metadata": {
        "id": "GWX-x5H7YYDl"
      },
      "execution_count": null,
      "outputs": []
    },
    {
      "cell_type": "code",
      "source": [
        "x_obs[:30]"
      ],
      "metadata": {
        "id": "SmAc5zrhvQqN"
      },
      "execution_count": null,
      "outputs": []
    },
    {
      "cell_type": "markdown",
      "source": [
        "* $x = \\sigma(y)$と変数変換する。ここで$\\sigma$はシグモイド関数。"
      ],
      "metadata": {
        "id": "sZ4Vy3Vu2oWZ"
      }
    },
    {
      "cell_type": "code",
      "source": [
        "y_obs = torch.special.logit(x_obs, eps=1e-6)"
      ],
      "metadata": {
        "id": "lUjLNZeLwSpK"
      },
      "execution_count": null,
      "outputs": []
    },
    {
      "cell_type": "code",
      "source": [
        "y_obs[:30]"
      ],
      "metadata": {
        "id": "422_bzUWxJ9J"
      },
      "execution_count": null,
      "outputs": []
    },
    {
      "cell_type": "markdown",
      "source": [
        "* https://www.tensorflow.org/probability/api_docs/python/tfp/distributions/SigmoidBeta\n",
        "  * $f_Y(y)=f_X(g^{-1}(y)) |\\frac{dg^{-1}(y)}{dy}|$ where $g^{-1}(y)= \\sigma(y)$.\n",
        "  * For $\\sigma(y)$, we obtain $\\frac{dg^{-1}(y)}{dy} = \\sigma(y) (1 - \\sigma(y)) \\geq 0$.\n",
        "  * Therefore, $f_Y(y)=f_X(\\sigma(y)) \\sigma(y) (1 - \\sigma(y)) = \\sigma(y)^{a - 1} (1 - \\sigma(y))^{b - 1}\\sigma(y) (1 - \\sigma(y)) = \\sigma(y)^a (1 - \\sigma(y))^b$."
      ],
      "metadata": {
        "id": "rwqVhSyz0fFy"
      }
    },
    {
      "cell_type": "code",
      "source": [
        "def log_unnormalized_density(y, a, b):\n",
        "  return a * torch.log(torch.sigmoid(y)) + b * torch.log(1.0 - torch.sigmoid(y))"
      ],
      "metadata": {
        "id": "PKAfm1a2vYss"
      },
      "execution_count": null,
      "outputs": []
    },
    {
      "cell_type": "code",
      "source": [
        "def update(a, b, learning_rate=0.01):\n",
        "  y = y_obs.clone().requires_grad_(True)\n",
        "  log_q = log_unnormalized_density(y, a, b)\n",
        "  grad_outputs = torch.ones_like(log_q)\n",
        "  psi = torch.autograd.grad(log_q, y, grad_outputs=grad_outputs, create_graph=True)\n",
        "  d_psi = torch.autograd.grad(psi[0], y, grad_outputs=grad_outputs, create_graph=True)\n",
        "  J = (d_psi[0] + psi[0] ** 2 / 2).mean()\n",
        "  dJ = torch.autograd.grad(J, [a, b])\n",
        "  with torch.no_grad():\n",
        "    a -= learning_rate * dJ[0]\n",
        "    b -= learning_rate * dJ[1]\n",
        "  return a, b"
      ],
      "metadata": {
        "id": "haoSXg0Tv_jL"
      },
      "execution_count": null,
      "outputs": []
    },
    {
      "cell_type": "code",
      "source": [
        "a = torch.tensor(0.5, requires_grad=True)\n",
        "b = torch.tensor(1.2, requires_grad=True)"
      ],
      "metadata": {
        "id": "k2k-lkgpwcx4"
      },
      "execution_count": null,
      "outputs": []
    },
    {
      "cell_type": "code",
      "source": [
        "for i in range(3000):\n",
        "  a, b = update(a, b, learning_rate=0.1)\n",
        "  if i % 100 == 0:\n",
        "    print(a, b)"
      ],
      "metadata": {
        "id": "LUeypRGfwthE"
      },
      "execution_count": null,
      "outputs": []
    },
    {
      "cell_type": "code",
      "source": [],
      "metadata": {
        "id": "LTzpy9s_wvqM"
      },
      "execution_count": null,
      "outputs": []
    }
  ],
  "metadata": {
    "kernelspec": {
      "display_name": "Python 3",
      "name": "python3"
    },
    "language_info": {
      "codemirror_mode": {
        "name": "ipython",
        "version": 3
      },
      "file_extension": ".py",
      "mimetype": "text/x-python",
      "name": "python",
      "nbconvert_exporter": "python",
      "pygments_lexer": "ipython3",
      "version": "3.10.12"
    },
    "colab": {
      "provenance": [],
      "gpuType": "T4",
      "include_colab_link": true
    },
    "accelerator": "GPU"
  },
  "nbformat": 4,
  "nbformat_minor": 0
}