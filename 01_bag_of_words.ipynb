{
  "nbformat": 4,
  "nbformat_minor": 0,
  "metadata": {
    "colab": {
      "provenance": [],
      "authorship_tag": "ABX9TyOyOljmj7BobdtMQYMxnaxW",
      "include_colab_link": true
    },
    "kernelspec": {
      "name": "python3",
      "display_name": "Python 3"
    }
  },
  "cells": [
    {
      "cell_type": "markdown",
      "metadata": {
        "id": "view-in-github",
        "colab_type": "text"
      },
      "source": [
        "<a href=\"https://colab.research.google.com/github/tomonari-masada/course2024-nlp/blob/main/01_bag_of_words.ipynb\" target=\"_parent\"><img src=\"https://colab.research.google.com/assets/colab-badge.svg\" alt=\"Open In Colab\"/></a>"
      ]
    },
    {
      "cell_type": "markdown",
      "metadata": {
        "id": "AzUPIsj03QUI"
      },
      "source": [
        "# テキストのBoW (bag-of-words)モデル\n",
        "* テキストを単語のmultisetとして表現したもの\n",
        "  * もはや単語の出現回数でしかテキストを区別できない。\n",
        "  * つまり、語順は無視される。\n",
        "  * それでも、それなりに興味深い分析が実現できる。\n"
      ]
    },
    {
      "cell_type": "markdown",
      "source": [
        "## 前置き"
      ],
      "metadata": {
        "id": "AVYB7sE1yOl6"
      }
    },
    {
      "cell_type": "markdown",
      "source": [
        "### 参考書"
      ],
      "metadata": {
        "id": "xusKXkRf4Dxc"
      }
    },
    {
      "cell_type": "markdown",
      "metadata": {
        "id": "7xPPAciVN-m-"
      },
      "source": [
        "* 授業全体の参考書: 岡﨑、荒瀬、鈴木、鶴岡、宮尾著 『IT Text 自然言語処理の基礎』（オーム社）\n",
        "  * https://www.ohmsha.co.jp/book/9784274229008/\n",
        "* 本日の参考書: C. D. Manning, P. Raghavan & H. Schütze. Introduction to Information Retrieval.\n",
        "  * https://nlp.stanford.edu/IR-book/html/htmledition/irbook.html"
      ]
    },
    {
      "cell_type": "markdown",
      "source": [
        "### prerequisites"
      ],
      "metadata": {
        "id": "nmT0-Y2l4HwN"
      }
    },
    {
      "cell_type": "markdown",
      "metadata": {
        "id": "PKEP5r0nOxjd"
      },
      "source": [
        "* この授業では、Pythonのコーディングの基礎は習得済みであることを前提します。\n",
        "* また、NumPyやscikit-learnの基本的な使い方は習得済みであることを前提します。\n",
        "* PyTorch（Hugging Faceのライブラリを使う時に必要）は、授業で説明します。"
      ]
    },
    {
      "cell_type": "markdown",
      "metadata": {
        "id": "qiozJha53etL"
      },
      "source": [
        "### NLPの歴史\n",
        "* bag-of-words(BoW)は、テキストをモデル化する方法の、一つ。\n",
        "* BoWから文脈化埋め込み(contextualized word embeddings)に至る流れを把握することが、この授業での学習の目標のひとつ。\n",
        "  * LLMs (large language models) は、文脈化埋め込みを実現する手法の一つ。\n",
        "* NLPの歴史の参考資料\n",
        "  * スタンフォード大のNLPの授業がいかに大きく内容を変えているか、調べてみよう。\n",
        "  * http://web.stanford.edu/class/cs224n/index.html の\"Previous offerings\""
      ]
    },
    {
      "cell_type": "markdown",
      "source": [
        "### 用語集"
      ],
      "metadata": {
        "id": "n2DzXzoQzCZG"
      }
    },
    {
      "cell_type": "markdown",
      "source": [
        "* **単語(word)**\n",
        "  * テキストを構成する最小の単位。\n",
        "  * LLMの世界では、単語をさらに分割したサブワード(subword)が最小の単位になる。"
      ],
      "metadata": {
        "id": "5aOX2fRtifAA"
      }
    },
    {
      "cell_type": "markdown",
      "source": [
        "* **語彙(vocabulary)**\n",
        "  * あるコーパスに出現する単語またはサブワードの集合のこと。\n"
      ],
      "metadata": {
        "id": "m3LQRrMAiXmq"
      }
    },
    {
      "cell_type": "markdown",
      "source": [
        "* **トークン(token)**\n",
        "  * 単語(word)、またはサブワード(subword)の、一回一回の出現のこと。\n",
        "  * 例えば、このセルで「この」という単語は5回現れている。\n",
        "  * このことを、このセルでは「この」という単語のトークンが5個ある、と言い表す。\n"
      ],
      "metadata": {
        "id": "HhkRIZsVzJGq"
      }
    },
    {
      "cell_type": "markdown",
      "metadata": {
        "id": "ba4ndKX4IJke"
      },
      "source": [
        "* **テキスト(text)**\n",
        "  * トークン列のこと。\n",
        "  * 当然、同じ単語のトークンが複数回現れることもある。\n",
        "  * テキストのことを、文書(document)と呼ぶこともある。\n",
        "* **コーパス(corpus)**\n",
        "  * テキストの集合のこと。"
      ]
    },
    {
      "cell_type": "markdown",
      "metadata": {
        "id": "z57oKsOVGOWf"
      },
      "source": [
        "## テキストのBoW(bag-of-words)モデル\n",
        "* **bag-of-wordsモデル**とは、テキストを定量的に表現する手法のひとつ。\n",
        "  * 他にもテキストを定量的に表現する手法はある。\n",
        "* bag-of-wordsモデルにおいては、トークンの**出現順序が無視される**。\n",
        "* つまり、テキストを、バッグに入ったトークンの集まりのようにモデリングする（下図参照）。\n",
        "  * 言い換えれば、テキストを単語の**multiset**として扱うのがbag-of-wordsモデルである。\n"
      ]
    },
    {
      "cell_type": "markdown",
      "metadata": {
        "id": "LBk-WNX4IRVb"
      },
      "source": [
        "![bag-of-words.png](https://raw.githubusercontent.com/tomonari-masada/course2022-nlp/main/bag-of-words.png)\n",
        "\n",
        "* 上の図は下記のWebページより。\n",
        " * https://dudeperf3ct.github.io/lstm/gru/nlp/2019/01/28/Force-of-LSTM-and-GRU/"
      ]
    },
    {
      "cell_type": "markdown",
      "metadata": {
        "id": "PilALQV12kVD"
      },
      "source": [
        "### テキストのベクトル表現の歴史\n",
        "* 最近では、単語またはsubwordのベクトル表現を利用して、テキストのベクトル表現を作る。\n",
        "  * word2vec以降の流れ。\n",
        "* 単語またはsubwordのベクトル表現は、埋め込み(embedding)と呼ばれる。\n",
        "  * 分散表現(distributive representation)とも呼ばれるが、最近あまり使わない呼び方。\n",
        "* word embeddingやsubword embeddingを元にして、テキストをembedするのが、今は主流。"
      ]
    },
    {
      "cell_type": "markdown",
      "metadata": {
        "id": "_-5GrvauMKDq"
      },
      "source": [
        "### BoWはまだ現役か？\n",
        "* 論文では今でも、baselineとして、TF-IDFやBM25など、BoWが引き合いに出されることがある。\n",
        "  * 新しい手法を考え出してもBoWに勝てなければ意味がない。\n",
        "* そのため、最初にBoWについて簡単に説明しておく。\n",
        "  * BM25 https://nlp.stanford.edu/IR-book/html/htmledition/okapi-bm25-a-non-binary-model-1.html\n",
        "* ただし、最近でもRAGではBM25をdense retrievalと組み合わせることもあるので、まだ現役と言えるかも。\n",
        "  * RAG = retrieval augmented generation"
      ]
    },
    {
      "cell_type": "markdown",
      "metadata": {
        "id": "pJZFJ9B0KNQO"
      },
      "source": [
        "## BoWモデル1: Word count\n",
        "* テキストは、各単語の出現回数を要素とするベクトルとして表現できる。"
      ]
    },
    {
      "cell_type": "markdown",
      "metadata": {
        "id": "Uhf7MJe4NH3P"
      },
      "source": [
        "### scikit-learnのCountVectorizer\n",
        "* 各テキストは、半角スペースでつながれた単語の列として準備しておく。\n",
        "* CountVectorizerのインスタンスを作り、テキスト集合にfitさせる。\n",
        "  * 語彙の抽出と、出現回数の集計が実行される。\n",
        "* そして他の任意のテキスト集合をtransformする。\n",
        "  * この使い方は、scikit-learnにおける他の前処理のときと同様。\n",
        "  * fitメソッドに与えたテキスト集合の語彙が使われる。\n"
      ]
    },
    {
      "cell_type": "code",
      "metadata": {
        "id": "mAsV0OzFGKr8"
      },
      "source": [
        "from sklearn.feature_extraction.text import CountVectorizer"
      ],
      "execution_count": null,
      "outputs": []
    },
    {
      "cell_type": "markdown",
      "metadata": {
        "id": "NSPMo5HnOeLK"
      },
      "source": [
        "* コーパス（＝テキストの集合）を用意する。"
      ]
    },
    {
      "cell_type": "code",
      "metadata": {
        "id": "3JvB4acfMxQq"
      },
      "source": [
        "corpus = [\n",
        "    \"This document is the first document.\",\n",
        "    \"This document is the second document.\",\n",
        "    \"And this is the third one.\",\n",
        "    \"Where is the fourth one?\"\n",
        "    ]"
      ],
      "execution_count": null,
      "outputs": []
    },
    {
      "cell_type": "markdown",
      "metadata": {
        "id": "N9piYSlbPSan"
      },
      "source": [
        "* CountVectorizerをデフォルトの設定で使う。"
      ]
    },
    {
      "cell_type": "code",
      "metadata": {
        "id": "tEcGpcc4M7bo"
      },
      "source": [
        "vectorizer = CountVectorizer()\n",
        "X = vectorizer.fit_transform(corpus)"
      ],
      "execution_count": null,
      "outputs": []
    },
    {
      "cell_type": "markdown",
      "metadata": {
        "id": "16VoXJLcNtmW"
      },
      "source": [
        "* テキストのBoW表現の確認\n",
        " * 疎なベクトルとして得られることに注意。"
      ]
    },
    {
      "cell_type": "code",
      "metadata": {
        "id": "8Nl4fjykNDo7",
        "colab": {
          "base_uri": "https://localhost:8080/"
        },
        "outputId": "ee3b8709-fa8b-4762-ee15-d438f79e1bf6"
      },
      "source": [
        "print(X)"
      ],
      "execution_count": null,
      "outputs": [
        {
          "output_type": "stream",
          "name": "stdout",
          "text": [
            "  (0, 9)\t1\n",
            "  (0, 1)\t2\n",
            "  (0, 4)\t1\n",
            "  (0, 7)\t1\n",
            "  (0, 2)\t1\n",
            "  (1, 9)\t1\n",
            "  (1, 1)\t2\n",
            "  (1, 4)\t1\n",
            "  (1, 7)\t1\n",
            "  (1, 6)\t1\n",
            "  (2, 9)\t1\n",
            "  (2, 4)\t1\n",
            "  (2, 7)\t1\n",
            "  (2, 0)\t1\n",
            "  (2, 8)\t1\n",
            "  (2, 5)\t1\n",
            "  (3, 4)\t1\n",
            "  (3, 7)\t1\n",
            "  (3, 5)\t1\n",
            "  (3, 10)\t1\n",
            "  (3, 3)\t1\n"
          ]
        }
      ]
    },
    {
      "cell_type": "code",
      "metadata": {
        "id": "0HVn-V4OMa02",
        "colab": {
          "base_uri": "https://localhost:8080/"
        },
        "outputId": "98f5efb1-02a5-4a6f-b9e9-f278fea3f123"
      },
      "source": [
        "type(X)"
      ],
      "execution_count": null,
      "outputs": [
        {
          "output_type": "execute_result",
          "data": {
            "text/plain": [
              "scipy.sparse._csr.csr_matrix"
            ]
          },
          "metadata": {},
          "execution_count": 5
        }
      ]
    },
    {
      "cell_type": "markdown",
      "metadata": {
        "id": "xUICjJZ2N6px"
      },
      "source": [
        "* 疎な表現を通常の密な表現（NumPyのndarray）にする。"
      ]
    },
    {
      "cell_type": "code",
      "metadata": {
        "id": "rJYPyDPDNsIL",
        "colab": {
          "base_uri": "https://localhost:8080/"
        },
        "outputId": "549c638d-a9fe-44ee-8895-3f4b0fe9551b"
      },
      "source": [
        "X_dense = X.toarray()\n",
        "X_dense"
      ],
      "execution_count": null,
      "outputs": [
        {
          "output_type": "execute_result",
          "data": {
            "text/plain": [
              "array([[0, 2, 1, 0, 1, 0, 0, 1, 0, 1, 0],\n",
              "       [0, 2, 0, 0, 1, 0, 1, 1, 0, 1, 0],\n",
              "       [1, 0, 0, 0, 1, 1, 0, 1, 1, 1, 0],\n",
              "       [0, 0, 0, 1, 1, 1, 0, 1, 0, 0, 1]])"
            ]
          },
          "metadata": {},
          "execution_count": 6
        }
      ]
    },
    {
      "cell_type": "markdown",
      "metadata": {
        "id": "XzbZQPHuOAIP"
      },
      "source": [
        "### 語彙を確認\n",
        "* 先頭の大文字は自動的に小文字に変換されていることが分かる。\n",
        "* ピリオドや疑問符は削除されている。"
      ]
    },
    {
      "cell_type": "code",
      "metadata": {
        "id": "oQAAI9LKN5vL",
        "colab": {
          "base_uri": "https://localhost:8080/"
        },
        "outputId": "688af9f9-5b12-4c74-ff56-59d98d90c783"
      },
      "source": [
        "vectorizer.vocabulary_"
      ],
      "execution_count": null,
      "outputs": [
        {
          "output_type": "execute_result",
          "data": {
            "text/plain": [
              "{'this': 9,\n",
              " 'document': 1,\n",
              " 'is': 4,\n",
              " 'the': 7,\n",
              " 'first': 2,\n",
              " 'second': 6,\n",
              " 'and': 0,\n",
              " 'third': 8,\n",
              " 'one': 5,\n",
              " 'where': 10,\n",
              " 'fourth': 3}"
            ]
          },
          "metadata": {},
          "execution_count": 7
        }
      ]
    },
    {
      "cell_type": "code",
      "metadata": {
        "id": "dC5TW6dgMhsU",
        "colab": {
          "base_uri": "https://localhost:8080/"
        },
        "outputId": "88117bdb-dbbf-403b-e496-a758ae91c787"
      },
      "source": [
        "type(vectorizer.vocabulary_)"
      ],
      "execution_count": null,
      "outputs": [
        {
          "output_type": "execute_result",
          "data": {
            "text/plain": [
              "dict"
            ]
          },
          "metadata": {},
          "execution_count": 8
        }
      ]
    },
    {
      "cell_type": "markdown",
      "source": [
        "* 語彙を取得"
      ],
      "metadata": {
        "id": "fCeaLWQbxu2W"
      }
    },
    {
      "cell_type": "code",
      "metadata": {
        "id": "6P1dFVlcN_Pd",
        "colab": {
          "base_uri": "https://localhost:8080/"
        },
        "outputId": "1c266760-4408-43cc-d0d1-d4dfc0ff5d69"
      },
      "source": [
        "vocab = vectorizer.get_feature_names_out()\n",
        "vocab"
      ],
      "execution_count": null,
      "outputs": [
        {
          "output_type": "execute_result",
          "data": {
            "text/plain": [
              "array(['and', 'document', 'first', 'fourth', 'is', 'one', 'second', 'the',\n",
              "       'third', 'this', 'where'], dtype=object)"
            ]
          },
          "metadata": {},
          "execution_count": 10
        }
      ]
    },
    {
      "cell_type": "markdown",
      "metadata": {
        "id": "m4AeNQK2P1GW"
      },
      "source": [
        "### 新しいテキストをベクトルに変換\n",
        "* sklearnでよくやるように、transformメソッドを使う。"
      ]
    },
    {
      "cell_type": "code",
      "metadata": {
        "id": "egmnVXnHPbkX",
        "colab": {
          "base_uri": "https://localhost:8080/"
        },
        "outputId": "c59f8784-f033-49f5-b671-7ec96addf173"
      },
      "source": [
        "new_doc = [\"This is the new document.\"]\n",
        "new_vectors = vectorizer.transform(new_doc)\n",
        "new_vectors.toarray()"
      ],
      "execution_count": null,
      "outputs": [
        {
          "output_type": "execute_result",
          "data": {
            "text/plain": [
              "array([[0, 1, 0, 0, 1, 0, 0, 1, 0, 1, 0]])"
            ]
          },
          "metadata": {},
          "execution_count": 13
        }
      ]
    },
    {
      "cell_type": "markdown",
      "metadata": {
        "id": "MHWGA6W4Psto"
      },
      "source": [
        "* 新出の単語は無視される点に注意\n",
        "  * 問： 上の例題で、どれが新出単語か？\n",
        "* OoV (out-of-vocabulary) の問題\n",
        "  * この問題は、NLPの世界では、超重要な問題。\n",
        "  * 今は、サブワード(subword)の利用により、OoV問題を回避する。"
      ]
    },
    {
      "cell_type": "markdown",
      "metadata": {
        "id": "etJEdIKK5Ejo"
      },
      "source": [
        "## BoWモデル2: TF-IDF\n",
        "* テキストをベクトル化する古典的な手法。\n",
        "* TF-IDFは、TFとIDFの積である。"
      ]
    },
    {
      "cell_type": "markdown",
      "metadata": {
        "id": "dZZghSTZ5Gi_"
      },
      "source": [
        "### TF (term frequency)\n",
        "* TFとは、各々の単語がテキストのなかで出現する回数。word countと同義。\n",
        "  * 出現回数を、そのテキストの長さで割ったものをTFと呼ぶこともある。\n",
        "  * テキストの長さとは、テキストに含まれるトークンの総数。\n",
        "* テキストのなかで頻出する単語ほどTFは大きくなる。"
      ]
    },
    {
      "cell_type": "markdown",
      "metadata": {
        "id": "r7M88Lm1QwQF"
      },
      "source": [
        "### IDF (inverse document frequency)\n",
        "* IDFとは、DFの逆数。\n",
        "* DFとは、ある単語が含まれるテキストの数。\n",
        "  * ある単語が含まれるテキスト数を全テキスト数で割ったものをDFと呼ぶこともある。\n",
        "* テキスト集合のなかで稀少な単語ほどIDFは大きくなる。"
      ]
    },
    {
      "cell_type": "markdown",
      "metadata": {
        "id": "B13HQa1G5U_j"
      },
      "source": [
        "### TF-IDF (term frequency–inverse document frequency)\n",
        "* TF-IDFは、TFとIDFの積。\n",
        "* 積を求める前に、TFのルートもしくは対数をとったり、IDFのルートもしくは対数をとったりする。\n",
        "  * 大きめの値が、効きすぎないようにする。\n",
        "  * 対数をとるときは、ゼロの対数をとることにならないように、1を足したりする。"
      ]
    },
    {
      "cell_type": "markdown",
      "metadata": {
        "id": "q0RtY0PtSq3D"
      },
      "source": [
        "### TF-IDFの式の例\n",
        "\n",
        "\\begin{align}\n",
        "x_{d,w} = \\frac{n_{d,w}}{n_d} \\cdot ( 1 + \\log\\frac{m}{m_w}) \\tag{1}\n",
        "\\end{align}\n",
        "\n",
        "where\n",
        "\n",
        " * $n_{d,w}$ is the frequency of the word $w$ in the document $d$,\n",
        " * $n_d$ is defined as $n_d \\equiv \\sum_w n_{d,w}$,\n",
        " * $m_w$ is the number of documents containing the word $w$, and\n",
        " * $m$ is the total number of documents."
      ]
    },
    {
      "cell_type": "markdown",
      "metadata": {
        "id": "fsLF9WdGHgFD"
      },
      "source": [
        "### TF-IDFの式のバリエーション\n",
        "\n",
        "* https://nlp.stanford.edu/IR-book/html/htmledition/document-and-query-weighting-schemes-1.html\n",
        "\n",
        "![img462.png](https://raw.githubusercontent.com/tomonari-masada/course2022-nlp/main/img462.png)\n",
        "\n"
      ]
    },
    {
      "cell_type": "markdown",
      "metadata": {
        "id": "7XfakOH8HqZ9"
      },
      "source": [
        "### 式の選び方\n",
        "* どの式の形がいいかは、downstream taskの性能で選ぶ。\n",
        "* どんな場合でもこれが一番良い、という式は、ない。"
      ]
    },
    {
      "cell_type": "markdown",
      "metadata": {
        "id": "N9_0aZB0TOnl"
      },
      "source": [
        "### scikit-learnのTfidfVectorizer\n",
        "* scikit-learnでTF-IDFの計算式がどうなっているかは下記を参照。\n",
        "  * https://scikit-learn.org/stable/modules/feature_extraction.html#tfidf-term-weighting"
      ]
    },
    {
      "cell_type": "markdown",
      "metadata": {
        "id": "ygrAINVAOm2b"
      },
      "source": [
        "* デフォルトの設定を確認\n",
        "  * https://scikit-learn.org/stable/modules/generated/sklearn.feature_extraction.text.TfidfVectorizer.html"
      ]
    },
    {
      "cell_type": "markdown",
      "source": [
        "* 次のパラメータは、ちゃんと考えて設定した方が良い。\n",
        "  * `max_df`, `min_df`, `stop_words`"
      ],
      "metadata": {
        "id": "93vNPEl10Mq8"
      }
    },
    {
      "cell_type": "code",
      "source": [
        "from sklearn.feature_extraction.text import TfidfVectorizer\n",
        "tfidf_vectorizer = TfidfVectorizer()"
      ],
      "metadata": {
        "id": "RiAFC8Yi0bjw"
      },
      "execution_count": null,
      "outputs": []
    },
    {
      "cell_type": "code",
      "metadata": {
        "id": "aZYEcdYaTV28",
        "colab": {
          "base_uri": "https://localhost:8080/"
        },
        "outputId": "ed06f327-62ab-49a5-a834-369932f84692"
      },
      "source": [
        "X = tfidf_vectorizer.fit_transform(corpus).toarray()\n",
        "X"
      ],
      "execution_count": null,
      "outputs": [
        {
          "output_type": "execute_result",
          "data": {
            "text/plain": [
              "array([[0.        , 0.74846041, 0.47466356, 0.        , 0.24769914,\n",
              "        0.        , 0.        , 0.24769914, 0.        , 0.3029716 ,\n",
              "        0.        ],\n",
              "       [0.        , 0.74846041, 0.        , 0.        , 0.24769914,\n",
              "        0.        , 0.47466356, 0.24769914, 0.        , 0.3029716 ,\n",
              "        0.        ],\n",
              "       [0.52898651, 0.        , 0.        , 0.        , 0.2760471 ,\n",
              "        0.41705904, 0.        , 0.2760471 , 0.52898651, 0.33764523,\n",
              "        0.        ],\n",
              "       [0.        , 0.        , 0.        , 0.56199026, 0.29326983,\n",
              "        0.44307958, 0.        , 0.29326983, 0.        , 0.        ,\n",
              "        0.56199026]])"
            ]
          },
          "metadata": {},
          "execution_count": 17
        }
      ]
    },
    {
      "cell_type": "markdown",
      "metadata": {
        "id": "lmsh54ziOr-m"
      },
      "source": [
        "* テキストベクトルはL2ノルムが1となるように長さを変更されている。\n",
        "  * TfidfVectorizer()のnormパラメータで変更可能。\n"
      ]
    },
    {
      "cell_type": "code",
      "metadata": {
        "id": "6kSbn0uyUxOs",
        "colab": {
          "base_uri": "https://localhost:8080/"
        },
        "outputId": "ba0861c3-5611-4dc4-dbb9-dbde9102efee"
      },
      "source": [
        "import numpy as np\n",
        "np.linalg.norm(X, axis=1)"
      ],
      "execution_count": null,
      "outputs": [
        {
          "output_type": "execute_result",
          "data": {
            "text/plain": [
              "array([1., 1., 1., 1.])"
            ]
          },
          "metadata": {},
          "execution_count": 18
        }
      ]
    },
    {
      "cell_type": "markdown",
      "source": [
        "* 語彙の取得"
      ],
      "metadata": {
        "id": "6twQCv1f0nKw"
      }
    },
    {
      "cell_type": "code",
      "metadata": {
        "id": "NPGd8r-pIAVl",
        "colab": {
          "base_uri": "https://localhost:8080/"
        },
        "outputId": "b483297c-5f18-49d7-cd6f-8b8b4489eb48"
      },
      "source": [
        "vocab = tfidf_vectorizer.get_feature_names_out()\n",
        "vocab"
      ],
      "execution_count": null,
      "outputs": [
        {
          "output_type": "execute_result",
          "data": {
            "text/plain": [
              "array(['and', 'document', 'first', 'fourth', 'is', 'one', 'second', 'the',\n",
              "       'third', 'this', 'where'], dtype=object)"
            ]
          },
          "metadata": {},
          "execution_count": 19
        }
      ]
    },
    {
      "cell_type": "markdown",
      "source": [
        "* 新しいテキストをベクトル化\n",
        "  * 新出単語は無視される（OoV問題）。"
      ],
      "metadata": {
        "id": "2YFBHNR-0u2N"
      }
    },
    {
      "cell_type": "code",
      "metadata": {
        "id": "fZ-M-qZjTYsL",
        "colab": {
          "base_uri": "https://localhost:8080/"
        },
        "outputId": "8840f624-eec6-424d-b368-ab44e5ffff44"
      },
      "source": [
        "new_vectors = tfidf_vectorizer.transform(new_doc).toarray()\n",
        "new_vectors"
      ],
      "execution_count": null,
      "outputs": [
        {
          "output_type": "execute_result",
          "data": {
            "text/plain": [
              "array([[0.        , 0.6284927 , 0.        , 0.        , 0.41599288,\n",
              "        0.        , 0.        , 0.41599288, 0.        , 0.50881901,\n",
              "        0.        ]])"
            ]
          },
          "metadata": {},
          "execution_count": 20
        }
      ]
    },
    {
      "cell_type": "markdown",
      "metadata": {
        "id": "--XKc4eATjf_"
      },
      "source": [
        "* 各単語のIDF\n",
        "  * IDFはそれぞれの単語について一意に決まる値。\n",
        "  * テキストごとに求まる値ではない。\n",
        "  * コーパスが変わると、IDFも変わる。"
      ]
    },
    {
      "cell_type": "code",
      "metadata": {
        "id": "ugsq3YAtTfRx",
        "colab": {
          "base_uri": "https://localhost:8080/"
        },
        "outputId": "d86bef18-d151-4557-9ec2-ab3a7652d69a"
      },
      "source": [
        "tfidf_vectorizer.idf_"
      ],
      "execution_count": null,
      "outputs": [
        {
          "output_type": "execute_result",
          "data": {
            "text/plain": [
              "array([1.91629073, 1.51082562, 1.91629073, 1.91629073, 1.        ,\n",
              "       1.51082562, 1.91629073, 1.        , 1.91629073, 1.22314355,\n",
              "       1.91629073])"
            ]
          },
          "metadata": {},
          "execution_count": 21
        }
      ]
    },
    {
      "cell_type": "markdown",
      "metadata": {
        "id": "z8niqN06T-eX"
      },
      "source": [
        "## BoWの応用"
      ]
    },
    {
      "cell_type": "markdown",
      "source": [
        "### テキスト間の類似度計算"
      ],
      "metadata": {
        "id": "21JYXOhm278R"
      }
    },
    {
      "cell_type": "markdown",
      "source": [
        "* 内積による類似度計算\n"
      ],
      "metadata": {
        "id": "0e8VWyEl2dQ7"
      }
    },
    {
      "cell_type": "code",
      "metadata": {
        "id": "FP0KvdykThdg",
        "colab": {
          "base_uri": "https://localhost:8080/"
        },
        "outputId": "13930e1c-244b-4fd5-decd-161df6ac1d15"
      },
      "source": [
        "np.dot(X, new_vectors[0])"
      ],
      "execution_count": null,
      "outputs": [
        {
          "output_type": "execute_result",
          "data": {
            "text/plain": [
              "array([0.83064177, 0.83064177, 0.40146757, 0.24399632])"
            ]
          },
          "metadata": {},
          "execution_count": 31
        }
      ]
    },
    {
      "cell_type": "markdown",
      "metadata": {
        "id": "-H1V8jSgO_Wq"
      },
      "source": [
        "* TfidfVectorizorのデフォルトの設定では、TF-IDFベクトルが長さ1にnormalizeされている。\n",
        "* そのため、内積がコサイン類似度に一致する。"
      ]
    },
    {
      "cell_type": "code",
      "source": [
        "from sklearn.metrics.pairwise import cosine_similarity\n",
        "cosine_similarity(X, new_vectors)"
      ],
      "metadata": {
        "colab": {
          "base_uri": "https://localhost:8080/"
        },
        "id": "3zN82p2f0-xP",
        "outputId": "e45f492e-288d-4008-ee2f-66ca6c296a91"
      },
      "execution_count": null,
      "outputs": [
        {
          "output_type": "execute_result",
          "data": {
            "text/plain": [
              "array([[0.83064177],\n",
              "       [0.83064177],\n",
              "       [0.40146757],\n",
              "       [0.24399632]])"
            ]
          },
          "metadata": {},
          "execution_count": 27
        }
      ]
    },
    {
      "cell_type": "markdown",
      "metadata": {
        "id": "BI1ylF4nPT8d"
      },
      "source": [
        "* 問: テキストをベクトルとして表現する方法が分かった。これを使うと何ができるか？"
      ]
    },
    {
      "cell_type": "markdown",
      "metadata": {
        "id": "2caNa_-RQqIT"
      },
      "source": [
        "## 演習: 20 newsgroups データセット\n",
        "* テキスト分類手法の評価に使う、古典的なデータセット。"
      ]
    },
    {
      "cell_type": "code",
      "metadata": {
        "id": "h6b7-llzQpK9"
      },
      "source": [
        "from sklearn.datasets import fetch_20newsgroups\n",
        "newsgroups = fetch_20newsgroups()\n",
        "y_true = newsgroups.target"
      ],
      "execution_count": null,
      "outputs": []
    },
    {
      "cell_type": "markdown",
      "metadata": {
        "id": "C7ExPmgkROvU"
      },
      "source": [
        "* 下記コードを参考にして、数値を全て「#NUMBER」という特殊な単語へ変換する。\n",
        " * https://scikit-learn.org/stable/auto_examples/bicluster/plot_bicluster_newsgroups.html#sphx-glr-auto-examples-bicluster-plot-bicluster-newsgroups-py"
      ]
    },
    {
      "cell_type": "code",
      "metadata": {
        "id": "JFceOyuoQ04u"
      },
      "source": [
        "def number_normalizer(tokens):\n",
        "  return (\"#NUMBER\" if token[0].isdigit() else token for token in tokens)\n",
        "\n",
        "class NumberNormalizingVectorizer(TfidfVectorizer):\n",
        "  def build_tokenizer(self):\n",
        "    tokenizer = super().build_tokenizer()\n",
        "    return lambda doc: list(number_normalizer(tokenizer(doc)))"
      ],
      "execution_count": null,
      "outputs": []
    },
    {
      "cell_type": "code",
      "metadata": {
        "id": "7XasWPbWRWVx"
      },
      "source": [
        "vectorizer = NumberNormalizingVectorizer(stop_words='english', min_df=5)"
      ],
      "execution_count": null,
      "outputs": []
    },
    {
      "cell_type": "code",
      "metadata": {
        "id": "ZsKy592QRYoI"
      },
      "source": [
        "X = vectorizer.fit_transform(newsgroups.data)"
      ],
      "execution_count": null,
      "outputs": []
    },
    {
      "cell_type": "code",
      "metadata": {
        "id": "yR41GfUJRb4g",
        "colab": {
          "base_uri": "https://localhost:8080/"
        },
        "outputId": "5112bd7a-afc4-490a-fb1c-c496765652ae"
      },
      "source": [
        "print(vectorizer.get_feature_names_out()[:20])"
      ],
      "execution_count": null,
      "outputs": [
        {
          "output_type": "stream",
          "name": "stdout",
          "text": [
            "['#NUMBER' '_0' '_4' '_5' '_6' '_7u' '_8' '__' '___' '____' '_____'\n",
            " '______' '_______' '________' '_________' '__________' '___________'\n",
            " '____________' '_____________' '______________']\n"
          ]
        }
      ]
    },
    {
      "cell_type": "code",
      "metadata": {
        "id": "VLLwy2wdRi-a",
        "colab": {
          "base_uri": "https://localhost:8080/"
        },
        "outputId": "f8648a5f-406a-405a-9e5c-abb6d542bab9"
      },
      "source": [
        "vocab = vectorizer.get_feature_names_out()\n",
        "len(vocab)"
      ],
      "execution_count": null,
      "outputs": [
        {
          "output_type": "execute_result",
          "data": {
            "text/plain": [
              "23427"
            ]
          },
          "metadata": {},
          "execution_count": 37
        }
      ]
    },
    {
      "cell_type": "markdown",
      "source": [
        "* 密(dense)な配列に変換する。"
      ],
      "metadata": {
        "id": "qXR2H4po3YoG"
      }
    },
    {
      "cell_type": "code",
      "metadata": {
        "id": "xkp_KASaRqHt"
      },
      "source": [
        "X = X.toarray()"
      ],
      "execution_count": null,
      "outputs": []
    },
    {
      "cell_type": "markdown",
      "source": [
        "* 適当な二つのテキストの内積を求めてみる。"
      ],
      "metadata": {
        "id": "Kx-jfK2S3cRP"
      }
    },
    {
      "cell_type": "code",
      "metadata": {
        "id": "u9U5NqcMRwW8",
        "colab": {
          "base_uri": "https://localhost:8080/"
        },
        "outputId": "d6b9fde9-42d5-4ac3-942f-897fa8dcb7f0"
      },
      "source": [
        "np.dot(X[0], X[1])"
      ],
      "execution_count": null,
      "outputs": [
        {
          "output_type": "execute_result",
          "data": {
            "text/plain": [
              "0.021480506411432166"
            ]
          },
          "metadata": {},
          "execution_count": 39
        }
      ]
    },
    {
      "cell_type": "markdown",
      "source": [
        "* 対応するクラスラベルを調べる。"
      ],
      "metadata": {
        "id": "IjtklhU63kgt"
      }
    },
    {
      "cell_type": "code",
      "metadata": {
        "id": "tSvAGD5SR0ws",
        "colab": {
          "base_uri": "https://localhost:8080/"
        },
        "outputId": "6038c1c7-ba8b-4947-fa34-106bdc97ab4e"
      },
      "source": [
        "y_true[0], y_true[1]"
      ],
      "execution_count": null,
      "outputs": [
        {
          "output_type": "execute_result",
          "data": {
            "text/plain": [
              "(7, 4)"
            ]
          },
          "metadata": {},
          "execution_count": 40
        }
      ]
    },
    {
      "cell_type": "code",
      "metadata": {
        "id": "Dtn_a7CFR9bC",
        "colab": {
          "base_uri": "https://localhost:8080/"
        },
        "outputId": "7cd53f42-dc48-43f2-9668-18723e44c016"
      },
      "source": [
        "newsgroups.target_names"
      ],
      "execution_count": null,
      "outputs": [
        {
          "output_type": "execute_result",
          "data": {
            "text/plain": [
              "['alt.atheism',\n",
              " 'comp.graphics',\n",
              " 'comp.os.ms-windows.misc',\n",
              " 'comp.sys.ibm.pc.hardware',\n",
              " 'comp.sys.mac.hardware',\n",
              " 'comp.windows.x',\n",
              " 'misc.forsale',\n",
              " 'rec.autos',\n",
              " 'rec.motorcycles',\n",
              " 'rec.sport.baseball',\n",
              " 'rec.sport.hockey',\n",
              " 'sci.crypt',\n",
              " 'sci.electronics',\n",
              " 'sci.med',\n",
              " 'sci.space',\n",
              " 'soc.religion.christian',\n",
              " 'talk.politics.guns',\n",
              " 'talk.politics.mideast',\n",
              " 'talk.politics.misc',\n",
              " 'talk.religion.misc']"
            ]
          },
          "metadata": {},
          "execution_count": 41
        }
      ]
    },
    {
      "cell_type": "markdown",
      "source": [
        "# 本日の課題\n",
        "* TF-IDFベクトルを使って、20 newsgroupsの任意のテキストについて、それと最も似ているテキストを10個返す関数を書こう。\n",
        "* 10個のうち、元のテキストと同じクラスに属するテキストがいくつあるかを調べよう。\n",
        "* 全てのテキストについて同じことを行ない、最も似ている上位10個のうち同じクラスのテキスト数の平均値を求めよう。"
      ],
      "metadata": {
        "id": "C_-Rj4mg3qiw"
      }
    },
    {
      "cell_type": "code",
      "metadata": {
        "id": "P1S-s2gjSAVi"
      },
      "source": [],
      "execution_count": null,
      "outputs": []
    }
  ]
}