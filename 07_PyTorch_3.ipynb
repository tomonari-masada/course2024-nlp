{
  "cells": [
    {
      "cell_type": "markdown",
      "metadata": {
        "id": "view-in-github",
        "colab_type": "text"
      },
      "source": [
        "<a href=\"https://colab.research.google.com/github/tomonari-masada/course2024-nlp/blob/main/07_PyTorch_3.ipynb\" target=\"_parent\"><img src=\"https://colab.research.google.com/assets/colab-badge.svg\" alt=\"Open In Colab\"/></a>"
      ]
    },
    {
      "cell_type": "markdown",
      "metadata": {
        "id": "2hx2zN0IvyqF"
      },
      "source": [
        "# PyTorch入門 (3)"
      ]
    },
    {
      "cell_type": "markdown",
      "metadata": {
        "id": "pXenjmLeAJjA"
      },
      "source": [
        "## 今日の目標: 自前でテキスト分類\n",
        "* トークナイザの訓練から自前でおこなう。\n",
        "* データセットはHugging Faceのdatasetsライブラリから使う。\n"
      ]
    },
    {
      "cell_type": "markdown",
      "metadata": {
        "id": "eAv8yYt8-Yn0"
      },
      "source": [
        "* **ランタイムのタイプをGPUに設定しておこう。**"
      ]
    },
    {
      "cell_type": "markdown",
      "metadata": {
        "id": "iIHq0CF9oMqf"
      },
      "source": [
        "## 準備"
      ]
    },
    {
      "cell_type": "markdown",
      "metadata": {
        "id": "J5Lnd-ekgblc"
      },
      "source": [
        "### インストール"
      ]
    },
    {
      "cell_type": "markdown",
      "metadata": {
        "id": "_esbFOZ9pZso"
      },
      "source": [
        "* Hugging Faceのdatasetsライブラリとtokenizersライブラリをインストール"
      ]
    },
    {
      "cell_type": "code",
      "execution_count": null,
      "metadata": {
        "id": "MbjXLZStpYp9"
      },
      "outputs": [],
      "source": [
        "!pip install datasets tokenizers"
      ]
    },
    {
      "cell_type": "markdown",
      "metadata": {
        "id": "_0jLWNWjk1DO"
      },
      "source": [
        "## 再現性の確保\n"
      ]
    },
    {
      "cell_type": "markdown",
      "metadata": {
        "id": "M2v7WucbEcF8"
      },
      "source": [
        "* 以下の場所にある`set_seed`という関数を参考にすると良いかも。\n",
        "  * https://github.com/huggingface/transformers/blob/main/src/transformers/trainer_utils.py"
      ]
    },
    {
      "cell_type": "code",
      "execution_count": null,
      "metadata": {
        "id": "EecUGZKspEal"
      },
      "outputs": [],
      "source": [
        "import os\n",
        "import random\n",
        "import torch\n",
        "import numpy as np\n",
        "\n",
        "def set_seed(seed):\n",
        "  random.seed(seed)\n",
        "  np.random.seed(seed)\n",
        "  torch.manual_seed(seed)\n",
        "  torch.cuda.manual_seed_all(seed)\n",
        "\n",
        "set_seed(0)"
      ]
    },
    {
      "cell_type": "markdown",
      "metadata": {
        "id": "5KPNSH_uKI7q"
      },
      "source": [
        "## デバイスの設定"
      ]
    },
    {
      "cell_type": "code",
      "execution_count": null,
      "metadata": {
        "id": "ATicCrfrKIXL"
      },
      "outputs": [],
      "source": [
        "device = torch.device(\"cuda\" if torch.cuda.is_available() else \"cpu\")\n",
        "print(f\"Using {device} device\")"
      ]
    },
    {
      "cell_type": "markdown",
      "metadata": {
        "id": "7MU1kOIZpGuB"
      },
      "source": [
        "## データセット"
      ]
    },
    {
      "cell_type": "markdown",
      "metadata": {
        "id": "PvExI-tmpI_4"
      },
      "source": [
        "### AG Newsデータセット\n",
        "* 今回はAG_NEWSというテキスト分類用のデータセットを使う。\n",
        "  * 4クラス分類問題を解く。"
      ]
    },
    {
      "cell_type": "code",
      "execution_count": null,
      "metadata": {
        "id": "V7p6LtyekseI"
      },
      "outputs": [],
      "source": [
        "from datasets import load_dataset\n",
        "\n",
        "dataset = load_dataset(\"ag_news\")"
      ]
    },
    {
      "cell_type": "code",
      "execution_count": null,
      "metadata": {
        "id": "Q5Q3qFfre1Vd"
      },
      "outputs": [],
      "source": [
        "dataset"
      ]
    },
    {
      "cell_type": "markdown",
      "metadata": {
        "id": "8EdVC8h0V7Hq"
      },
      "source": [
        "* ラベルの意味は、以下の通り。（ https://huggingface.co/datasets/ag_news を参照。）"
      ]
    },
    {
      "cell_type": "code",
      "execution_count": null,
      "metadata": {
        "id": "UWE6VFnqV0f1"
      },
      "outputs": [],
      "source": [
        "ag_news_label = {0: \"World\", 1: \"Sports\", 2: \"Business\", 3: \"Sci/Tec\"}"
      ]
    },
    {
      "cell_type": "markdown",
      "metadata": {
        "id": "PwIOEuIbWDWV"
      },
      "source": [
        "* 中身を少し見てみる。"
      ]
    },
    {
      "cell_type": "code",
      "execution_count": null,
      "metadata": {
        "id": "ALJZeVnYEo2C"
      },
      "outputs": [],
      "source": [
        "dataset[\"train\"][0]"
      ]
    },
    {
      "cell_type": "code",
      "execution_count": null,
      "metadata": {
        "id": "bTQAsjRKIWgY"
      },
      "outputs": [],
      "source": [
        "dataset[\"train\"][\"text\"][0]"
      ]
    },
    {
      "cell_type": "code",
      "execution_count": null,
      "metadata": {
        "id": "rHz5r5qHVO7P"
      },
      "outputs": [],
      "source": [
        "dataset[\"train\"][\"label\"][0]"
      ]
    },
    {
      "cell_type": "code",
      "execution_count": null,
      "metadata": {
        "id": "aa9KBFMYP7iv"
      },
      "outputs": [],
      "source": [
        "print(f\"number of different labels: {len(set(dataset['train']['label']))}\")"
      ]
    },
    {
      "cell_type": "markdown",
      "metadata": {
        "id": "H6htLjG3feGD"
      },
      "source": [
        "### データセットの分割"
      ]
    },
    {
      "cell_type": "code",
      "execution_count": null,
      "metadata": {
        "id": "O18EBvE5OSZj"
      },
      "outputs": [],
      "source": [
        "train_valid = dataset[\"train\"].train_test_split(test_size=0.05)\n",
        "train_valid"
      ]
    },
    {
      "cell_type": "markdown",
      "source": [
        "* データセットを構成し直す。"
      ],
      "metadata": {
        "id": "KS1LFctNKAMW"
      }
    },
    {
      "cell_type": "code",
      "execution_count": null,
      "metadata": {
        "id": "q9HDarWfOVZQ"
      },
      "outputs": [],
      "source": [
        "from datasets import DatasetDict\n",
        "\n",
        "dataset = DatasetDict({\n",
        "    \"train\": train_valid[\"train\"],\n",
        "    \"valid\": train_valid[\"test\"],\n",
        "    \"test\": dataset[\"test\"],\n",
        "})"
      ]
    },
    {
      "cell_type": "code",
      "source": [
        "dataset"
      ],
      "metadata": {
        "id": "wrwVPWo9u1Xl"
      },
      "execution_count": null,
      "outputs": []
    },
    {
      "cell_type": "markdown",
      "metadata": {
        "id": "cDcs6sxBqWLa"
      },
      "source": [
        "## トークナイザ\n",
        "* 以下の説明は、ほぼ次のHugging Faceのdocumentationそのまま。\n",
        "  * https://huggingface.co/docs/tokenizers/pipeline#all-together-a-bert-tokenizer-from-scratch"
      ]
    },
    {
      "cell_type": "markdown",
      "metadata": {
        "id": "hDHxdhmfF2L7"
      },
      "source": [
        "### トークン化アルゴリズム\n",
        "* 今回はWordPieceアルゴリズムを使う。\n",
        "  * https://huggingface.co/learn/nlp-course/chapter6/6?fw=pt\n",
        "  * https://huggingface.co/docs/tokenizers/api/models#tokenizers.models.BPE\n",
        "* 見たことがない文字列は、unknownトークンとして検出する。\n",
        "  * unknownトークンを避けるには、byteレベルでトークン化すれば良い。\n",
        "  * だが、今回は、このような高度なトークン化は行わない。\n",
        "  * byteレベルのトークン化については、\n",
        "  [ここ](https://huggingface.co/learn/nlp-course/chapter6/5?fw=pt)の緑色のコメント部分を参照。"
      ]
    },
    {
      "cell_type": "code",
      "execution_count": null,
      "metadata": {
        "id": "JdtZhLnpF5Gs"
      },
      "outputs": [],
      "source": [
        "from tokenizers import Tokenizer\n",
        "from tokenizers.models import WordPiece\n",
        "\n",
        "tokenizer = Tokenizer(WordPiece(unk_token=\"[UNK]\"))"
      ]
    },
    {
      "cell_type": "code",
      "execution_count": null,
      "metadata": {
        "id": "kwlr_649UeVv"
      },
      "outputs": [],
      "source": [
        "tokenizer.model.unk_token"
      ]
    },
    {
      "cell_type": "markdown",
      "metadata": {
        "id": "yBinPZyBYnWd"
      },
      "source": [
        "### テキストの正規化\n",
        "* NFDについては、例えば、下の記事を参照。\n",
        "  * https://qiita.com/fury00812/items/b98a7f9428d1395fc230\n",
        "* Lowercase()は小文字化、StripAccents()はアクセント記号の除去。"
      ]
    },
    {
      "cell_type": "code",
      "execution_count": null,
      "metadata": {
        "id": "KGOZg8SaWjEJ"
      },
      "outputs": [],
      "source": [
        "from tokenizers import normalizers\n",
        "from tokenizers.normalizers import NFD, Lowercase, StripAccents\n",
        "\n",
        "tokenizer.normalizer = normalizers.Sequence([NFD(), Lowercase(), StripAccents()])"
      ]
    },
    {
      "cell_type": "markdown",
      "metadata": {
        "id": "_MfvNaxudAId"
      },
      "source": [
        "* このnormalizerがどんな正規化をするか、見てみる。"
      ]
    },
    {
      "cell_type": "code",
      "execution_count": null,
      "metadata": {
        "id": "GpRm7nFec9cZ"
      },
      "outputs": [],
      "source": [
        "tokenizer.normalizer.normalize_str(\"Héllò hôw are ü?\")"
      ]
    },
    {
      "cell_type": "markdown",
      "metadata": {
        "id": "W9SeBf0iGv4x"
      },
      "source": [
        "### プレトークナイザ\n",
        "* トークナイザを訓練させるとき、最初に無条件に実行するトークン化を設定する。\n",
        "* 例えば、英語の場合、まず無条件に空白文字でトークン化する、など。\n",
        "  * https://huggingface.co/docs/tokenizers/api/pre-tokenizers#tokenizers.pre_tokenizers.Whitespace"
      ]
    },
    {
      "cell_type": "code",
      "execution_count": null,
      "metadata": {
        "id": "4xzIt-AGHCiO"
      },
      "outputs": [],
      "source": [
        "from tokenizers.pre_tokenizers import Whitespace\n",
        "\n",
        "tokenizer.pre_tokenizer = Whitespace()"
      ]
    },
    {
      "cell_type": "markdown",
      "metadata": {
        "id": "ioZHJU-yGTx9"
      },
      "source": [
        "### トークナイザのTrainer\n",
        "* 今回は、特殊トークンの設定を除いて、デフォルトの設定を使う。\n",
        "  * 特殊トークンは、今回は`[UNK]`しか使わない。"
      ]
    },
    {
      "cell_type": "code",
      "execution_count": null,
      "metadata": {
        "id": "FLQ12LPHGa3_"
      },
      "outputs": [],
      "source": [
        "from tokenizers.trainers import WordPieceTrainer\n",
        "\n",
        "trainer = WordPieceTrainer(special_tokens=[\"[UNK]\", \"[CLS]\", \"[SEP]\", \"[PAD]\", \"[MASK]\"])"
      ]
    },
    {
      "cell_type": "code",
      "execution_count": null,
      "metadata": {
        "id": "CzfpLppxGngC"
      },
      "outputs": [],
      "source": [
        "trainer.vocab_size"
      ]
    },
    {
      "cell_type": "code",
      "execution_count": null,
      "metadata": {
        "id": "-P-wl_ikUsWF"
      },
      "outputs": [],
      "source": [
        "trainer.special_tokens"
      ]
    },
    {
      "cell_type": "markdown",
      "metadata": {
        "id": "uISKPGWHHmO3"
      },
      "source": [
        "### トークナイザの訓練\n",
        "* 語彙集合を決めるときは、訓練データ部分だけを使う。\n",
        "* trainerを与えるのを忘れないように。\n",
        "  * trainerを与えるのを忘れると、デフォルトの設定で訓練されてしまう。\n"
      ]
    },
    {
      "cell_type": "code",
      "execution_count": null,
      "metadata": {
        "id": "8AG3u8G-HeRF"
      },
      "outputs": [],
      "source": [
        "tokenizer.train_from_iterator(dataset[\"train\"][\"text\"], trainer)"
      ]
    },
    {
      "cell_type": "markdown",
      "metadata": {
        "id": "mMGW8almdhOh"
      },
      "source": [
        "* 訓練したトークナイザは、JSON形式で保存もできる。"
      ]
    },
    {
      "cell_type": "code",
      "execution_count": null,
      "metadata": {
        "id": "VS_Q39gJZMOJ"
      },
      "outputs": [],
      "source": [
        "import os\n",
        "\n",
        "save_dir = \"/content/drive/MyDrive/2024courses/nlp\"\n",
        "\n",
        "tokenizer.save(os.path.join(save_dir, \"my-tokenizer.json\"))"
      ]
    },
    {
      "cell_type": "markdown",
      "metadata": {
        "id": "Inu8JAr9djWP"
      },
      "source": [
        "* 語彙サイズ"
      ]
    },
    {
      "cell_type": "code",
      "execution_count": null,
      "metadata": {
        "id": "HugHDvHv3mjt"
      },
      "outputs": [],
      "source": [
        "tokenizer.get_vocab_size()"
      ]
    },
    {
      "cell_type": "markdown",
      "metadata": {
        "id": "WiSCXpKSdlIm"
      },
      "source": [
        "* 語彙の取得"
      ]
    },
    {
      "cell_type": "code",
      "execution_count": null,
      "metadata": {
        "id": "k_TXMjnNIh-C"
      },
      "outputs": [],
      "source": [
        "vocab = tokenizer.get_vocab()\n",
        "print(vocab)"
      ]
    },
    {
      "cell_type": "code",
      "source": [
        "print({k: v for k, v in sorted(vocab.items(), key=lambda item: item[1])})"
      ],
      "metadata": {
        "id": "YaqLkQ32M-wZ"
      },
      "execution_count": null,
      "outputs": []
    },
    {
      "cell_type": "markdown",
      "metadata": {
        "id": "wg537L4udnQU"
      },
      "source": [
        "* `[UNK]`トークンが語彙に入っているか確認する。"
      ]
    },
    {
      "cell_type": "code",
      "execution_count": null,
      "metadata": {
        "id": "eQs9G2RxU4L4"
      },
      "outputs": [],
      "source": [
        "tokenizer.model.unk_token in vocab"
      ]
    },
    {
      "cell_type": "markdown",
      "metadata": {
        "id": "KwPfiU3Xq8qA"
      },
      "source": [
        "* 単語トークンの列が整数の列に変換されることを確認する。"
      ]
    },
    {
      "cell_type": "code",
      "execution_count": null,
      "metadata": {
        "id": "9JxplX7Eq5kj"
      },
      "outputs": [],
      "source": [
        "output = tokenizer.encode(dataset[\"train\"][\"text\"][0])"
      ]
    },
    {
      "cell_type": "code",
      "execution_count": null,
      "metadata": {
        "id": "oSTOkdNFQ92x"
      },
      "outputs": [],
      "source": [
        "print(dataset[\"train\"][\"text\"][0])"
      ]
    },
    {
      "cell_type": "code",
      "execution_count": null,
      "metadata": {
        "id": "k3F6t2bDIwvo"
      },
      "outputs": [],
      "source": [
        "print(output.ids)"
      ]
    },
    {
      "cell_type": "code",
      "execution_count": null,
      "metadata": {
        "id": "ueoaEp9aJV1-"
      },
      "outputs": [],
      "source": [
        "print(output.tokens)"
      ]
    },
    {
      "cell_type": "markdown",
      "metadata": {
        "id": "yiSXO-noJcEq"
      },
      "source": [
        "* offsetsは各トークンが何文字目から何文字目までかを表す。"
      ]
    },
    {
      "cell_type": "code",
      "execution_count": null,
      "metadata": {
        "id": "oivhonJfyOqE"
      },
      "outputs": [],
      "source": [
        "print(output.offsets)"
      ]
    },
    {
      "cell_type": "markdown",
      "metadata": {
        "id": "U7Cp3Yw8aCP3"
      },
      "source": [
        "* 次に、わざと、トークナイザが見たことなさそうなトークンを含むテキストをトークン化させてみる。"
      ]
    },
    {
      "cell_type": "code",
      "execution_count": null,
      "metadata": {
        "id": "3xVPZrvPZlqo"
      },
      "outputs": [],
      "source": [
        "output = tokenizer.encode(\"Welcome to the 🤗 Tokenizers library.\")"
      ]
    },
    {
      "cell_type": "markdown",
      "metadata": {
        "id": "3Uwi0FTcdvqv"
      },
      "source": [
        "* 絵文字が`[UNK]`トークンとしてトークン化されている。"
      ]
    },
    {
      "cell_type": "code",
      "execution_count": null,
      "metadata": {
        "id": "KNIFXqR8aJn4"
      },
      "outputs": [],
      "source": [
        "print(output.tokens)"
      ]
    },
    {
      "cell_type": "markdown",
      "metadata": {
        "id": "60xaGMzv3_XW"
      },
      "source": [
        "## DataLoader"
      ]
    },
    {
      "cell_type": "markdown",
      "metadata": {
        "id": "QUaiRtBo4VKO"
      },
      "source": [
        "### collate関数\n",
        "* サンプルに前処理を施してミニバッチを作ることを、collateする、と言う。\n",
        "* collate関数の中でトークナイザを呼び出している。\n",
        "* 今回は、同じミニバッチに含まれるテキストをすべてつなげてしまう。\n",
        "  * `offsets`は、各テキストが、先頭から数えて何トークン目から始まるかを表す。\n",
        "  * 正確には、先頭から数えて何トークン目から始まるか、マイナス１、がオフセット。\n",
        "* このcollate関数は、後でDataLoaderを作るときに使う。"
      ]
    },
    {
      "cell_type": "code",
      "execution_count": null,
      "metadata": {
        "id": "NRrfbx4W4T2n"
      },
      "outputs": [],
      "source": [
        "def collate_batch(batch):\n",
        "  label_list, text_list, offsets = [], [], [0]\n",
        "  for instance in batch:\n",
        "    _label, _text = instance[\"label\"], instance[\"text\"]\n",
        "    # ラベルはラベルで集める\n",
        "    label_list.append(_label)\n",
        "    token_ids = torch.tensor(tokenizer.encode(_text).ids, dtype=torch.int64)\n",
        "    # トークンIDの列も集める\n",
        "    text_list.append(token_ids)\n",
        "    # テキスト長も集める\n",
        "    offsets.append(token_ids.size(0))\n",
        "  # ラベルのリストをPyTorchのテンソルに変換\n",
        "  label_list = torch.tensor(label_list, dtype=torch.int64)\n",
        "  # テキスト長を元にoffsetsを計算する（この計算に最後の要素は不要）\n",
        "  offsets = torch.tensor(offsets[:-1]).cumsum(dim=0)\n",
        "  # トークンIDの列は全て繋げてしまう（offsetsがあるのでこうして構わない）\n",
        "  text_list = torch.cat(text_list)\n",
        "  return label_list.to(device), text_list.to(device), offsets.to(device)"
      ]
    },
    {
      "cell_type": "markdown",
      "metadata": {
        "id": "HiPXZZyim7Zi"
      },
      "source": [
        "* 訓練データ、検証データ、テストデータのDataLoaderを作る。\n",
        "* collate関数の使い方に注目。"
      ]
    },
    {
      "cell_type": "markdown",
      "metadata": {
        "id": "8Odw2RSygNw0"
      },
      "source": [
        "### DataLoaderのインスタンスの作成"
      ]
    },
    {
      "cell_type": "code",
      "execution_count": null,
      "metadata": {
        "id": "RQ-6jH0h4E-1"
      },
      "outputs": [],
      "source": [
        "from torch.utils.data import DataLoader\n",
        "\n",
        "# ミニバッチのサイズを適当に決める\n",
        "BATCH_SIZE = 64\n",
        "\n",
        "train_dataloader = DataLoader(\n",
        "    dataset[\"train\"], batch_size=BATCH_SIZE, shuffle=True, collate_fn=collate_batch\n",
        ")\n",
        "valid_dataloader = DataLoader(\n",
        "    dataset[\"valid\"], batch_size=BATCH_SIZE, collate_fn=collate_batch\n",
        ")\n",
        "test_dataloader = DataLoader(\n",
        "    dataset[\"test\"], batch_size=BATCH_SIZE, collate_fn=collate_batch\n",
        ")"
      ]
    },
    {
      "cell_type": "code",
      "execution_count": null,
      "metadata": {
        "id": "PkuKQtIWK3s7"
      },
      "outputs": [],
      "source": [
        "next(iter(train_dataloader))"
      ]
    },
    {
      "cell_type": "markdown",
      "metadata": {
        "id": "LP6WNSYVeUfn"
      },
      "source": [
        "## `torch.nn.EmbeddingBag`\n",
        "* 全トークンのembeddingの平均を一挙に求めるlayer。"
      ]
    },
    {
      "cell_type": "markdown",
      "metadata": {
        "id": "Pgl4XiG1qLIT"
      },
      "source": [
        "* まずは説明のために、見やすいように低い次元で埋め込み層を作ってみる。"
      ]
    },
    {
      "cell_type": "code",
      "execution_count": null,
      "metadata": {
        "id": "BtrYIvX0eS3r"
      },
      "outputs": [],
      "source": [
        "from torch import nn\n",
        "\n",
        "embedding = nn.EmbeddingBag(len(vocab), 8, sparse=False)"
      ]
    },
    {
      "cell_type": "markdown",
      "metadata": {
        "id": "0BVikXBriB_Q"
      },
      "source": [
        "* 本当に平均を求めているかを確認する。"
      ]
    },
    {
      "cell_type": "code",
      "execution_count": null,
      "metadata": {
        "id": "JpdkpArLeqj-"
      },
      "outputs": [],
      "source": [
        "text = \"language models\"\n",
        "input = torch.tensor(tokenizer.encode(text).ids, dtype=torch.int64)\n",
        "offsets = torch.tensor([0], dtype=torch.int64)\n",
        "output = embedding(input=input, offsets=offsets)\n",
        "output"
      ]
    },
    {
      "cell_type": "code",
      "execution_count": null,
      "metadata": {
        "id": "CaAmoerAPj8t"
      },
      "outputs": [],
      "source": [
        "tokenizer.encode(text).tokens"
      ]
    },
    {
      "cell_type": "code",
      "execution_count": null,
      "metadata": {
        "id": "F_3fX1GCg_73"
      },
      "outputs": [],
      "source": [
        "text = \"language\"\n",
        "input = torch.tensor(tokenizer.encode(text).ids, dtype=torch.int64)\n",
        "offsets = torch.tensor([0], dtype=torch.int64)\n",
        "output1 = embedding(input=input, offsets=offsets)\n",
        "output1"
      ]
    },
    {
      "cell_type": "code",
      "execution_count": null,
      "metadata": {
        "id": "OnTSVqsPhCEW"
      },
      "outputs": [],
      "source": [
        "text = \"models\"\n",
        "input = torch.tensor(tokenizer.encode(text).ids, dtype=torch.int64)\n",
        "offsets = torch.tensor([0], dtype=torch.int64)\n",
        "output2 = embedding(input=input, offsets=offsets)\n",
        "output2"
      ]
    },
    {
      "cell_type": "code",
      "execution_count": null,
      "metadata": {
        "id": "z5mc0lLghNOm"
      },
      "outputs": [],
      "source": [
        "(output1 + output2) / 2"
      ]
    },
    {
      "cell_type": "markdown",
      "metadata": {
        "id": "9Ig_SXomh8oN"
      },
      "source": [
        "* offsetsはテキストの切れ目を表す。\n",
        "  * offsetsを利用すれば、複数のテキストをつなげたままベクトル化できる。\n",
        "  * メモリの効率も時間的な効率も良い。"
      ]
    },
    {
      "cell_type": "code",
      "execution_count": null,
      "metadata": {
        "id": "ggS8gooLP0B7"
      },
      "outputs": [],
      "source": [
        "text = \"language models text classification\"\n",
        "tokenizer.encode(text).tokens"
      ]
    },
    {
      "cell_type": "markdown",
      "metadata": {
        "id": "k-IAl8zER_Ud"
      },
      "source": [
        "* オフセットを指定してembedする。\n",
        "  * この例では、\"text classification\"が二つ目のテキストとなる。"
      ]
    },
    {
      "cell_type": "code",
      "execution_count": null,
      "metadata": {
        "id": "qGHLsNTWh0mQ"
      },
      "outputs": [],
      "source": [
        "text = \"language models text classification\"\n",
        "input = torch.tensor(tokenizer.encode(text).ids, dtype=torch.int64)\n",
        "offsets = torch.tensor([0, 2], dtype=torch.int64)\n",
        "embedding(input=input, offsets=offsets)"
      ]
    },
    {
      "cell_type": "markdown",
      "metadata": {
        "id": "hFnexLcZ6Pkl"
      },
      "source": [
        "## 分類モデル\n",
        "* `nn.Module`を継承して自前のクラスを定義する。\n"
      ]
    },
    {
      "cell_type": "code",
      "execution_count": null,
      "metadata": {
        "id": "pRJysWR_r9cW"
      },
      "outputs": [],
      "source": [
        "from torch import nn\n",
        "\n",
        "class TextClassificationModel(nn.Module):\n",
        "  def __init__(self, vocab_size, embed_dim, num_class):\n",
        "    super(TextClassificationModel, self).__init__()\n",
        "    # 埋め込み層\n",
        "    self.embedding = nn.EmbeddingBag(vocab_size, embed_dim, sparse=False)\n",
        "    # 分類用の全結合層\n",
        "    self.fc = nn.Linear(embed_dim, num_class)\n",
        "    # 自前の重み初期化関数を呼び出す\n",
        "    self.init_weights()\n",
        "\n",
        "  # 自前の重み初期化関数\n",
        "  def init_weights(self):\n",
        "    initrange = 0.5\n",
        "    self.embedding.weight.data.uniform_(-initrange, initrange)\n",
        "    self.fc.weight.data.uniform_(-initrange, initrange)\n",
        "    self.fc.bias.data.zero_()\n",
        "\n",
        "  # forward pass\n",
        "  def forward(self, text, offsets):\n",
        "    embedded = self.embedding(text, offsets)\n",
        "    return self.fc(embedded)"
      ]
    },
    {
      "cell_type": "markdown",
      "metadata": {
        "id": "dtVoatKc7vBa"
      },
      "source": [
        "* 訓練データを使ってクラスの個数を調べる。"
      ]
    },
    {
      "cell_type": "code",
      "execution_count": null,
      "metadata": {
        "id": "x4kpm5Ie7tMN"
      },
      "outputs": [],
      "source": [
        "unique_labels = set([label for label in dataset[\"train\"][\"label\"]])\n",
        "print(unique_labels)\n",
        "num_class = len(unique_labels)"
      ]
    },
    {
      "cell_type": "markdown",
      "metadata": {
        "id": "1u1m1i7e748S"
      },
      "source": [
        "* 重要な定数を変数にセットする。"
      ]
    },
    {
      "cell_type": "code",
      "execution_count": null,
      "metadata": {
        "id": "UcPLpHkXsAag"
      },
      "outputs": [],
      "source": [
        "# 語彙サイズ\n",
        "vocab_size = len(vocab)\n",
        "\n",
        "# 埋め込みベクトルの次元（これは適当に決める）\n",
        "emsize = 64"
      ]
    },
    {
      "cell_type": "markdown",
      "metadata": {
        "id": "q2UFwoEW71LV"
      },
      "source": [
        "* モデルのインスタンスを作成しGPUへ送る。\n",
        " * 上で値をセットした変数を使って初期化している。"
      ]
    },
    {
      "cell_type": "code",
      "execution_count": null,
      "metadata": {
        "id": "0BXZ2xKg7zJT"
      },
      "outputs": [],
      "source": [
        "model = TextClassificationModel(vocab_size, emsize, num_class).to(device)"
      ]
    },
    {
      "cell_type": "markdown",
      "metadata": {
        "id": "xxK-Sx4A7eFB"
      },
      "source": [
        "## 訓練に使うヘルパ関数"
      ]
    },
    {
      "cell_type": "code",
      "execution_count": null,
      "metadata": {
        "id": "BeGMjdPd7dXM"
      },
      "outputs": [],
      "source": [
        "import time\n",
        "\n",
        "def train(dataloader):\n",
        "  model.train()\n",
        "  total_acc, total_count = 0, 0\n",
        "  log_interval = 500 # ログ情報を表示する間隔\n",
        "  start_time = time.time()\n",
        "\n",
        "  for idx, (label, text, offsets) in enumerate(dataloader):\n",
        "    optimizer.zero_grad()\n",
        "    predicted_label = model(text, offsets)\n",
        "    loss = criterion(predicted_label, label)\n",
        "    loss.backward()\n",
        "    torch.nn.utils.clip_grad_norm_(model.parameters(), 0.1)\n",
        "    optimizer.step()\n",
        "    total_acc += (predicted_label.argmax(1) == label).sum().item()\n",
        "    total_count += label.size(0)\n",
        "    if idx % log_interval == 0 and idx > 0:\n",
        "      elapsed = time.time() - start_time\n",
        "      print(\n",
        "          f\"||| {idx:5d}/{len(dataloader):5d} batches | \"\n",
        "          f\"time: {elapsed:5.2f}s | \"\n",
        "          f\"accuracy {total_acc / total_count:8.3f}\"\n",
        "      )\n",
        "      total_acc, total_count = 0, 0\n",
        "      start_time = time.time()"
      ]
    },
    {
      "cell_type": "markdown",
      "metadata": {
        "id": "aa0nVABe8GGu"
      },
      "source": [
        "## 評価に使うヘルパ関数"
      ]
    },
    {
      "cell_type": "code",
      "execution_count": null,
      "metadata": {
        "id": "8JEgh9O3sAPj"
      },
      "outputs": [],
      "source": [
        "def evaluate(dataloader):\n",
        "  model.eval()\n",
        "  total_acc, total_count = 0, 0\n",
        "\n",
        "  with torch.no_grad():\n",
        "    for idx, (label, text, offsets) in enumerate(dataloader):\n",
        "      predicted_label = model(text, offsets)\n",
        "      loss = criterion(predicted_label, label)\n",
        "      total_acc += (predicted_label.argmax(1) == label).sum().item()\n",
        "      total_count += label.size(0)\n",
        "  return total_acc / total_count"
      ]
    },
    {
      "cell_type": "markdown",
      "metadata": {
        "id": "iPLsWoz88SrI"
      },
      "source": [
        "## モデルの訓練"
      ]
    },
    {
      "cell_type": "markdown",
      "metadata": {
        "id": "7Yw5vNAlSq-M"
      },
      "source": [
        "* エポック数と学習率の設定\n",
        "  * SGDを使うので、学習率は大きい目の値にしている。"
      ]
    },
    {
      "cell_type": "code",
      "execution_count": null,
      "metadata": {
        "id": "TJ8vB0_t8bAY"
      },
      "outputs": [],
      "source": [
        "epochs = 10\n",
        "learning_rate = 5"
      ]
    },
    {
      "cell_type": "markdown",
      "metadata": {
        "id": "EHJtiyQqSy9B"
      },
      "source": [
        "* 損失関数、最適化アルゴリズム、スケジューラの設定"
      ]
    },
    {
      "cell_type": "code",
      "execution_count": null,
      "metadata": {
        "id": "rKjAt42oS7kt"
      },
      "outputs": [],
      "source": [
        "criterion = torch.nn.CrossEntropyLoss()\n",
        "optimizer = torch.optim.SGD(model.parameters(), lr=learning_rate)\n",
        "scheduler = torch.optim.lr_scheduler.StepLR(optimizer, 1.0, gamma=0.1)\n"
      ]
    },
    {
      "cell_type": "markdown",
      "metadata": {
        "id": "G8otKmBlT2vt"
      },
      "source": [
        "* 学習の実行"
      ]
    },
    {
      "cell_type": "code",
      "execution_count": null,
      "metadata": {
        "id": "vixuo6u2r__K"
      },
      "outputs": [],
      "source": [
        "total_accu = None\n",
        "\n",
        "for epoch in range(epochs):\n",
        "  epoch_start_time = time.time()\n",
        "  train(train_dataloader)\n",
        "  accu_val = evaluate(valid_dataloader)\n",
        "  if total_accu is not None and total_accu > accu_val:\n",
        "    # 検証データの正解率が前のエポックより下がったらスケジューラを動かす\n",
        "    scheduler.step()\n",
        "  else:\n",
        "    total_accu = accu_val\n",
        "  print(\"-\" * 59)\n",
        "  elapsed = time.time() - epoch_start_time\n",
        "  print(\n",
        "      f\"| end of epoch {epoch+1:3d} | \"\n",
        "      f\"time: {elapsed:5.2f}s | \"\n",
        "      f\"lr = {optimizer.param_groups[0]['lr']:.3f} | \"\n",
        "      f\"validation accuracy {accu_val:8.3f}\"\n",
        "  )\n",
        "  print(\"-\" * 80)"
      ]
    },
    {
      "cell_type": "code",
      "source": [
        "torch.save(model.state_dict(), os.path.join(save_dir, \"my-model.pt\"))"
      ],
      "metadata": {
        "id": "5ShRmR9Yv-j8"
      },
      "execution_count": null,
      "outputs": []
    },
    {
      "cell_type": "code",
      "source": [
        "model = TextClassificationModel(vocab_size, emsize, num_class)\n",
        "model.load_state_dict(torch.load(os.path.join(save_dir, \"my-model.pt\"), weights_only=True))\n",
        "model.eval()"
      ],
      "metadata": {
        "id": "8nAP4f20wDzn"
      },
      "execution_count": null,
      "outputs": []
    },
    {
      "cell_type": "markdown",
      "metadata": {
        "id": "1rToWRgOeJI6"
      },
      "source": [
        "## 最後にテストセットで評価"
      ]
    },
    {
      "cell_type": "code",
      "execution_count": null,
      "metadata": {
        "id": "o45KtyPZsF68"
      },
      "outputs": [],
      "source": [
        "model.to(device)\n",
        "\n",
        "print(\"Checking the results of test dataset...\")\n",
        "accu_test = evaluate(test_dataloader)\n",
        "print(f\"test accuracy {accu_test:8.3f}\")"
      ]
    },
    {
      "cell_type": "code",
      "execution_count": null,
      "metadata": {
        "id": "8FMoLIJ5sF3S"
      },
      "outputs": [],
      "source": [
        "def predict(text):\n",
        "  with torch.no_grad():\n",
        "    text = torch.tensor(tokenizer.encode(text).ids)\n",
        "    output = model(text, torch.tensor([0]))\n",
        "    return output.argmax(1).item()\n",
        "\n",
        "\n",
        "ex_text_str = \"MEMPHIS, Tenn. – Four days ago, Jon Rahm was \\\n",
        "    enduring the season’s worst weather conditions on Sunday at The \\\n",
        "    Open on his way to a closing 75 at Royal Portrush, which \\\n",
        "    considering the wind and the rain was a respectable showing. \\\n",
        "    Thursday’s first round at the WGC-FedEx St. Jude Invitational \\\n",
        "    was another story. With temperatures in the mid-80s and hardly any \\\n",
        "    wind, the Spaniard was 13 strokes better in a flawless round. \\\n",
        "    Thanks to his best putting performance on the PGA Tour, Rahm \\\n",
        "    finished with an 8-under 62 for a three-stroke lead, which \\\n",
        "    was even more impressive considering he’d never played the \\\n",
        "    front nine at TPC Southwind.\"\n",
        "\n",
        "model.to(\"cpu\")\n",
        "\n",
        "print(\"This is a {} news\".format(ag_news_label[predict(ex_text_str)]))"
      ]
    },
    {
      "cell_type": "markdown",
      "metadata": {
        "id": "uUzVkJ2v-tt_"
      },
      "source": [
        "# 課題\n",
        "* アーキテクチャやoptimizerやschedulerを変更して、validation set上で評価しつつモデルをチューニングしよう。\n",
        "* 余裕があれば、トークナイザもチューニングしよう。\n",
        "  * 例: トークン化アルゴリズムをBPEに変えてみる。\n",
        "* 最後に、自分でチューニングした設定を使って、test set上で評価しよう。"
      ]
    },
    {
      "cell_type": "code",
      "execution_count": null,
      "metadata": {
        "id": "26RYXnmnbbSc"
      },
      "outputs": [],
      "source": []
    }
  ],
  "metadata": {
    "accelerator": "GPU",
    "colab": {
      "gpuType": "T4",
      "provenance": [],
      "mount_file_id": "1WB-hcbrD1rix5h3hYxLeazLr-AjL2S2E",
      "authorship_tag": "ABX9TyN0t1kQCSakvNvRQxNkgf02",
      "include_colab_link": true
    },
    "kernelspec": {
      "display_name": "Python 3",
      "name": "python3"
    }
  },
  "nbformat": 4,
  "nbformat_minor": 0
}