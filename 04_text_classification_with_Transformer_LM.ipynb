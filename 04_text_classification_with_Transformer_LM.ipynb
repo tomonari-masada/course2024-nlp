{
  "nbformat": 4,
  "nbformat_minor": 0,
  "metadata": {
    "colab": {
      "provenance": [],
      "gpuType": "T4",
      "mount_file_id": "1dTnE2yF0Qpwqa-isEPx7UPweUiNwAZfW",
      "authorship_tag": "ABX9TyOHB++A6bIozMGcNM00Dw9k",
      "include_colab_link": true
    },
    "kernelspec": {
      "name": "python3",
      "display_name": "Python 3"
    },
    "language_info": {
      "name": "python"
    },
    "accelerator": "GPU"
  },
  "cells": [
    {
      "cell_type": "markdown",
      "metadata": {
        "id": "view-in-github",
        "colab_type": "text"
      },
      "source": [
        "<a href=\"https://colab.research.google.com/github/tomonari-masada/course2024-nlp/blob/main/04_text_classification_with_Transformer_LM.ipynb\" target=\"_parent\"><img src=\"https://colab.research.google.com/assets/colab-badge.svg\" alt=\"Open In Colab\"/></a>"
      ]
    },
    {
      "cell_type": "markdown",
      "source": [
        "# 言語モデルを使ったテキスト分類\n",
        "* テキスト分類はBoWでも良い性能を出せることが多い。\n",
        "  * 言語モデルを使って文書分類するときは・・・\n",
        "  * BoW+SVMをベースラインとして設定して・・・\n",
        "  * 言語モデルを使った場合と性能比較した方が良い。\n",
        "* 今回はトランスフォーマ言語モデルを使ってみる。\n",
        "  * パラメータ数は数億個オーダのもの。\n",
        "  * パラメータ数が数十億個（数ビリオン）のものは、扱いがやや大変。"
      ],
      "metadata": {
        "id": "gVarWTq39kbp"
      }
    },
    {
      "cell_type": "markdown",
      "source": [
        "* ランタイムのタイプをGPUに設定しておく。"
      ],
      "metadata": {
        "id": "zez2VM23tb7s"
      }
    },
    {
      "cell_type": "markdown",
      "source": [
        "## インストール\n",
        "* テキスト埋め込みにSentence Transformersというライブラリを使う。\n",
        "  * https://sbert.net/"
      ],
      "metadata": {
        "id": "b6yr_L7y8hXa"
      }
    },
    {
      "cell_type": "code",
      "execution_count": null,
      "metadata": {
        "id": "nFoklf3F44Ci"
      },
      "outputs": [],
      "source": [
        "!pip install -U sentence-transformers datasets"
      ]
    },
    {
      "cell_type": "markdown",
      "source": [
        "## 準備"
      ],
      "metadata": {
        "id": "ZILk8tmdp4kb"
      }
    },
    {
      "cell_type": "code",
      "source": [
        "from transformers import set_seed\n",
        "\n",
        "set_seed(0)"
      ],
      "metadata": {
        "id": "Js_2y3RFpQ6K"
      },
      "execution_count": null,
      "outputs": []
    },
    {
      "cell_type": "markdown",
      "source": [
        "## データセット\n",
        "* ライブドアニュースコーパスを使う。\n",
        "* 前々回に作成したtraining/validation/testのsliceを使う。\n",
        "  * https://github.com/tomonari-masada/course2024-nlp/blob/main/livedoor_ds.tar.gz"
      ],
      "metadata": {
        "id": "JJB6XAPZ8kgE"
      }
    },
    {
      "cell_type": "code",
      "source": [
        "!wget https://github.com/tomonari-masada/course2024-nlp/raw/refs/heads/main/livedoor_ds.tar.gz"
      ],
      "metadata": {
        "id": "IdEjVRZPqOfz"
      },
      "execution_count": null,
      "outputs": []
    },
    {
      "cell_type": "code",
      "source": [
        "!tar zxvf livedoor_ds.tar.gz"
      ],
      "metadata": {
        "id": "CDyhmWQgqR86"
      },
      "execution_count": null,
      "outputs": []
    },
    {
      "cell_type": "code",
      "source": [
        "from datasets import load_from_disk\n",
        "\n",
        "ds = load_from_disk(\"livedoor_ds\")"
      ],
      "metadata": {
        "id": "mxZLq3TK5GLj"
      },
      "execution_count": null,
      "outputs": []
    },
    {
      "cell_type": "code",
      "source": [
        "ds"
      ],
      "metadata": {
        "id": "x8TtA7p05Qdg"
      },
      "execution_count": null,
      "outputs": []
    },
    {
      "cell_type": "code",
      "source": [
        "category_names = [\n",
        "  'movie-enter',\n",
        "  'it-life-hack',\n",
        "  'kaden-channel',\n",
        "  'topic-news',\n",
        "  'livedoor-homme',\n",
        "  'peachy',\n",
        "  'sports-watch',\n",
        "  'dokujo-tsushin',\n",
        "  'smax',\n",
        "]"
      ],
      "metadata": {
        "id": "LBksh8An5cPK"
      },
      "execution_count": null,
      "outputs": []
    },
    {
      "cell_type": "code",
      "source": [
        "ds[\"train\"][\"content\"][0]"
      ],
      "metadata": {
        "id": "oUGTgOZO5j2c"
      },
      "execution_count": null,
      "outputs": []
    },
    {
      "cell_type": "markdown",
      "source": [
        "## テキストの埋め込み"
      ],
      "metadata": {
        "id": "xm1tZS7C5Kr_"
      }
    },
    {
      "cell_type": "markdown",
      "source": [
        "###  埋め込みのための言語モデル\n",
        "* 下のリーダボードから性能が良さそうなものを選ぶ。\n",
        "  * https://huggingface.co/spaces/mteb/leaderboard\n",
        "* ただし、日本語対応しているものを選ぶ。\n",
        "* パラメータ数は数百millionのものを選ぶ。\n",
        "  * 1桁上のパラメータ数だと、Google Colab無料版の場合、GPUのメモリが足りなくなる。\n",
        "  * ただし、特別なことをすれば、可能（いずれ説明）。\n",
        "* 新しいモデルはsentence transformerが対応していないことがある。\n",
        "  * エラーが出たら、他の言語モデルに変える。\n"
      ],
      "metadata": {
        "id": "O59yUgA_8bbN"
      }
    },
    {
      "cell_type": "code",
      "source": [
        "from sentence_transformers import SentenceTransformer\n",
        "\n",
        "model = SentenceTransformer(\"intfloat/multilingual-e5-large-instruct\")"
      ],
      "metadata": {
        "id": "g5zsXVlJ5kB5"
      },
      "execution_count": null,
      "outputs": []
    },
    {
      "cell_type": "code",
      "source": [
        "model"
      ],
      "metadata": {
        "id": "A2UC4MZJePEY"
      },
      "execution_count": null,
      "outputs": []
    },
    {
      "cell_type": "markdown",
      "source": [
        "* Transformerの部分"
      ],
      "metadata": {
        "id": "8JrC1Pr0fkUJ"
      }
    },
    {
      "cell_type": "code",
      "source": [
        "list(model)[0]"
      ],
      "metadata": {
        "id": "6a8M0UGKeQ9f"
      },
      "execution_count": null,
      "outputs": []
    },
    {
      "cell_type": "markdown",
      "source": [
        "* 言語モデルの本体\n",
        "  * テキストを埋め込んでいる間に解説する。"
      ],
      "metadata": {
        "id": "rp7Pf0HQfm2Y"
      }
    },
    {
      "cell_type": "code",
      "source": [
        "list(list(model)[0].modules())[1]"
      ],
      "metadata": {
        "id": "A6deGrjefW63"
      },
      "execution_count": null,
      "outputs": []
    },
    {
      "cell_type": "markdown",
      "source": [
        "* 例えばword embeddingsの重み。"
      ],
      "metadata": {
        "id": "jGMSiWxC0Hku"
      }
    },
    {
      "cell_type": "code",
      "source": [
        "list(list(model)[0].modules())[1].embeddings.word_embeddings.weight"
      ],
      "metadata": {
        "id": "bZserSpEzpQo"
      },
      "execution_count": null,
      "outputs": []
    },
    {
      "cell_type": "markdown",
      "source": [
        "### 埋め込みの実行\n",
        "* 訓練セットの埋め込みは・・・\n",
        "  * Google Colab無料版で10分弱。\n",
        "  * iMac Apple M3で18分。\n",
        "  * RTX4090で50秒(!)"
      ],
      "metadata": {
        "id": "KzlTDsJ386lg"
      }
    },
    {
      "cell_type": "code",
      "source": [
        "train_embeddings = model.encode(ds[\"train\"][\"content\"], show_progress_bar=True)"
      ],
      "metadata": {
        "id": "aRVMtGvF6eqZ"
      },
      "execution_count": null,
      "outputs": []
    },
    {
      "cell_type": "markdown",
      "source": [
        "* Google Driveの適当なディレクトリに保存する。"
      ],
      "metadata": {
        "id": "F9sAhaRjuen6"
      }
    },
    {
      "cell_type": "code",
      "source": [
        "import os\n",
        "import numpy as np\n",
        "\n",
        "data_dir = \"/content/drive/MyDrive/2024courses/nlp/livedoor/gpu\"\n",
        "\n",
        "with open(os.path.join(data_dir, 'train_embeddings.npy'), 'wb') as f:\n",
        "  np.save(f, train_embeddings)"
      ],
      "metadata": {
        "id": "Txn_GkkGrIlz"
      },
      "execution_count": null,
      "outputs": []
    },
    {
      "cell_type": "markdown",
      "source": [
        "* 検証セットとテストセットも埋め込む。"
      ],
      "metadata": {
        "id": "4ceXQjZL5Vzv"
      }
    },
    {
      "cell_type": "code",
      "source": [
        "validation_embeddings = model.encode(ds[\"validation\"][\"content\"], show_progress_bar=True)\n",
        "test_embeddings = model.encode(ds[\"test\"][\"content\"], show_progress_bar=True)"
      ],
      "metadata": {
        "id": "pyUZjjN986IM"
      },
      "execution_count": null,
      "outputs": []
    },
    {
      "cell_type": "code",
      "source": [
        "with open(os.path.join(data_dir, 'validation_embeddings.npy'), 'wb') as f:\n",
        "  np.save(f, validation_embeddings)\n",
        "with open(os.path.join(data_dir, 'test_embeddings.npy'), 'wb') as f:\n",
        "  np.save(f, test_embeddings)"
      ],
      "metadata": {
        "id": "SAne7oVm6q2R"
      },
      "execution_count": null,
      "outputs": []
    },
    {
      "cell_type": "markdown",
      "source": [
        "### 埋め込みベクトルの読み込み"
      ],
      "metadata": {
        "id": "fFdapmPX5G9t"
      }
    },
    {
      "cell_type": "code",
      "source": [
        "import os\n",
        "import numpy as np\n",
        "\n",
        "data_dir = \"/content/drive/MyDrive/2024courses/nlp/livedoor/gpu\"\n",
        "\n",
        "with open(os.path.join(data_dir, 'train_embeddings.npy'), 'rb') as f:\n",
        "  train_embeddings = np.load(f)\n",
        "with open(os.path.join(data_dir, 'validation_embeddings.npy'), 'rb') as f:\n",
        "  validation_embeddings = np.load(f)\n",
        "with open(os.path.join(data_dir, 'test_embeddings.npy'), 'rb') as f:\n",
        "  test_embeddings = np.load(f)"
      ],
      "metadata": {
        "id": "0wapj_W4-CAv"
      },
      "execution_count": null,
      "outputs": []
    },
    {
      "cell_type": "code",
      "source": [
        "train_embeddings.shape"
      ],
      "metadata": {
        "id": "rzusHWRs-eEJ"
      },
      "execution_count": null,
      "outputs": []
    },
    {
      "cell_type": "markdown",
      "source": [
        "## SVMによる分類"
      ],
      "metadata": {
        "id": "aAD8VBhKBY9z"
      }
    },
    {
      "cell_type": "markdown",
      "source": [
        "* 訓練セットと検証をセットを結合する。\n",
        "  * 後で交差検証をするため。"
      ],
      "metadata": {
        "id": "Nc7ZyDzZ5syj"
      }
    },
    {
      "cell_type": "code",
      "source": [
        "embeddings = np.concatenate([train_embeddings, validation_embeddings])\n",
        "labels = np.array(ds[\"train\"][\"category\"] + ds[\"validation\"][\"category\"])"
      ],
      "metadata": {
        "id": "SfeHsHa8-vs5"
      },
      "execution_count": null,
      "outputs": []
    },
    {
      "cell_type": "markdown",
      "source": [
        "* 交差検証によりハイパーパラメータをチューニングする。"
      ],
      "metadata": {
        "id": "_QjbSQdi5z0j"
      }
    },
    {
      "cell_type": "code",
      "source": [
        "from sklearn.model_selection import StratifiedKFold\n",
        "from sklearn.svm import LinearSVC\n",
        "\n",
        "skf = StratifiedKFold(n_splits=5, shuffle=True, random_state=1234)\n",
        "\n",
        "for C in 10. ** np.arange(-1, 4):\n",
        "  scores = []\n",
        "  skf_split = skf.split(embeddings, labels)\n",
        "  for train_index, val_index in skf_split:\n",
        "    X_train = embeddings[train_index]\n",
        "    clf = LinearSVC(C=C, dual=False, max_iter=1000, random_state=123)\n",
        "    clf.fit(X_train, labels[train_index])\n",
        "    X_val = embeddings[val_index]\n",
        "    score = clf.score(X_val, labels[val_index])\n",
        "    print(f\"\\t{score:.3f}\", end=\" \")\n",
        "    scores.append(score)\n",
        "  print(f\"\\nmean accuracy: {np.array(scores).mean():.3f}\", end=\"\")\n",
        "  print(f\" | C={C:.2e}\")"
      ],
      "metadata": {
        "id": "Bxw-bK-u-fsg"
      },
      "execution_count": null,
      "outputs": []
    },
    {
      "cell_type": "markdown",
      "source": [
        "* 選ばれた設定をテストセットで評価する。"
      ],
      "metadata": {
        "id": "cRefk2yR58gB"
      }
    },
    {
      "cell_type": "code",
      "source": [
        "from sklearn.svm import LinearSVC\n",
        "\n",
        "clf = LinearSVC(C=10.0, dual=False, max_iter=1000, random_state=123)\n",
        "clf.fit(embeddings, labels)\n",
        "score = clf.score(test_embeddings, ds[\"test\"][\"category\"])\n",
        "print(f\"{score:.3f}\")"
      ],
      "metadata": {
        "id": "h4x0zZ9R_HXP"
      },
      "execution_count": null,
      "outputs": []
    },
    {
      "cell_type": "markdown",
      "source": [
        "# 課題\n",
        "* 作成済みの埋め込みベクトルを使って・・・\n",
        "* 分類手法のほう（SVM以外でも構わない）だけをチューニングすることで・・・\n",
        "* どのくらい分類性能を上げられるか、試行錯誤してみてください。\n",
        "  * 今回の課題では、そんなに良い分類性能は出せないと思います。\n",
        "  * パラメータ数が数億個の言語モデルであれば、ファインチューニングして使うのが、通常です。\n",
        "  * その方法は、いずれ説明します。"
      ],
      "metadata": {
        "id": "9g61VhqPf5tq"
      }
    },
    {
      "cell_type": "code",
      "source": [],
      "metadata": {
        "id": "fHKqKqKjgNHX"
      },
      "execution_count": null,
      "outputs": []
    }
  ]
}