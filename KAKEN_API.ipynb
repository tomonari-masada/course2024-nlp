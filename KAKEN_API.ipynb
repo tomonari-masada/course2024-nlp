{
  "nbformat": 4,
  "nbformat_minor": 0,
  "metadata": {
    "colab": {
      "provenance": [],
      "authorship_tag": "ABX9TyMvPy8iVM2FUZ7O13nWWGzs",
      "include_colab_link": true
    },
    "kernelspec": {
      "name": "python3",
      "display_name": "Python 3"
    },
    "language_info": {
      "name": "python"
    }
  },
  "cells": [
    {
      "cell_type": "markdown",
      "metadata": {
        "id": "view-in-github",
        "colab_type": "text"
      },
      "source": [
        "<a href=\"https://colab.research.google.com/github/tomonari-masada/course2024-nlp/blob/main/KAKEN_API.ipynb\" target=\"_parent\"><img src=\"https://colab.research.google.com/assets/colab-badge.svg\" alt=\"Open In Colab\"/></a>"
      ]
    },
    {
      "cell_type": "markdown",
      "source": [
        "# 科研費データをAPIで取得する方法"
      ],
      "metadata": {
        "id": "1PpeEJGej8cT"
      }
    },
    {
      "cell_type": "markdown",
      "source": [
        "## 利用規約\n",
        "* https://support.nii.ac.jp/sites/default/files/cinii/webapi-term.pdf\n",
        "  * 「作成アプリケーション等によって，研究所及び第三者のサービスの利用者に影響を与えるような短時間で大量のアクセスを行わないこと。」と書いてあるので、注意しましょう。"
      ],
      "metadata": {
        "id": "el6mzMI6mMi_"
      }
    },
    {
      "cell_type": "markdown",
      "source": [
        "## 開発者としての登録（アプリケーションIDの取得）\n",
        "* まず、開発者としての登録が必要です。\n",
        "* 下記の場所でAPI利用登録をし、アプリケーションIDを取得します。\n",
        "  * https://support.nii.ac.jp/ja/cinii/api/developer\n",
        "* APIを使うときは、このアプリケーションIDを、検索語などと一緒に検索システムに渡します。"
      ],
      "metadata": {
        "id": "0rM7KQQ1jw_e"
      }
    },
    {
      "cell_type": "markdown",
      "source": [
        "## キーワード検索の結果を取得し解析するPython の実装例"
      ],
      "metadata": {
        "id": "S1WznmClla-e"
      }
    },
    {
      "cell_type": "code",
      "execution_count": null,
      "metadata": {
        "id": "DOg5fhjoZB4K"
      },
      "outputs": [],
      "source": [
        "import urllib\n",
        "import requests\n",
        "from bs4 import BeautifulSoup\n",
        "\n",
        "url = \"https://kaken.nii.ac.jp/opensearch/\"\n",
        "\n",
        "# 次の行には自分のアプリケーションIDを書くこと。\n",
        "my_appid = \"xxxxxxxxxxxx\""
      ]
    },
    {
      "cell_type": "markdown",
      "source": [
        "* 検索語など、APIのパラメータを適当に設定する。\n",
        "  * どんなパラメータがあるかについては下記文書を参照。\n",
        "    * https://bitbucket.org/niijp/kaken_definition/src/master/KAKEN_API_parameters_document_Ja.pdf"
      ],
      "metadata": {
        "id": "zL5h5husknVP"
      }
    },
    {
      "cell_type": "code",
      "source": [
        "# 適当に検索語を設定する。\n",
        "query = \"生成AI 医療\"\n",
        "\n",
        "params = {\n",
        "    \"appid\": my_appid,\n",
        "    \"kw\": query,\n",
        "    \"st\": 1,\n",
        "    \"rw\": 20,\n",
        "}"
      ],
      "metadata": {
        "id": "n4RYl12makFZ"
      },
      "execution_count": null,
      "outputs": []
    },
    {
      "cell_type": "markdown",
      "source": [
        "* HTMLを取得する。\n",
        "  * ここではrequestsライブラリのgetを使っている。"
      ],
      "metadata": {
        "id": "-pzPoGZ0kyI5"
      }
    },
    {
      "cell_type": "code",
      "source": [
        "res = requests.get(f\"{url}?{urllib.parse.urlencode(params)}\")\n",
        "soup = BeautifulSoup(res.text, \"html.parser\")"
      ],
      "metadata": {
        "id": "7Ybyg89daUtc"
      },
      "execution_count": null,
      "outputs": []
    },
    {
      "cell_type": "markdown",
      "source": [
        "* 戻ってきたHTMLファイルの解析は、自分で適当に実施する。\n",
        "  * 下記はあくまでひとつの例。"
      ],
      "metadata": {
        "id": "tRcLfN_zkeMt"
      }
    },
    {
      "cell_type": "code",
      "source": [
        "elems = soup.select(\"#result-list > div > div.listContainer > ul > li\")\n",
        "for elem in elems:\n",
        "  project = elem.find_all(\"a\", class_=\"link-page\")[0].text\n",
        "  print(f\"研究課題 {project}\")\n",
        "  for tr in elem.find_all(\"tr\"):\n",
        "    th_text = tr.find_all(\"th\")[0].text.strip()\n",
        "    td_text = tr.find_all(\"td\")[0].text.strip()\n",
        "    td_text = \" \".join([subtext.strip() for subtext in td_text.split(\"\\n\")])\n",
        "    print(th_text, td_text)\n",
        "  print(\"-\"*60)"
      ],
      "metadata": {
        "id": "x1IW7w1wZo1p"
      },
      "execution_count": null,
      "outputs": []
    },
    {
      "cell_type": "code",
      "source": [],
      "metadata": {
        "id": "SIXsFYMlZt29"
      },
      "execution_count": null,
      "outputs": []
    }
  ]
}